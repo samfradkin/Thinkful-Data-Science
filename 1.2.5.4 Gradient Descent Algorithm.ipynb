{
 "cells": [
  {
   "cell_type": "code",
   "execution_count": 1,
   "metadata": {},
   "outputs": [],
   "source": [
    "import warnings\n",
    "\n",
    "import numpy as np\n",
    "import matplotlib.pyplot as plt\n",
    "from sklearn import linear_model\n",
    "\n",
    "warnings.filterwarnings(action='ignore', module='scipy', message='^internal gelsd')"
   ]
  },
  {
   "cell_type": "code",
   "execution_count": 23,
   "metadata": {},
   "outputs": [
    {
     "name": "stdout",
     "output_type": "stream",
     "text": [
      "\n",
      "Coefficients from SKLEARN: \n",
      " [[2.00299188]]\n",
      "\n",
      "Intercept from SKLEARN: \n",
      " [0.45831608]\n",
      "\n",
      "Coefficients from Gradient Descent Algorithm: \n",
      " 1.7786683199498383\n",
      "\n",
      "Intercept from Gradient Descent Algorithm: \n",
      " 0.4111067176654989\n"
     ]
    },
    {
     "data": {
      "image/png": "[encoded data removed]",
      "text/plain": [
       "<Figure size 432x288 with 1 Axes>"
      ]
     },
     "metadata": {},
     "output_type": "display_data"
    },
    {
     "name": "stdout",
     "output_type": "stream",
     "text": [
      "Error:           0.11667734119594744\n",
      "Previous Error:  0.11767170575967319\n",
      "Difference:      0.0009943645637257442\n"
     ]
    }
   ],
   "source": [
    "# Cost function for the linear regression that we will try to optimize\n",
    "def LR_cost_function (alpha, beta, x, y):\n",
    "    '''Return the cost for a given line and data\n",
    "    \n",
    "    Alpha and beta are the coefficients that describe the fit line, while \n",
    "    x and y are lists of arrays with the x and y value of each data point'''\n",
    "    \n",
    "    error = 0\n",
    "    n = len(x)\n",
    "    for i in range(n):\n",
    "        point_error = (y[i] - (alpha + beta * x[i])) ** 2\n",
    "        error += point_error\n",
    "    return error / n\n",
    "\n",
    "\n",
    "# Function we will call each iteration of the gradient algorithm\n",
    "def step (alpha_cur, beta_cur, learning_rate, x, y):\n",
    "    '''Move downhill from a current cost function to a new, more optimal one'''\n",
    "    alpha = 0\n",
    "    beta = 0\n",
    "    n = len(x)\n",
    "    for i in range(n):\n",
    "        # Partial derivative of the intercept\n",
    "        point_alpha = -(2 / n) * (y[i] - ((alpha_cur + beta_cur * x[i])))\n",
    "        alpha += point_alpha\n",
    "        \n",
    "        # Partial derivative of the slope\n",
    "        point_beta = -(2 / n) * x[i] * (y[i] - ((alpha_cur + beta_cur * x[i])))\n",
    "        beta += point_beta\n",
    "        \n",
    "    new_alpha = alpha_cur - learning_rate * alpha\n",
    "    new_beta = beta_cur - learning_rate * beta\n",
    "    return [new_alpha, new_beta]\n",
    "\n",
    "# These constants correspond to the decision points described above\n",
    "\n",
    "# How many steps to take\n",
    "stop = 1000\n",
    "\n",
    "# How far to move with each step\n",
    "learning_rate = 0.005\n",
    "\n",
    "# Starting values for intercept and slope\n",
    "alpha_start = 0\n",
    "beta_start = 0\n",
    "\n",
    "# Generate random data\n",
    "x = np.random.normal(0, 1, 100)\n",
    "y = x * 2 + np.random.sample(100)\n",
    "\n",
    "# Fit a true minimum regression using solved equations\n",
    "regr = linear_model.LinearRegression()\n",
    "regr.fit(x.reshape(-1, 1), y.reshape(-1, 1))\n",
    "\n",
    "print('\\nCoefficients from SKLEARN: \\n', regr.coef_)\n",
    "print('\\nIntercept from SKLEARN: \\n', regr.intercept_)\n",
    "\n",
    "# Now fit an iteravely optimized regression using your custom \n",
    "# Gradient Descent algorithm\n",
    "\n",
    "# Store each iteration for later inspection\n",
    "all_error = []\n",
    "last_error = 1\n",
    "error_dif = 1\n",
    "\n",
    "# Provide starting values\n",
    "alpha = alpha_start\n",
    "beta = beta_start\n",
    "\n",
    "# Run the algorithm\n",
    "for iter in range(stop):\n",
    "    # Take a step, assigning the results of our step function to feed into\n",
    "    # the next step.\n",
    "    alpha, beta = step(alpha, beta, learning_rate, x, y)\n",
    "    \n",
    "    # Calculate the error\n",
    "    error = LR_cost_function(alpha, beta, x, y)\n",
    "        \n",
    "    # Store the error to inspect later\n",
    "    all_error.append(error)\n",
    "    \n",
    "    # Add a stopping threshold\n",
    "    if len(all_error) > 1:\n",
    "        last_error = all_error[-2]\n",
    "        error_dif = error - last_error\n",
    "\n",
    "    if abs(error_dif) <= .001:\n",
    "        break\n",
    "\n",
    "\n",
    "print('\\nCoefficients from Gradient Descent Algorithm: \\n', beta)\n",
    "print('\\nIntercept from Gradient Descent Algorithm: \\n', alpha)\n",
    "\n",
    "plt.plot(all_error, 'o', ms = 0.4)\n",
    "plt.xlabel('Iteration')\n",
    "plt.ylabel('Error')\n",
    "plt.title('Error Scores for Each Iteration')\n",
    "plt.show()\n",
    "\n",
    "print(\"Error:          \", error)\n",
    "print(\"Previous Error: \", last_error)\n",
    "print(\"Difference:     \", abs(error_dif))"
   ]
  }
 ],
 "metadata": {
  "kernelspec": {
   "display_name": "Python 3",
   "language": "python",
   "name": "python3"
  },
  "language_info": {
   "codemirror_mode": {
    "name": "ipython",
    "version": 3
   },
   "file_extension": ".py",
   "mimetype": "text/x-python",
   "name": "python",
   "nbconvert_exporter": "python",
   "pygments_lexer": "ipython3",
   "version": "3.7.0"
  }
 },
 "nbformat": 4,
 "nbformat_minor": 2
}
