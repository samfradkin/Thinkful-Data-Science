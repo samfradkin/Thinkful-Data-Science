{
 "cells": [
  {
   "cell_type": "markdown",
   "metadata": {},
   "source": [
    "# 1.3.3.4 Challenge - Advanced Regression\n",
    "### Sam Fradkin"
   ]
  },
  {
   "cell_type": "markdown",
   "metadata": {},
   "source": [
    "# Challenge\n",
    "\n",
    "_Now that you have two new regression methods at your fingertips, it's time to give them a spin. In fact, for this challenge, let's put them together! Pick a dataset of your choice with a binary outcome and the potential for at least 15 features. If you're drawing a blank, the crime rates in 2013 dataset has a lot of variables that could be made into a modelable binary outcome._\n",
    "\n",
    "_Engineer your features, then create three models. Each model will be run on a training set and a test-set (or multiple test-sets, if you take a folds approach). The models should be:_\n",
    "\n",
    "_1) Vanilla logistic regression_<br>\n",
    "_2) Ridge logistic regression_<br>\n",
    "_3) Lasso logistic regression_<br>\n",
    "\n",
    "_If you're stuck on how to begin combining your two new modeling skills, here's a hint: the SKlearn LogisticRegression method has a \"penalty\" argument that takes either 'l1' or 'l2' as a value._\n",
    "\n",
    "_In your report, evaluate all three models and decide on your best. Be clear about the decisions you made that led to these models (feature selection, regularization parameter selection, model evaluation criteria) and why you think that particular model is the best of the three. Also reflect on the strengths and limitations of regression as a modeling approach. Were there things you couldn't do but you wish you could have done?_\n",
    "\n",
    "_Record your work and reflections in a notebook to discuss with your mentor._"
   ]
  },
  {
   "cell_type": "markdown",
   "metadata": {},
   "source": [
    "## 1) Imports "
   ]
  },
  {
   "cell_type": "code",
   "execution_count": 2,
   "metadata": {},
   "outputs": [],
   "source": [
    "import pandas as pd\n",
    "import numpy as np\n",
    "import matplotlib.pyplot as plt\n",
    "import seaborn as sns\n",
    "sns.set_style('white')\n",
    "%matplotlib inline\n",
    "\n",
    "import math\n",
    "from sklearn.model_selection import train_test_split\n",
    "from sklearn.linear_model import LogisticRegression, RidgeClassifier, Lasso, Ridge\n",
    "from sklearn.metrics import classification_report, confusion_matrix\n",
    "from sklearn import preprocessing\n",
    "\n",
    "import warnings\n",
    "warnings.filterwarnings(\"ignore\")"
   ]
  },
  {
   "cell_type": "markdown",
   "metadata": {},
   "source": [
    "## 2) Dataset"
   ]
  },
  {
   "cell_type": "code",
   "execution_count": 3,
   "metadata": {},
   "outputs": [
    {
     "data": {
      "text/html": [
       "<div>\n",
       "<style scoped>\n",
       "    .dataframe tbody tr th:only-of-type {\n",
       "        vertical-align: middle;\n",
       "    }\n",
       "\n",
       "    .dataframe tbody tr th {\n",
       "        vertical-align: top;\n",
       "    }\n",
       "\n",
       "    .dataframe thead th {\n",
       "        text-align: right;\n",
       "    }\n",
       "</style>\n",
       "<table border=\"1\" class=\"dataframe\">\n",
       "  <thead>\n",
       "    <tr style=\"text-align: right;\">\n",
       "      <th></th>\n",
       "      <th>Survived</th>\n",
       "      <th>Age</th>\n",
       "      <th>Female</th>\n",
       "      <th>SibSp</th>\n",
       "      <th>Parch</th>\n",
       "      <th>Class</th>\n",
       "      <th>Fare</th>\n",
       "      <th>EmbC</th>\n",
       "      <th>EmbQ</th>\n",
       "      <th>EmbS</th>\n",
       "    </tr>\n",
       "  </thead>\n",
       "  <tbody>\n",
       "    <tr>\n",
       "      <th>0</th>\n",
       "      <td>1</td>\n",
       "      <td>1</td>\n",
       "      <td>0</td>\n",
       "      <td>0</td>\n",
       "      <td>1</td>\n",
       "      <td>3</td>\n",
       "      <td>8.52</td>\n",
       "      <td>1</td>\n",
       "      <td>0</td>\n",
       "      <td>0</td>\n",
       "    </tr>\n",
       "    <tr>\n",
       "      <th>1</th>\n",
       "      <td>1</td>\n",
       "      <td>1</td>\n",
       "      <td>0</td>\n",
       "      <td>1</td>\n",
       "      <td>1</td>\n",
       "      <td>2</td>\n",
       "      <td>14.50</td>\n",
       "      <td>0</td>\n",
       "      <td>0</td>\n",
       "      <td>1</td>\n",
       "    </tr>\n",
       "    <tr>\n",
       "      <th>2</th>\n",
       "      <td>1</td>\n",
       "      <td>1</td>\n",
       "      <td>1</td>\n",
       "      <td>2</td>\n",
       "      <td>1</td>\n",
       "      <td>3</td>\n",
       "      <td>19.26</td>\n",
       "      <td>1</td>\n",
       "      <td>0</td>\n",
       "      <td>0</td>\n",
       "    </tr>\n",
       "    <tr>\n",
       "      <th>3</th>\n",
       "      <td>1</td>\n",
       "      <td>1</td>\n",
       "      <td>1</td>\n",
       "      <td>2</td>\n",
       "      <td>1</td>\n",
       "      <td>3</td>\n",
       "      <td>19.26</td>\n",
       "      <td>1</td>\n",
       "      <td>0</td>\n",
       "      <td>0</td>\n",
       "    </tr>\n",
       "    <tr>\n",
       "      <th>4</th>\n",
       "      <td>1</td>\n",
       "      <td>1</td>\n",
       "      <td>0</td>\n",
       "      <td>0</td>\n",
       "      <td>2</td>\n",
       "      <td>2</td>\n",
       "      <td>29.00</td>\n",
       "      <td>0</td>\n",
       "      <td>0</td>\n",
       "      <td>1</td>\n",
       "    </tr>\n",
       "  </tbody>\n",
       "</table>\n",
       "</div>"
      ],
      "text/plain": [
       "   Survived  Age  Female  SibSp  Parch  Class   Fare  EmbC  EmbQ  EmbS\n",
       "0         1    1       0      0      1      3   8.52     1     0     0\n",
       "1         1    1       0      1      1      2  14.50     0     0     1\n",
       "2         1    1       1      2      1      3  19.26     1     0     0\n",
       "3         1    1       1      2      1      3  19.26     1     0     0\n",
       "4         1    1       0      0      2      2  29.00     0     0     1"
      ]
     },
     "execution_count": 3,
     "metadata": {},
     "output_type": "execute_result"
    }
   ],
   "source": [
    "train = pd.read_csv('Titanic Train Clean.csv')\n",
    "train.head()"
   ]
  },
  {
   "cell_type": "code",
   "execution_count": 6,
   "metadata": {},
   "outputs": [
    {
     "name": "stdout",
     "output_type": "stream",
     "text": [
      "<class 'pandas.core.frame.DataFrame'>\n",
      "RangeIndex: 714 entries, 0 to 713\n",
      "Data columns (total 10 columns):\n",
      "Survived    714 non-null int64\n",
      "Age         714 non-null int64\n",
      "Female      714 non-null int64\n",
      "SibSp       714 non-null int64\n",
      "Parch       714 non-null int64\n",
      "Class       714 non-null int64\n",
      "Fare        714 non-null float64\n",
      "EmbC        714 non-null int64\n",
      "EmbQ        714 non-null int64\n",
      "EmbS        714 non-null int64\n",
      "dtypes: float64(1), int64(9)\n",
      "memory usage: 55.9 KB\n"
     ]
    }
   ],
   "source": [
    "train.info()"
   ]
  },
  {
   "cell_type": "code",
   "execution_count": 7,
   "metadata": {},
   "outputs": [
    {
     "data": {
      "text/html": [
       "<div>\n",
       "<style scoped>\n",
       "    .dataframe tbody tr th:only-of-type {\n",
       "        vertical-align: middle;\n",
       "    }\n",
       "\n",
       "    .dataframe tbody tr th {\n",
       "        vertical-align: top;\n",
       "    }\n",
       "\n",
       "    .dataframe thead th {\n",
       "        text-align: right;\n",
       "    }\n",
       "</style>\n",
       "<table border=\"1\" class=\"dataframe\">\n",
       "  <thead>\n",
       "    <tr style=\"text-align: right;\">\n",
       "      <th></th>\n",
       "      <th>Survived</th>\n",
       "      <th>Age</th>\n",
       "      <th>Female</th>\n",
       "      <th>SibSp</th>\n",
       "      <th>Parch</th>\n",
       "      <th>Class</th>\n",
       "      <th>Fare</th>\n",
       "      <th>EmbC</th>\n",
       "      <th>EmbQ</th>\n",
       "      <th>EmbS</th>\n",
       "    </tr>\n",
       "  </thead>\n",
       "  <tbody>\n",
       "    <tr>\n",
       "      <th>count</th>\n",
       "      <td>714.000000</td>\n",
       "      <td>714.000000</td>\n",
       "      <td>714.000000</td>\n",
       "      <td>714.000000</td>\n",
       "      <td>714.000000</td>\n",
       "      <td>714.000000</td>\n",
       "      <td>714.000000</td>\n",
       "      <td>714.000000</td>\n",
       "      <td>714.000000</td>\n",
       "      <td>714.000000</td>\n",
       "    </tr>\n",
       "    <tr>\n",
       "      <th>mean</th>\n",
       "      <td>0.406162</td>\n",
       "      <td>29.714286</td>\n",
       "      <td>0.365546</td>\n",
       "      <td>0.512605</td>\n",
       "      <td>0.431373</td>\n",
       "      <td>2.236695</td>\n",
       "      <td>34.695294</td>\n",
       "      <td>0.182073</td>\n",
       "      <td>0.039216</td>\n",
       "      <td>0.778711</td>\n",
       "    </tr>\n",
       "    <tr>\n",
       "      <th>std</th>\n",
       "      <td>0.491460</td>\n",
       "      <td>14.526453</td>\n",
       "      <td>0.481921</td>\n",
       "      <td>0.929783</td>\n",
       "      <td>0.853289</td>\n",
       "      <td>0.838250</td>\n",
       "      <td>52.918912</td>\n",
       "      <td>0.386175</td>\n",
       "      <td>0.194244</td>\n",
       "      <td>0.415405</td>\n",
       "    </tr>\n",
       "    <tr>\n",
       "      <th>min</th>\n",
       "      <td>0.000000</td>\n",
       "      <td>1.000000</td>\n",
       "      <td>0.000000</td>\n",
       "      <td>0.000000</td>\n",
       "      <td>0.000000</td>\n",
       "      <td>1.000000</td>\n",
       "      <td>0.000000</td>\n",
       "      <td>0.000000</td>\n",
       "      <td>0.000000</td>\n",
       "      <td>0.000000</td>\n",
       "    </tr>\n",
       "    <tr>\n",
       "      <th>25%</th>\n",
       "      <td>0.000000</td>\n",
       "      <td>20.250000</td>\n",
       "      <td>0.000000</td>\n",
       "      <td>0.000000</td>\n",
       "      <td>0.000000</td>\n",
       "      <td>1.000000</td>\n",
       "      <td>8.050000</td>\n",
       "      <td>0.000000</td>\n",
       "      <td>0.000000</td>\n",
       "      <td>1.000000</td>\n",
       "    </tr>\n",
       "    <tr>\n",
       "      <th>50%</th>\n",
       "      <td>0.000000</td>\n",
       "      <td>28.000000</td>\n",
       "      <td>0.000000</td>\n",
       "      <td>0.000000</td>\n",
       "      <td>0.000000</td>\n",
       "      <td>2.000000</td>\n",
       "      <td>15.740000</td>\n",
       "      <td>0.000000</td>\n",
       "      <td>0.000000</td>\n",
       "      <td>1.000000</td>\n",
       "    </tr>\n",
       "    <tr>\n",
       "      <th>75%</th>\n",
       "      <td>1.000000</td>\n",
       "      <td>38.000000</td>\n",
       "      <td>1.000000</td>\n",
       "      <td>1.000000</td>\n",
       "      <td>1.000000</td>\n",
       "      <td>3.000000</td>\n",
       "      <td>33.375000</td>\n",
       "      <td>0.000000</td>\n",
       "      <td>0.000000</td>\n",
       "      <td>1.000000</td>\n",
       "    </tr>\n",
       "    <tr>\n",
       "      <th>max</th>\n",
       "      <td>1.000000</td>\n",
       "      <td>80.000000</td>\n",
       "      <td>1.000000</td>\n",
       "      <td>5.000000</td>\n",
       "      <td>6.000000</td>\n",
       "      <td>3.000000</td>\n",
       "      <td>512.330000</td>\n",
       "      <td>1.000000</td>\n",
       "      <td>1.000000</td>\n",
       "      <td>1.000000</td>\n",
       "    </tr>\n",
       "  </tbody>\n",
       "</table>\n",
       "</div>"
      ],
      "text/plain": [
       "         Survived         Age      Female       SibSp       Parch       Class  \\\n",
       "count  714.000000  714.000000  714.000000  714.000000  714.000000  714.000000   \n",
       "mean     0.406162   29.714286    0.365546    0.512605    0.431373    2.236695   \n",
       "std      0.491460   14.526453    0.481921    0.929783    0.853289    0.838250   \n",
       "min      0.000000    1.000000    0.000000    0.000000    0.000000    1.000000   \n",
       "25%      0.000000   20.250000    0.000000    0.000000    0.000000    1.000000   \n",
       "50%      0.000000   28.000000    0.000000    0.000000    0.000000    2.000000   \n",
       "75%      1.000000   38.000000    1.000000    1.000000    1.000000    3.000000   \n",
       "max      1.000000   80.000000    1.000000    5.000000    6.000000    3.000000   \n",
       "\n",
       "             Fare        EmbC        EmbQ        EmbS  \n",
       "count  714.000000  714.000000  714.000000  714.000000  \n",
       "mean    34.695294    0.182073    0.039216    0.778711  \n",
       "std     52.918912    0.386175    0.194244    0.415405  \n",
       "min      0.000000    0.000000    0.000000    0.000000  \n",
       "25%      8.050000    0.000000    0.000000    1.000000  \n",
       "50%     15.740000    0.000000    0.000000    1.000000  \n",
       "75%     33.375000    0.000000    0.000000    1.000000  \n",
       "max    512.330000    1.000000    1.000000    1.000000  "
      ]
     },
     "execution_count": 7,
     "metadata": {},
     "output_type": "execute_result"
    }
   ],
   "source": [
    "train.describe()"
   ]
  },
  {
   "cell_type": "code",
   "execution_count": 10,
   "metadata": {},
   "outputs": [
    {
     "data": {
      "image/png": "[encoded data removed]",
      "text/plain": [
       "<Figure size 1008x432 with 2 Axes>"
      ]
     },
     "metadata": {},
     "output_type": "display_data"
    }
   ],
   "source": [
    "# Let's plot some of the data to get a sense of the picture it paints\n",
    "\n",
    "f, axes = plt.subplots(1, 2, sharey = True, figsize=(14,6))\n",
    "sns.countplot(x = 'Survived', hue = 'Female', palette = 'RdBu_r', data = train, ax = axes[0])\n",
    "sns.countplot(x = 'Survived', hue = 'Class', data = train, ax = axes[1])\n",
    "plt.tight_layout()\n",
    "plt.show()"
   ]
  },
  {
   "cell_type": "markdown",
   "metadata": {},
   "source": [
    "## 3) Modeling"
   ]
  },
  {
   "cell_type": "code",
   "execution_count": 11,
   "metadata": {},
   "outputs": [],
   "source": [
    "# Let's start with our modeling process by splitting the dataframe into our features and our target feature\n",
    "X = train.drop('Survived', axis = 1)\n",
    "y = train['Survived']"
   ]
  },
  {
   "cell_type": "code",
   "execution_count": 12,
   "metadata": {},
   "outputs": [],
   "source": [
    "# Try some crossvalidation on our dataset\n",
    "X_train, X_test, y_train, y_test = train_test_split(X, y, test_size=0.33, random_state=42)"
   ]
  },
  {
   "cell_type": "markdown",
   "metadata": {},
   "source": [
    "### 3A) Vanilla Logistic Regression Model (Dataset as is)\n",
    "\n",
    "Let's run the vanilla model before we engineer added features just to see how it performs."
   ]
  },
  {
   "cell_type": "code",
   "execution_count": 14,
   "metadata": {},
   "outputs": [],
   "source": [
    "# Run Vanilla Logistic Regression on the dataset and see what results we get\n",
    "logreg = LogisticRegression()\n",
    "logreg.fit(X_train, y_train)\n",
    "predictions = logreg.predict(X_test)"
   ]
  },
  {
   "cell_type": "code",
   "execution_count": 15,
   "metadata": {},
   "outputs": [
    {
     "name": "stdout",
     "output_type": "stream",
     "text": [
      "---------- RESULTS ----------\n",
      "\n",
      "--- R-SQUARED ---\n",
      "0.8177966101694916\n",
      "\n",
      "--- CONFUSION MATRIX ---\n",
      "[[119  24]\n",
      " [ 19  74]]\n",
      "\n",
      "--- PERFORMANCE ---\n",
      "              precision    recall  f1-score   support\n",
      "\n",
      "           0       0.86      0.83      0.85       143\n",
      "           1       0.76      0.80      0.77        93\n",
      "\n",
      "   micro avg       0.82      0.82      0.82       236\n",
      "   macro avg       0.81      0.81      0.81       236\n",
      "weighted avg       0.82      0.82      0.82       236\n",
      "\n",
      "\n",
      "--- INTERCEPTS ---\n",
      "[[-3.49547657e-02  2.41077997e+00 -2.33371287e-01 -4.94697975e-02\n",
      "  -1.05427257e+00  2.36193042e-03  1.02421604e+00  5.17612913e-02\n",
      "   4.90668826e-01]]\n"
     ]
    }
   ],
   "source": [
    "print('---------- RESULTS ----------')\n",
    "print()\n",
    "print('--- R-SQUARED ---')\n",
    "print(logreg.score(X_test, y_test))\n",
    "print('\\n--- CONFUSION MATRIX ---')\n",
    "print(confusion_matrix(y_test, predictions))\n",
    "print('\\n--- PERFORMANCE ---')\n",
    "print(classification_report(y_test, predictions))\n",
    "print('\\n--- INTERCEPTS ---')\n",
    "print(logreg.coef_)"
   ]
  },
  {
   "cell_type": "markdown",
   "metadata": {},
   "source": [
    "It looks like it performs quite well as is! Let's add more features, run it again, and try Ridge and Lasso as well.\n",
    "\n",
    "### 3B) Vanilla Logistic Regression Model (Adding Features)"
   ]
  },
  {
   "cell_type": "code",
   "execution_count": 16,
   "metadata": {},
   "outputs": [
    {
     "data": {
      "text/plain": [
       "count    714.000000\n",
       "mean      29.714286\n",
       "std       14.526453\n",
       "min        1.000000\n",
       "25%       20.250000\n",
       "50%       28.000000\n",
       "75%       38.000000\n",
       "max       80.000000\n",
       "Name: Age, dtype: float64"
      ]
     },
     "execution_count": 16,
     "metadata": {},
     "output_type": "execute_result"
    }
   ],
   "source": [
    "# Check out the Age feature and see if we can convert that into multiple Boolean features\n",
    "train['Age'].describe()"
   ]
  },
  {
   "cell_type": "code",
   "execution_count": 17,
   "metadata": {},
   "outputs": [
    {
     "data": {
      "text/plain": [
       "count    714.000000\n",
       "mean      34.695294\n",
       "std       52.918912\n",
       "min        0.000000\n",
       "25%        8.050000\n",
       "50%       15.740000\n",
       "75%       33.375000\n",
       "max      512.330000\n",
       "Name: Fare, dtype: float64"
      ]
     },
     "execution_count": 17,
     "metadata": {},
     "output_type": "execute_result"
    }
   ],
   "source": [
    "# Check out the Fare feature and see if we can convert that into multiple Boolean features\n",
    "train['Fare'].describe()"
   ]
  },
  {
   "cell_type": "code",
   "execution_count": 20,
   "metadata": {},
   "outputs": [],
   "source": [
    "# Create new features for the Age column\n",
    "train['Age_Child']  = np.where((train['Age'] >= 17), 1, 0)\n",
    "train['Age_Adult']  = np.where((train['Age'] <  17) & (train['Age'] < 60), 1, 0)\n",
    "train['Age_Senior'] = np.where((train['Age'] >  60), 1, 0)\n",
    "\n",
    "# Create new features for the Fare column\n",
    "train['Fare_Low']  = np.where((train['Fare'] >= 25), 1, 0)\n",
    "train['Fare_Med']  = np.where((train['Fare'] <  25) & (train['Fare'] < 100), 1, 0)\n",
    "train['Fare_High'] = np.where((train['Fare'] > 100), 1, 0)\n",
    "\n",
    "# Create new features for the Class column\n",
    "train['Class1'] = np.where((train['Class'] == 1), 1, 0)\n",
    "train['Class2'] = np.where((train['Class'] == 2), 1, 0)\n",
    "train['Class3'] = np.where((train['Class'] == 3), 1, 0)\n",
    "\n",
    "# Drop the original columns that we just changed\n",
    "train.drop(['Age', 'Fare', 'Class'], axis = 1, inplace = True)"
   ]
  },
  {
   "cell_type": "code",
   "execution_count": 21,
   "metadata": {},
   "outputs": [
    {
     "data": {
      "text/html": [
       "<div>\n",
       "<style scoped>\n",
       "    .dataframe tbody tr th:only-of-type {\n",
       "        vertical-align: middle;\n",
       "    }\n",
       "\n",
       "    .dataframe tbody tr th {\n",
       "        vertical-align: top;\n",
       "    }\n",
       "\n",
       "    .dataframe thead th {\n",
       "        text-align: right;\n",
       "    }\n",
       "</style>\n",
       "<table border=\"1\" class=\"dataframe\">\n",
       "  <thead>\n",
       "    <tr style=\"text-align: right;\">\n",
       "      <th></th>\n",
       "      <th>Survived</th>\n",
       "      <th>Female</th>\n",
       "      <th>SibSp</th>\n",
       "      <th>Parch</th>\n",
       "      <th>EmbC</th>\n",
       "      <th>EmbQ</th>\n",
       "      <th>EmbS</th>\n",
       "      <th>Age_Child</th>\n",
       "      <th>Age_Adult</th>\n",
       "      <th>Age_Senior</th>\n",
       "      <th>Fare_Low</th>\n",
       "      <th>Fare_Med</th>\n",
       "      <th>Fare_High</th>\n",
       "      <th>Class1</th>\n",
       "      <th>Class2</th>\n",
       "      <th>Class3</th>\n",
       "    </tr>\n",
       "  </thead>\n",
       "  <tbody>\n",
       "    <tr>\n",
       "      <th>0</th>\n",
       "      <td>1</td>\n",
       "      <td>0</td>\n",
       "      <td>0</td>\n",
       "      <td>1</td>\n",
       "      <td>1</td>\n",
       "      <td>0</td>\n",
       "      <td>0</td>\n",
       "      <td>0</td>\n",
       "      <td>1</td>\n",
       "      <td>0</td>\n",
       "      <td>0</td>\n",
       "      <td>1</td>\n",
       "      <td>0</td>\n",
       "      <td>0</td>\n",
       "      <td>0</td>\n",
       "      <td>1</td>\n",
       "    </tr>\n",
       "    <tr>\n",
       "      <th>1</th>\n",
       "      <td>1</td>\n",
       "      <td>0</td>\n",
       "      <td>1</td>\n",
       "      <td>1</td>\n",
       "      <td>0</td>\n",
       "      <td>0</td>\n",
       "      <td>1</td>\n",
       "      <td>0</td>\n",
       "      <td>1</td>\n",
       "      <td>0</td>\n",
       "      <td>0</td>\n",
       "      <td>1</td>\n",
       "      <td>0</td>\n",
       "      <td>0</td>\n",
       "      <td>1</td>\n",
       "      <td>0</td>\n",
       "    </tr>\n",
       "    <tr>\n",
       "      <th>2</th>\n",
       "      <td>1</td>\n",
       "      <td>1</td>\n",
       "      <td>2</td>\n",
       "      <td>1</td>\n",
       "      <td>1</td>\n",
       "      <td>0</td>\n",
       "      <td>0</td>\n",
       "      <td>0</td>\n",
       "      <td>1</td>\n",
       "      <td>0</td>\n",
       "      <td>0</td>\n",
       "      <td>1</td>\n",
       "      <td>0</td>\n",
       "      <td>0</td>\n",
       "      <td>0</td>\n",
       "      <td>1</td>\n",
       "    </tr>\n",
       "    <tr>\n",
       "      <th>3</th>\n",
       "      <td>1</td>\n",
       "      <td>1</td>\n",
       "      <td>2</td>\n",
       "      <td>1</td>\n",
       "      <td>1</td>\n",
       "      <td>0</td>\n",
       "      <td>0</td>\n",
       "      <td>0</td>\n",
       "      <td>1</td>\n",
       "      <td>0</td>\n",
       "      <td>0</td>\n",
       "      <td>1</td>\n",
       "      <td>0</td>\n",
       "      <td>0</td>\n",
       "      <td>0</td>\n",
       "      <td>1</td>\n",
       "    </tr>\n",
       "    <tr>\n",
       "      <th>4</th>\n",
       "      <td>1</td>\n",
       "      <td>0</td>\n",
       "      <td>0</td>\n",
       "      <td>2</td>\n",
       "      <td>0</td>\n",
       "      <td>0</td>\n",
       "      <td>1</td>\n",
       "      <td>0</td>\n",
       "      <td>1</td>\n",
       "      <td>0</td>\n",
       "      <td>1</td>\n",
       "      <td>0</td>\n",
       "      <td>0</td>\n",
       "      <td>0</td>\n",
       "      <td>1</td>\n",
       "      <td>0</td>\n",
       "    </tr>\n",
       "  </tbody>\n",
       "</table>\n",
       "</div>"
      ],
      "text/plain": [
       "   Survived  Female  SibSp  Parch  EmbC  EmbQ  EmbS  Age_Child  Age_Adult  \\\n",
       "0         1       0      0      1     1     0     0          0          1   \n",
       "1         1       0      1      1     0     0     1          0          1   \n",
       "2         1       1      2      1     1     0     0          0          1   \n",
       "3         1       1      2      1     1     0     0          0          1   \n",
       "4         1       0      0      2     0     0     1          0          1   \n",
       "\n",
       "   Age_Senior  Fare_Low  Fare_Med  Fare_High  Class1  Class2  Class3  \n",
       "0           0         0         1          0       0       0       1  \n",
       "1           0         0         1          0       0       1       0  \n",
       "2           0         0         1          0       0       0       1  \n",
       "3           0         0         1          0       0       0       1  \n",
       "4           0         1         0          0       0       1       0  "
      ]
     },
     "execution_count": 21,
     "metadata": {},
     "output_type": "execute_result"
    }
   ],
   "source": [
    "# Check out what the dataset looks like now\n",
    "train.head()"
   ]
  },
  {
   "cell_type": "code",
   "execution_count": 22,
   "metadata": {},
   "outputs": [],
   "source": [
    "# Reseparate the features from the target feature\n",
    "X = train.drop('Survived', axis = 1)\n",
    "y = train['Survived']"
   ]
  },
  {
   "cell_type": "code",
   "execution_count": 23,
   "metadata": {},
   "outputs": [],
   "source": [
    "# Try some crossvalidation on our dataset\n",
    "X_train, X_test, y_train, y_test = train_test_split(X, y, test_size=0.33, random_state=42)"
   ]
  },
  {
   "cell_type": "code",
   "execution_count": 24,
   "metadata": {},
   "outputs": [],
   "source": [
    "# Run Vanilla Logistic Regression on the dataset and see what results we get\n",
    "logreg = LogisticRegression()\n",
    "logreg.fit(X_train, y_train)\n",
    "predictions = logreg.predict(X_test)"
   ]
  },
  {
   "cell_type": "code",
   "execution_count": 25,
   "metadata": {},
   "outputs": [
    {
     "name": "stdout",
     "output_type": "stream",
     "text": [
      "---------- RESULTS ----------\n",
      "\n",
      "--- R-SQUARED ---\n",
      "0.7966101694915254\n",
      "\n",
      "--- CONFUSION MATRIX ---\n",
      "[[118  25]\n",
      " [ 23  70]]\n",
      "\n",
      "--- PERFORMANCE ---\n",
      "              precision    recall  f1-score   support\n",
      "\n",
      "           0       0.84      0.83      0.83       143\n",
      "           1       0.74      0.75      0.74        93\n",
      "\n",
      "   micro avg       0.80      0.80      0.80       236\n",
      "   macro avg       0.79      0.79      0.79       236\n",
      "weighted avg       0.80      0.80      0.80       236\n",
      "\n",
      "\n",
      "--- INTERCEPTS ---\n",
      "[[ 2.56802163 -0.38739896 -0.21199063  0.47171758 -0.40347073 -0.0968526\n",
      "  -0.99381025  0.9652045  -0.83311923  0.14097059 -0.16957633 -0.05163987\n",
      "   0.90074808  0.04930301 -0.97865683]]\n"
     ]
    }
   ],
   "source": [
    "print('---------- RESULTS ----------')\n",
    "print()\n",
    "print('--- R-SQUARED ---')\n",
    "print(logreg.score(X_test, y_test))\n",
    "print('\\n--- CONFUSION MATRIX ---')\n",
    "print(confusion_matrix(y_test, predictions))\n",
    "print('\\n--- PERFORMANCE ---')\n",
    "print(classification_report(y_test, predictions))\n",
    "print('\\n--- INTERCEPTS ---')\n",
    "print(logreg.coef_)"
   ]
  },
  {
   "cell_type": "markdown",
   "metadata": {},
   "source": [
    "Turns out the new added features did not make the model any better. It actually was a small amount less accurate.\n",
    "\n",
    "### 3C) Ridge Regression Model"
   ]
  },
  {
   "cell_type": "code",
   "execution_count": 30,
   "metadata": {},
   "outputs": [],
   "source": [
    "ridgereg = RidgeClassifier(alpha = 0.35, fit_intercept = True)\n",
    "ridgereg.fit(X_train, y_train)\n",
    "predictions = ridgereg.predict(X_test)"
   ]
  },
  {
   "cell_type": "code",
   "execution_count": 31,
   "metadata": {},
   "outputs": [
    {
     "name": "stdout",
     "output_type": "stream",
     "text": [
      "---------- RESULTS ----------\n",
      "\n",
      "--- R-SQUARED ---\n",
      "0.7966101694915254\n",
      "\n",
      "--- CONFUSION MATRIX ---\n",
      "[[116  27]\n",
      " [ 21  72]]\n",
      "\n",
      "--- PERFORMANCE ---\n",
      "              precision    recall  f1-score   support\n",
      "\n",
      "           0       0.85      0.81      0.83       143\n",
      "           1       0.73      0.77      0.75        93\n",
      "\n",
      "   micro avg       0.80      0.80      0.80       236\n",
      "   macro avg       0.79      0.79      0.79       236\n",
      "weighted avg       0.80      0.80      0.80       236\n",
      "\n",
      "\n",
      "--- INTERCEPTS ---\n",
      "[[ 0.98182309 -0.12473306 -0.07224079  0.15850752 -0.13551862 -0.02298891\n",
      "  -0.33648632  0.33648632 -0.37008322  0.02759927 -0.02759927 -0.07142555\n",
      "   0.34334753  0.00964463 -0.35299216]]\n"
     ]
    }
   ],
   "source": [
    "print('---------- RESULTS ----------')\n",
    "print()\n",
    "print('--- R-SQUARED ---')\n",
    "print(ridgereg.score(X_test, y_test))\n",
    "print('\\n--- CONFUSION MATRIX ---')\n",
    "print(confusion_matrix(y_test, predictions))\n",
    "print('\\n--- PERFORMANCE ---')\n",
    "print(classification_report(y_test, predictions))\n",
    "print('\\n--- INTERCEPTS ---')\n",
    "print(ridgereg.coef_)"
   ]
  },
  {
   "cell_type": "markdown",
   "metadata": {},
   "source": [
    "Looks like Ridge regression performs almost exactly as regular Vanilla regression. No strong benefits.\n",
    "\n",
    "### 3D) LASSO Regression Model"
   ]
  },
  {
   "cell_type": "code",
   "execution_count": 54,
   "metadata": {},
   "outputs": [],
   "source": [
    "lassoreg = Lasso(alpha = 0.005)\n",
    "lassofit = lassoreg.fit(X_train, y_train)\n",
    "predictions = lassofit.predict(X_test)"
   ]
  },
  {
   "cell_type": "code",
   "execution_count": 55,
   "metadata": {},
   "outputs": [
    {
     "name": "stdout",
     "output_type": "stream",
     "text": [
      "---------- RESULTS ----------\n",
      "\n",
      "--- R-SQUARED ---\n",
      "0.37796512655481385\n",
      "\n",
      "--- INTERCEPTS ---\n",
      "[ 4.68705910e-01 -4.41417384e-02 -1.24007527e-02  7.20251502e-02\n",
      " -0.00000000e+00 -0.00000000e+00 -2.53718104e-01  1.15025668e-15\n",
      " -2.07589537e-02  0.00000000e+00 -0.00000000e+00 -0.00000000e+00\n",
      "  1.49233469e-01  0.00000000e+00 -1.84803585e-01]\n"
     ]
    }
   ],
   "source": [
    "print('---------- RESULTS ----------')\n",
    "print()\n",
    "print('--- R-SQUARED ---')\n",
    "print(lassoreg.score(X_test, y_test))\n",
    "print('\\n--- INTERCEPTS ---')\n",
    "print(lassoreg.coef_)"
   ]
  },
  {
   "cell_type": "markdown",
   "metadata": {},
   "source": [
    "## 4) Results\n",
    "\n",
    "It turns out that the highest-performing model was the simple version of __Vanilla Logistic Regression__ before adding the new features. Additionally, __LASSO Regression__ turned out to perform terribly, most likely due to the fact that there are few "
   ]
  }
 ],
 "metadata": {
  "kernelspec": {
   "display_name": "Python 3",
   "language": "python",
   "name": "python3"
  },
  "language_info": {
   "codemirror_mode": {
    "name": "ipython",
    "version": 3
   },
   "file_extension": ".py",
   "mimetype": "text/x-python",
   "name": "python",
   "nbconvert_exporter": "python",
   "pygments_lexer": "ipython3",
   "version": "3.7.0"
  }
 },
 "nbformat": 4,
 "nbformat_minor": 2
}
