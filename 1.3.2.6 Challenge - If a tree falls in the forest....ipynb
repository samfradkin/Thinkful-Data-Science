{
 "cells": [
  {
   "cell_type": "markdown",
   "metadata": {},
   "source": [
    "# Decision Tree vs. Random Forest"
   ]
  },
  {
   "cell_type": "markdown",
   "metadata": {},
   "source": [
    "## Runtime Test"
   ]
  },
  {
   "cell_type": "markdown",
   "metadata": {},
   "source": [
    "## 1) Intro and Setup"
   ]
  },
  {
   "cell_type": "code",
   "execution_count": 1,
   "metadata": {},
   "outputs": [
    {
     "data": {
      "text/html": [
       "<style>.container { width:100% !important; }</style>"
      ],
      "text/plain": [
       "<IPython.core.display.HTML object>"
      ]
     },
     "metadata": {},
     "output_type": "display_data"
    }
   ],
   "source": [
    "import pandas as pd\n",
    "import numpy as np\n",
    "import time\n",
    "\n",
    "from sklearn import ensemble\n",
    "from sklearn.ensemble import RandomForestClassifier\n",
    "from sklearn.tree import DecisionTreeClassifier\n",
    "from sklearn.metrics import classification_report, confusion_matrix\n",
    "from sklearn.model_selection import train_test_split, cross_val_score\n",
    "\n",
    "from IPython.core.display import display, HTML\n",
    "\n",
    "display(HTML(\"<style>.container { width:100% !important; }</style>\"))\n",
    "pd.set_option('display.max_rows', 100)"
   ]
  },
  {
   "cell_type": "code",
   "execution_count": 2,
   "metadata": {},
   "outputs": [
    {
     "data": {
      "text/html": [
       "<div>\n",
       "<style scoped>\n",
       "    .dataframe tbody tr th:only-of-type {\n",
       "        vertical-align: middle;\n",
       "    }\n",
       "\n",
       "    .dataframe tbody tr th {\n",
       "        vertical-align: top;\n",
       "    }\n",
       "\n",
       "    .dataframe thead th {\n",
       "        text-align: right;\n",
       "    }\n",
       "</style>\n",
       "<table border=\"1\" class=\"dataframe\">\n",
       "  <thead>\n",
       "    <tr style=\"text-align: right;\">\n",
       "      <th></th>\n",
       "      <th>Survived</th>\n",
       "      <th>Age</th>\n",
       "      <th>Female</th>\n",
       "      <th>SibSp</th>\n",
       "      <th>Parch</th>\n",
       "      <th>Class</th>\n",
       "      <th>Fare</th>\n",
       "      <th>EmbC</th>\n",
       "      <th>EmbQ</th>\n",
       "      <th>EmbS</th>\n",
       "    </tr>\n",
       "  </thead>\n",
       "  <tbody>\n",
       "    <tr>\n",
       "      <th>0</th>\n",
       "      <td>1</td>\n",
       "      <td>1</td>\n",
       "      <td>0</td>\n",
       "      <td>0</td>\n",
       "      <td>1</td>\n",
       "      <td>3</td>\n",
       "      <td>8.52</td>\n",
       "      <td>1</td>\n",
       "      <td>0</td>\n",
       "      <td>0</td>\n",
       "    </tr>\n",
       "    <tr>\n",
       "      <th>1</th>\n",
       "      <td>1</td>\n",
       "      <td>1</td>\n",
       "      <td>0</td>\n",
       "      <td>1</td>\n",
       "      <td>1</td>\n",
       "      <td>2</td>\n",
       "      <td>14.50</td>\n",
       "      <td>0</td>\n",
       "      <td>0</td>\n",
       "      <td>1</td>\n",
       "    </tr>\n",
       "    <tr>\n",
       "      <th>2</th>\n",
       "      <td>1</td>\n",
       "      <td>1</td>\n",
       "      <td>1</td>\n",
       "      <td>2</td>\n",
       "      <td>1</td>\n",
       "      <td>3</td>\n",
       "      <td>19.26</td>\n",
       "      <td>1</td>\n",
       "      <td>0</td>\n",
       "      <td>0</td>\n",
       "    </tr>\n",
       "    <tr>\n",
       "      <th>3</th>\n",
       "      <td>1</td>\n",
       "      <td>1</td>\n",
       "      <td>1</td>\n",
       "      <td>2</td>\n",
       "      <td>1</td>\n",
       "      <td>3</td>\n",
       "      <td>19.26</td>\n",
       "      <td>1</td>\n",
       "      <td>0</td>\n",
       "      <td>0</td>\n",
       "    </tr>\n",
       "    <tr>\n",
       "      <th>4</th>\n",
       "      <td>1</td>\n",
       "      <td>1</td>\n",
       "      <td>0</td>\n",
       "      <td>0</td>\n",
       "      <td>2</td>\n",
       "      <td>2</td>\n",
       "      <td>29.00</td>\n",
       "      <td>0</td>\n",
       "      <td>0</td>\n",
       "      <td>1</td>\n",
       "    </tr>\n",
       "  </tbody>\n",
       "</table>\n",
       "</div>"
      ],
      "text/plain": [
       "   Survived  Age  Female  SibSp  Parch  Class   Fare  EmbC  EmbQ  EmbS\n",
       "0         1    1       0      0      1      3   8.52     1     0     0\n",
       "1         1    1       0      1      1      2  14.50     0     0     1\n",
       "2         1    1       1      2      1      3  19.26     1     0     0\n",
       "3         1    1       1      2      1      3  19.26     1     0     0\n",
       "4         1    1       0      0      2      2  29.00     0     0     1"
      ]
     },
     "execution_count": 2,
     "metadata": {},
     "output_type": "execute_result"
    }
   ],
   "source": [
    "# Bring in the dataset\n",
    "df = pd.read_csv('Titanic Train Clean.csv')\n",
    "df.head()"
   ]
  },
  {
   "cell_type": "code",
   "execution_count": 4,
   "metadata": {},
   "outputs": [],
   "source": [
    "X = df.drop('Survived', 1)\n",
    "Y = df['Survived']"
   ]
  },
  {
   "cell_type": "code",
   "execution_count": 5,
   "metadata": {},
   "outputs": [],
   "source": [
    "X_train, X_test, Y_train, Y_test = train_test_split(X, Y, test_size=0.3)"
   ]
  },
  {
   "cell_type": "markdown",
   "metadata": {},
   "source": [
    "## 2) Decision Tree"
   ]
  },
  {
   "cell_type": "code",
   "execution_count": 30,
   "metadata": {},
   "outputs": [
    {
     "name": "stdout",
     "output_type": "stream",
     "text": [
      "--- DECISION TREE TRAIN ---\n",
      "Runtime:  0.003435 seconds\n"
     ]
    }
   ],
   "source": [
    "dtree = DecisionTreeClassifier()\n",
    "\n",
    "start_time = time.time()\n",
    "\n",
    "dtree.fit(X_train, Y_train)\n",
    "\n",
    "runtime = (time.time() - start_time)\n",
    "print('--- DECISION TREE TRAIN ---')\n",
    "print('Runtime: ', round(runtime, 6), 'seconds')"
   ]
  },
  {
   "cell_type": "code",
   "execution_count": 34,
   "metadata": {},
   "outputs": [
    {
     "name": "stdout",
     "output_type": "stream",
     "text": [
      "--- DECISION TREE TEST ---\n",
      "Runtime:  0.001774 seconds\n",
      "\n",
      "CONFUSION MATRIX\n",
      "[[112  25]\n",
      " [ 27  51]]\n",
      "\n",
      "CLASSIFICATION REPORT\n",
      "              precision    recall  f1-score   support\n",
      "\n",
      "           0       0.81      0.82      0.81       137\n",
      "           1       0.67      0.65      0.66        78\n",
      "\n",
      "   micro avg       0.76      0.76      0.76       215\n",
      "   macro avg       0.74      0.74      0.74       215\n",
      "weighted avg       0.76      0.76      0.76       215\n",
      "\n"
     ]
    }
   ],
   "source": [
    "start_time = time.time()\n",
    "predictions = dtree.predict(X_test)\n",
    "\n",
    "runtime = (time.time() - start_time)\n",
    "print('--- DECISION TREE TEST ---')\n",
    "print('Runtime: ', round(runtime, 6), 'seconds')\n",
    "print()\n",
    "print('CONFUSION MATRIX')\n",
    "print(confusion_matrix(Y_test, predictions))\n",
    "print()\n",
    "print('CLASSIFICATION REPORT')\n",
    "print(classification_report(Y_test, predictions))"
   ]
  },
  {
   "cell_type": "code",
   "execution_count": 44,
   "metadata": {},
   "outputs": [
    {
     "name": "stdout",
     "output_type": "stream",
     "text": [
      "\n",
      "--- DECISION TREE CROSSVALIDATION ---\n",
      "Runtime:  0.070232 seconds\n",
      "\n",
      "[0.45833333 0.51388889 0.79166667 0.79166667 0.63380282 0.64788732\n",
      " 0.74647887 0.67605634 0.8028169  0.49295775]\n",
      "\n",
      "Average Score:  65.556 %\n"
     ]
    }
   ],
   "source": [
    "start_time = time.time()\n",
    "crossval = cross_val_score(dtree, X, Y, cv=10)\n",
    "\n",
    "runtime = (time.time() - start_time)\n",
    "print()\n",
    "print('--- DECISION TREE CROSSVALIDATION ---')\n",
    "print('Runtime: ', round(runtime, 6), 'seconds')\n",
    "print()\n",
    "\n",
    "cvscore = 0\n",
    "print(crossval)\n",
    "for i in crossval:\n",
    "    cvscore += i\n",
    "\n",
    "cvscore = cvscore / len(crossval)\n",
    "print()\n",
    "print(\"Average Score: \", (cvscore * 100).round(3),'%')"
   ]
  },
  {
   "cell_type": "markdown",
   "metadata": {},
   "source": [
    "## 3) Random Forest"
   ]
  },
  {
   "cell_type": "code",
   "execution_count": 45,
   "metadata": {},
   "outputs": [
    {
     "name": "stdout",
     "output_type": "stream",
     "text": [
      "--- RANDOM FOREST TRAIN ---\n",
      "Runtime:  0.220841 seconds\n"
     ]
    }
   ],
   "source": [
    "rfc = RandomForestClassifier(n_estimators=100)\n",
    "\n",
    "start_time = time.time()\n",
    "rfc.fit(X_train, Y_train)\n",
    "\n",
    "runtime = (time.time() - start_time)\n",
    "print('--- RANDOM FOREST TRAIN ---')\n",
    "print('Runtime: ', round(runtime, 6), 'seconds')"
   ]
  },
  {
   "cell_type": "code",
   "execution_count": 46,
   "metadata": {},
   "outputs": [
    {
     "name": "stdout",
     "output_type": "stream",
     "text": [
      "--- RANDOM FOREST TEST ---\n",
      "Runtime:  0.019956 seconds\n",
      "\n",
      "CONFUSION MATRIX\n",
      "[[116  21]\n",
      " [ 23  55]]\n",
      "\n",
      "CLASSIFICATION REPORT\n",
      "              precision    recall  f1-score   support\n",
      "\n",
      "           0       0.83      0.85      0.84       137\n",
      "           1       0.72      0.71      0.71        78\n",
      "\n",
      "   micro avg       0.80      0.80      0.80       215\n",
      "   macro avg       0.78      0.78      0.78       215\n",
      "weighted avg       0.79      0.80      0.79       215\n",
      "\n"
     ]
    }
   ],
   "source": [
    "start_time = time.time()\n",
    "rfc_pred = rfc.predict(X_test)\n",
    "\n",
    "runtime = (time.time() - start_time)\n",
    "print('--- RANDOM FOREST TEST ---')\n",
    "print('Runtime: ', round(runtime, 6), 'seconds')\n",
    "print()\n",
    "print('CONFUSION MATRIX')\n",
    "print(confusion_matrix(Y_test, rfc_pred))\n",
    "print()\n",
    "print('CLASSIFICATION REPORT')\n",
    "print(classification_report(Y_test, rfc_pred))"
   ]
  },
  {
   "cell_type": "code",
   "execution_count": 47,
   "metadata": {},
   "outputs": [
    {
     "name": "stdout",
     "output_type": "stream",
     "text": [
      "\n",
      "--- RANDOM FOREST CROSSVALIDATION ---\n",
      "Runtime:  1.833654 seconds\n",
      "\n",
      "[0.47222222 0.61111111 0.81944444 0.83333333 0.67605634 0.8028169\n",
      " 0.83098592 0.77464789 0.71830986 0.8028169 ]\n",
      "\n",
      "Average Score:  73.417 %\n"
     ]
    }
   ],
   "source": [
    "start_time = time.time()\n",
    "crossval = cross_val_score(rfc, X, Y, cv=10)\n",
    "\n",
    "runtime = (time.time() - start_time)\n",
    "print()\n",
    "print('--- RANDOM FOREST CROSSVALIDATION ---')\n",
    "print('Runtime: ', round(runtime, 6), 'seconds')\n",
    "print()\n",
    "\n",
    "cvscore = 0\n",
    "print(crossval)\n",
    "for i in crossval:\n",
    "    cvscore += i\n",
    "\n",
    "cvscore = cvscore / len(crossval)\n",
    "print()\n",
    "print(\"Average Score: \", (cvscore * 100).round(3),'%')"
   ]
  },
  {
   "cell_type": "markdown",
   "metadata": {},
   "source": [
    "## 4) Summary"
   ]
  },
  {
   "cell_type": "raw",
   "metadata": {
    "raw_mimetype": "text/html"
   },
   "source": [
    "----- RUNTIME OVERVIEW -----\n",
    "\n",
    "                Test      Train          CONF MATRX     Precision    Recall    F1-Score   CrossVal   CrossVal\n",
    "                Time(sec) Time(sec)    TP  FP  FN  TN     T   F      T   F      T   F     Average    Time(sec)\n",
    "\n",
    "Decision Tree:  0.003435  0.001774    112  25  27  51   0.81 0.67  0.82 0.65  0.81 0.66   65.556%    0.070232\n",
    "\n",
    "Random Forest:  0.220841  0.019956    116  21  23  55   0.83 0.72  0.85 0.71  0.84 0.71   73.417%    1.833654"
   ]
  },
  {
   "cell_type": "code",
   "execution_count": null,
   "metadata": {},
   "outputs": [],
   "source": []
  }
 ],
 "metadata": {
  "celltoolbar": "Raw Cell Format",
  "kernelspec": {
   "display_name": "Python 3",
   "language": "python",
   "name": "python3"
  },
  "language_info": {
   "codemirror_mode": {
    "name": "ipython",
    "version": 3
   },
   "file_extension": ".py",
   "mimetype": "text/x-python",
   "name": "python",
   "nbconvert_exporter": "python",
   "pygments_lexer": "ipython3",
   "version": "3.7.0"
  }
 },
 "nbformat": 4,
 "nbformat_minor": 2
}
