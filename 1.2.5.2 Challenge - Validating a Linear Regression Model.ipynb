{
 "cells": [
  {
   "cell_type": "markdown",
   "metadata": {},
   "source": [
    "# 1.2.5.2 Challenge - Validating a Linear Regression Model"
   ]
  },
  {
   "cell_type": "code",
   "execution_count": 1,
   "metadata": {},
   "outputs": [
    {
     "data": {
      "text/html": [
       "<script>\n",
       "  function code_toggle() {\n",
       "    if (code_shown){\n",
       "      $('div.input').hide('500');\n",
       "      $('#toggleButton').val('Show Code')\n",
       "    } else {\n",
       "      $('div.input').show('500');\n",
       "      $('#toggleButton').val('Hide Code')\n",
       "    }\n",
       "    code_shown = !code_shown\n",
       "  }\n",
       "\n",
       "  $( document ).ready(function(){\n",
       "    code_shown=false;\n",
       "    $('div.input').hide()\n",
       "  });\n",
       "</script>\n",
       "<form action=\"javascript:code_toggle()\"><input type=\"submit\" id=\"toggleButton\"\n",
       "value=\"Show Code\"></form>"
      ],
      "text/plain": [
       "<IPython.core.display.HTML object>"
      ]
     },
     "metadata": {},
     "output_type": "display_data"
    }
   ],
   "source": [
    "%%HTML\n",
    "<script>\n",
    "  function code_toggle() {\n",
    "    if (code_shown){\n",
    "      $('div.input').hide('500');\n",
    "      $('#toggleButton').val('Show Code')\n",
    "    } else {\n",
    "      $('div.input').show('500');\n",
    "      $('#toggleButton').val('Hide Code')\n",
    "    }\n",
    "    code_shown = !code_shown\n",
    "  }\n",
    "\n",
    "  $( document ).ready(function(){\n",
    "    code_shown=false;\n",
    "    $('div.input').hide()\n",
    "  });\n",
    "</script>\n",
    "<form action=\"javascript:code_toggle()\"><input type=\"submit\" id=\"toggleButton\"\n",
    "value=\"Show Code\"></form>"
   ]
  },
  {
   "cell_type": "code",
   "execution_count": 2,
   "metadata": {},
   "outputs": [],
   "source": [
    "import numpy as np\n",
    "import pandas as pd\n",
    "import matplotlib.pyplot as plt\n",
    "import seaborn as sns\n",
    "sns.set(style=\"whitegrid\")\n",
    "from sklearn import linear_model\n",
    "import math\n",
    "import scipy.stats\n",
    "import statsmodels.formula.api as smf\n",
    "import sklearn\n",
    "\n",
    "%matplotlib inline\n",
    "pd.options.display.float_format = '{:.0f}'.format\n",
    "\n",
    "import warnings\n",
    "warnings.filterwarnings('ignore')"
   ]
  },
  {
   "cell_type": "markdown",
   "metadata": {},
   "source": [
    "## (1) Bring in the Original Data and Model"
   ]
  },
  {
   "cell_type": "markdown",
   "metadata": {},
   "source": [
    "Review the data, cleaning process, and model we built in section 2.4.4 where we made a regression model. "
   ]
  },
  {
   "cell_type": "code",
   "execution_count": 3,
   "metadata": {},
   "outputs": [
    {
     "data": {
      "text/html": [
       "<div>\n",
       "<style scoped>\n",
       "    .dataframe tbody tr th:only-of-type {\n",
       "        vertical-align: middle;\n",
       "    }\n",
       "\n",
       "    .dataframe tbody tr th {\n",
       "        vertical-align: top;\n",
       "    }\n",
       "\n",
       "    .dataframe thead th {\n",
       "        text-align: right;\n",
       "    }\n",
       "</style>\n",
       "<table border=\"1\" class=\"dataframe\">\n",
       "  <thead>\n",
       "    <tr style=\"text-align: right;\">\n",
       "      <th></th>\n",
       "      <th>City</th>\n",
       "      <th>Population</th>\n",
       "      <th>Violent\r",
       "crime</th>\n",
       "      <th>Murder and\r",
       "nonnegligent\r",
       "manslaughter</th>\n",
       "      <th>Rape\r",
       "(revised\r",
       "definition)1</th>\n",
       "      <th>Rape\r",
       "(legacy\r",
       "definition)2</th>\n",
       "      <th>Robbery</th>\n",
       "      <th>Aggravated\r",
       "assault</th>\n",
       "      <th>Property\r",
       "crime</th>\n",
       "      <th>Burglary</th>\n",
       "      <th>Larceny-\r",
       "theft</th>\n",
       "      <th>Motor\r",
       "vehicle\r",
       "theft</th>\n",
       "      <th>Arson3</th>\n",
       "    </tr>\n",
       "  </thead>\n",
       "  <tbody>\n",
       "    <tr>\n",
       "      <th>0</th>\n",
       "      <td>Adams Village</td>\n",
       "      <td>1861</td>\n",
       "      <td>0</td>\n",
       "      <td>0</td>\n",
       "      <td>nan</td>\n",
       "      <td>0</td>\n",
       "      <td>0</td>\n",
       "      <td>0</td>\n",
       "      <td>12</td>\n",
       "      <td>2</td>\n",
       "      <td>10</td>\n",
       "      <td>0</td>\n",
       "      <td>0</td>\n",
       "    </tr>\n",
       "    <tr>\n",
       "      <th>1</th>\n",
       "      <td>Addison Town and Village</td>\n",
       "      <td>2577</td>\n",
       "      <td>3</td>\n",
       "      <td>0</td>\n",
       "      <td>nan</td>\n",
       "      <td>0</td>\n",
       "      <td>0</td>\n",
       "      <td>3</td>\n",
       "      <td>24</td>\n",
       "      <td>3</td>\n",
       "      <td>20</td>\n",
       "      <td>1</td>\n",
       "      <td>0</td>\n",
       "    </tr>\n",
       "    <tr>\n",
       "      <th>2</th>\n",
       "      <td>Akron Village</td>\n",
       "      <td>2846</td>\n",
       "      <td>3</td>\n",
       "      <td>0</td>\n",
       "      <td>nan</td>\n",
       "      <td>0</td>\n",
       "      <td>0</td>\n",
       "      <td>3</td>\n",
       "      <td>16</td>\n",
       "      <td>1</td>\n",
       "      <td>15</td>\n",
       "      <td>0</td>\n",
       "      <td>0</td>\n",
       "    </tr>\n",
       "    <tr>\n",
       "      <th>3</th>\n",
       "      <td>Albany</td>\n",
       "      <td>97956</td>\n",
       "      <td>791</td>\n",
       "      <td>8</td>\n",
       "      <td>nan</td>\n",
       "      <td>30</td>\n",
       "      <td>227</td>\n",
       "      <td>526</td>\n",
       "      <td>4090</td>\n",
       "      <td>705</td>\n",
       "      <td>3243</td>\n",
       "      <td>142</td>\n",
       "      <td>nan</td>\n",
       "    </tr>\n",
       "    <tr>\n",
       "      <th>4</th>\n",
       "      <td>Albion Village</td>\n",
       "      <td>6388</td>\n",
       "      <td>23</td>\n",
       "      <td>0</td>\n",
       "      <td>nan</td>\n",
       "      <td>3</td>\n",
       "      <td>4</td>\n",
       "      <td>16</td>\n",
       "      <td>223</td>\n",
       "      <td>53</td>\n",
       "      <td>165</td>\n",
       "      <td>5</td>\n",
       "      <td>nan</td>\n",
       "    </tr>\n",
       "  </tbody>\n",
       "</table>\n",
       "</div>"
      ],
      "text/plain": [
       "                       City  Population  Violent\\rcrime  \\\n",
       "0             Adams Village        1861               0   \n",
       "1  Addison Town and Village        2577               3   \n",
       "2             Akron Village        2846               3   \n",
       "3                    Albany       97956             791   \n",
       "4            Albion Village        6388              23   \n",
       "\n",
       "   Murder and\\rnonnegligent\\rmanslaughter  Rape\\r(revised\\rdefinition)1  \\\n",
       "0                                       0                           nan   \n",
       "1                                       0                           nan   \n",
       "2                                       0                           nan   \n",
       "3                                       8                           nan   \n",
       "4                                       0                           nan   \n",
       "\n",
       "   Rape\\r(legacy\\rdefinition)2  Robbery  Aggravated\\rassault  Property\\rcrime  \\\n",
       "0                            0        0                    0               12   \n",
       "1                            0        0                    3               24   \n",
       "2                            0        0                    3               16   \n",
       "3                           30      227                  526             4090   \n",
       "4                            3        4                   16              223   \n",
       "\n",
       "   Burglary  Larceny-\\rtheft  Motor\\rvehicle\\rtheft  Arson3  \n",
       "0         2               10                      0       0  \n",
       "1         3               20                      1       0  \n",
       "2         1               15                      0       0  \n",
       "3       705             3243                    142     nan  \n",
       "4        53              165                      5     nan  "
      ]
     },
     "execution_count": 3,
     "metadata": {},
     "output_type": "execute_result"
    }
   ],
   "source": [
    "data = pd.read_csv('FBI Crime Data 2013.csv')\n",
    "data.head()"
   ]
  },
  {
   "cell_type": "code",
   "execution_count": 4,
   "metadata": {},
   "outputs": [],
   "source": [
    "# Data cleaning\n",
    "\n",
    "# Rename columns\n",
    "data.columns = [['City', 'Population', 'Violent Crime', 'Murder', 'Rape1', 'Rape2', 'Robbery', 'Agg Assault', 'Property Crime',\n",
    "                'Burglary', 'Larceny', 'Vehicle Theft', 'Arson']]\n",
    "\n",
    "cols = ['Population', 'Violent Crime', 'Murder', 'Rape1', 'Rape2', 'Robbery', 'Agg Assault', 'Property Crime',\n",
    "        'Burglary', 'Larceny', 'Vehicle Theft', 'Arson']\n",
    "\n",
    "# Replace all NaN with 0\n",
    "data[cols] = data[cols].replace(np.nan, 0)"
   ]
  },
  {
   "cell_type": "markdown",
   "metadata": {},
   "source": [
    "To predict __Property Crime__, we chose to use the following features: __Rape2, Robbery,__ and __Agg Assault__"
   ]
  },
  {
   "cell_type": "code",
   "execution_count": 5,
   "metadata": {},
   "outputs": [
    {
     "name": "stdout",
     "output_type": "stream",
     "text": [
      "Coefficients: \n",
      " [[ 1.56947789e-02  3.02487784e+01 -2.28788258e+00  3.94349226e+00]]\n",
      "\n",
      "Intercept:  \n",
      " [-20.88055333]\n",
      "\n",
      "R-Squared:\n",
      "91.455 %\n"
     ]
    }
   ],
   "source": [
    "# Filter out the cities that contain population sizes of 150,000 or greater.\n",
    "datapop150k = data.loc[(data['Population'] < 150000).all(axis=1) | data.isnull().any(axis=1)]\n",
    "\n",
    "# Instantiate and fit the model using four different features - Population, Rape2, Robbery, and Agg Assault.\n",
    "regr = linear_model.LinearRegression()\n",
    "Y = datapop150k['Property Crime'].values.reshape(-1, 1)\n",
    "X = datapop150k[['Population', 'Rape2', 'Robbery', 'Agg Assault']]\n",
    "regr.fit(X, Y)\n",
    "\n",
    "print('Coefficients: \\n', regr.coef_)\n",
    "print('\\nIntercept:  \\n', regr.intercept_)\n",
    "print('\\nR-Squared:')\n",
    "print((regr.score(X, Y) * 100).round(3),'%')"
   ]
  },
  {
   "cell_type": "markdown",
   "metadata": {},
   "source": [
    "The intercept looks reasonable (__20.88__) and the R-Squared value is very strong (__91.455%__)"
   ]
  },
  {
   "cell_type": "markdown",
   "metadata": {},
   "source": [
    "## (2) Import GridSearchCV from SKLearn and run the model"
   ]
  },
  {
   "cell_type": "markdown",
   "metadata": {},
   "source": [
    "Instantiate and fit the model, set up the GridSearch, populate the features, and run it."
   ]
  },
  {
   "cell_type": "code",
   "execution_count": 6,
   "metadata": {},
   "outputs": [
    {
     "name": "stdout",
     "output_type": "stream",
     "text": [
      "Fitting 5 folds for each of 2 candidates, totalling 10 fits\n"
     ]
    },
    {
     "name": "stderr",
     "output_type": "stream",
     "text": [
      "[Parallel(n_jobs=1)]: Using backend SequentialBackend with 1 concurrent workers.\n",
      "[Parallel(n_jobs=1)]: Done  10 out of  10 | elapsed:    0.1s finished\n"
     ]
    },
    {
     "data": {
      "text/plain": [
       "GridSearchCV(cv=5, error_score='raise-deprecating',\n",
       "       estimator=LinearRegression(copy_X=True, fit_intercept=True, n_jobs=None,\n",
       "         normalize=False),\n",
       "       fit_params=None, iid='warn', n_jobs=None,\n",
       "       param_grid={'normalize': [True, False]}, pre_dispatch='2*n_jobs',\n",
       "       refit=True, return_train_score='warn', scoring='r2', verbose=1)"
      ]
     },
     "execution_count": 6,
     "metadata": {},
     "output_type": "execute_result"
    }
   ],
   "source": [
    "from sklearn.model_selection import GridSearchCV\n",
    "\n",
    "# Instantiate and fit our model\n",
    "regr = linear_model.LinearRegression()\n",
    "\n",
    "parameters = {'normalize':[True,False]}\n",
    "\n",
    "grid = GridSearchCV(regr, parameters, scoring='r2', cv=5, verbose=1)\n",
    "\n",
    "# Bring in the features to use\n",
    "Y = datapop150k['Property Crime'].values.reshape(-1,1)\n",
    "X = datapop150k[['Population', 'Rape2', 'Robbery', 'Agg Assault']]\n",
    "\n",
    "# Fit the data\n",
    "grid.fit(X, Y)"
   ]
  },
  {
   "cell_type": "code",
   "execution_count": 9,
   "metadata": {},
   "outputs": [
    {
     "name": "stdout",
     "output_type": "stream",
     "text": [
      "R-Squared:  91.455 %\n"
     ]
    }
   ],
   "source": [
    "# Get the R-Squared value after using GridSearchCV \n",
    "print(\"R-Squared: \", ((grid.score(X, Y)) * 100).round(3), \"%\")"
   ]
  },
  {
   "cell_type": "markdown",
   "metadata": {},
   "source": [
    "## (3) Test Now with Different Data"
   ]
  },
  {
   "cell_type": "markdown",
   "metadata": {},
   "source": [
    "Bring in the __FBI Crime Dataset 2017__ CSV take a look at the first few rows, and run through the cleaning process."
   ]
  },
  {
   "cell_type": "code",
   "execution_count": 10,
   "metadata": {
    "scrolled": false
   },
   "outputs": [
    {
     "data": {
      "text/html": [
       "<div>\n",
       "<style scoped>\n",
       "    .dataframe tbody tr th:only-of-type {\n",
       "        vertical-align: middle;\n",
       "    }\n",
       "\n",
       "    .dataframe tbody tr th {\n",
       "        vertical-align: top;\n",
       "    }\n",
       "\n",
       "    .dataframe thead th {\n",
       "        text-align: right;\n",
       "    }\n",
       "</style>\n",
       "<table border=\"1\" class=\"dataframe\">\n",
       "  <thead>\n",
       "    <tr style=\"text-align: right;\">\n",
       "      <th></th>\n",
       "      <th>State</th>\n",
       "      <th>Population</th>\n",
       "      <th>Violent\n",
       "crime</th>\n",
       "      <th>Murder and\n",
       "nonnegligent\n",
       "manslaughter</th>\n",
       "      <th>Rape1</th>\n",
       "      <th>Robbery</th>\n",
       "      <th>Aggravated\n",
       "assault</th>\n",
       "      <th>Property\n",
       "crime</th>\n",
       "      <th>Burglary</th>\n",
       "      <th>Larceny-\n",
       "theft</th>\n",
       "      <th>Motor\n",
       "vehicle\n",
       "theft</th>\n",
       "      <th>Arson2</th>\n",
       "    </tr>\n",
       "  </thead>\n",
       "  <tbody>\n",
       "    <tr>\n",
       "      <th>0</th>\n",
       "      <td>Adams Village</td>\n",
       "      <td>1766</td>\n",
       "      <td>1</td>\n",
       "      <td>0</td>\n",
       "      <td>0</td>\n",
       "      <td>0</td>\n",
       "      <td>1</td>\n",
       "      <td>3</td>\n",
       "      <td>1</td>\n",
       "      <td>1</td>\n",
       "      <td>1</td>\n",
       "      <td>0</td>\n",
       "    </tr>\n",
       "    <tr>\n",
       "      <th>1</th>\n",
       "      <td>Addison Town and Village</td>\n",
       "      <td>2518</td>\n",
       "      <td>5</td>\n",
       "      <td>0</td>\n",
       "      <td>0</td>\n",
       "      <td>0</td>\n",
       "      <td>5</td>\n",
       "      <td>13</td>\n",
       "      <td>1</td>\n",
       "      <td>11</td>\n",
       "      <td>1</td>\n",
       "      <td>0</td>\n",
       "    </tr>\n",
       "    <tr>\n",
       "      <th>2</th>\n",
       "      <td>Afton Village</td>\n",
       "      <td>806</td>\n",
       "      <td>0</td>\n",
       "      <td>0</td>\n",
       "      <td>0</td>\n",
       "      <td>0</td>\n",
       "      <td>0</td>\n",
       "      <td>2</td>\n",
       "      <td>1</td>\n",
       "      <td>0</td>\n",
       "      <td>1</td>\n",
       "      <td>0</td>\n",
       "    </tr>\n",
       "    <tr>\n",
       "      <th>3</th>\n",
       "      <td>Akron Village</td>\n",
       "      <td>2848</td>\n",
       "      <td>4</td>\n",
       "      <td>0</td>\n",
       "      <td>0</td>\n",
       "      <td>0</td>\n",
       "      <td>4</td>\n",
       "      <td>7</td>\n",
       "      <td>0</td>\n",
       "      <td>6</td>\n",
       "      <td>1</td>\n",
       "      <td>0</td>\n",
       "    </tr>\n",
       "    <tr>\n",
       "      <th>4</th>\n",
       "      <td>Albany</td>\n",
       "      <td>98174</td>\n",
       "      <td>876</td>\n",
       "      <td>8</td>\n",
       "      <td>54</td>\n",
       "      <td>247</td>\n",
       "      <td>567</td>\n",
       "      <td>3394</td>\n",
       "      <td>432</td>\n",
       "      <td>2853</td>\n",
       "      <td>109</td>\n",
       "      <td>14</td>\n",
       "    </tr>\n",
       "  </tbody>\n",
       "</table>\n",
       "</div>"
      ],
      "text/plain": [
       "                      State  Population  Violent\\ncrime  \\\n",
       "0             Adams Village        1766               1   \n",
       "1  Addison Town and Village        2518               5   \n",
       "2             Afton Village         806               0   \n",
       "3             Akron Village        2848               4   \n",
       "4                    Albany       98174             876   \n",
       "\n",
       "   Murder and\\nnonnegligent\\nmanslaughter  Rape1  Robbery  \\\n",
       "0                                       0      0        0   \n",
       "1                                       0      0        0   \n",
       "2                                       0      0        0   \n",
       "3                                       0      0        0   \n",
       "4                                       8     54      247   \n",
       "\n",
       "   Aggravated\\nassault  Property\\ncrime  Burglary  Larceny-\\ntheft  \\\n",
       "0                    1                3         1                1   \n",
       "1                    5               13         1               11   \n",
       "2                    0                2         1                0   \n",
       "3                    4                7         0                6   \n",
       "4                  567             3394       432             2853   \n",
       "\n",
       "   Motor\\nvehicle\\ntheft  Arson2  \n",
       "0                      1       0  \n",
       "1                      1       0  \n",
       "2                      1       0  \n",
       "3                      1       0  \n",
       "4                    109      14  "
      ]
     },
     "execution_count": 10,
     "metadata": {},
     "output_type": "execute_result"
    }
   ],
   "source": [
    "data = pd.read_csv('FBI Crime Data 2017.csv')\n",
    "data.head()"
   ]
  },
  {
   "cell_type": "markdown",
   "metadata": {},
   "source": [
    "Do some data cleaning to make the dataset more usable and readible."
   ]
  },
  {
   "cell_type": "code",
   "execution_count": 11,
   "metadata": {},
   "outputs": [],
   "source": [
    "# Data cleaning\n",
    "\n",
    "# Rename columns\n",
    "data.columns = [['City', 'Population', 'Violent Crime', 'Murder', 'Rape1', 'Robbery', 'Agg Assault', 'Property Crime',\n",
    "                'Burglary', 'Larceny', 'Vehicle Theft', 'Arson']]\n",
    "\n",
    "cols = ['Population', 'Violent Crime', 'Murder', 'Rape1', 'Robbery', 'Agg Assault', 'Property Crime',\n",
    "        'Burglary', 'Larceny', 'Vehicle Theft', 'Arson']\n",
    "\n",
    "# Replace all NaN with 0\n",
    "data[cols] = data[cols].replace(np.nan, 0)\n",
    "\n",
    "# Convert strings to floats\n",
    "def convert_number(number):\n",
    "    try:\n",
    "        converted = float(number.replace(',', ''))\n",
    "    except:\n",
    "        converted = number\n",
    "    return converted"
   ]
  },
  {
   "cell_type": "code",
   "execution_count": 12,
   "metadata": {},
   "outputs": [],
   "source": [
    "data['Population'] = data['Population'].apply(lambda x: convert_number(x))\n",
    "data['Violent Crime'] = data['Violent Crime'].apply(lambda x: convert_number(x))\n",
    "data['Murder'] = data['Murder'].apply(lambda x: convert_number(x))\n",
    "data['Rape1'] = data['Rape1'].apply(lambda x: convert_number(x))\n",
    "data['Robbery'] = data['Robbery'].apply(lambda x: convert_number(x))\n",
    "data['Agg Assault'] = data['Agg Assault'].apply(lambda x: convert_number(x))\n",
    "data['Property Crime'] = data['Property Crime'].apply(lambda x: convert_number(x))\n",
    "data['Burglary'] = data['Burglary'].apply(lambda x: convert_number(x))\n",
    "data['Larceny'] = data['Larceny'].apply(lambda x: convert_number(x))\n",
    "data['Vehicle Theft'] = data['Vehicle Theft'].apply(lambda x: convert_number(x))\n",
    "data['Arson'] = data['Arson'].apply(lambda x: convert_number(x))"
   ]
  },
  {
   "cell_type": "markdown",
   "metadata": {},
   "source": [
    "Check out what the dataset looks like post-cleanup."
   ]
  },
  {
   "cell_type": "code",
   "execution_count": 13,
   "metadata": {},
   "outputs": [
    {
     "data": {
      "text/html": [
       "<div>\n",
       "<style scoped>\n",
       "    .dataframe tbody tr th:only-of-type {\n",
       "        vertical-align: middle;\n",
       "    }\n",
       "\n",
       "    .dataframe tbody tr th {\n",
       "        vertical-align: top;\n",
       "    }\n",
       "\n",
       "    .dataframe thead tr th {\n",
       "        text-align: left;\n",
       "    }\n",
       "</style>\n",
       "<table border=\"1\" class=\"dataframe\">\n",
       "  <thead>\n",
       "    <tr>\n",
       "      <th></th>\n",
       "      <th>City</th>\n",
       "      <th>Population</th>\n",
       "      <th>Violent Crime</th>\n",
       "      <th>Murder</th>\n",
       "      <th>Rape1</th>\n",
       "      <th>Robbery</th>\n",
       "      <th>Agg Assault</th>\n",
       "      <th>Property Crime</th>\n",
       "      <th>Burglary</th>\n",
       "      <th>Larceny</th>\n",
       "      <th>Vehicle Theft</th>\n",
       "      <th>Arson</th>\n",
       "    </tr>\n",
       "  </thead>\n",
       "  <tbody>\n",
       "    <tr>\n",
       "      <th>0</th>\n",
       "      <td>Adams Village</td>\n",
       "      <td>1766</td>\n",
       "      <td>1</td>\n",
       "      <td>0</td>\n",
       "      <td>0</td>\n",
       "      <td>0</td>\n",
       "      <td>1</td>\n",
       "      <td>3</td>\n",
       "      <td>1</td>\n",
       "      <td>1</td>\n",
       "      <td>1</td>\n",
       "      <td>0</td>\n",
       "    </tr>\n",
       "    <tr>\n",
       "      <th>1</th>\n",
       "      <td>Addison Town and Village</td>\n",
       "      <td>2518</td>\n",
       "      <td>5</td>\n",
       "      <td>0</td>\n",
       "      <td>0</td>\n",
       "      <td>0</td>\n",
       "      <td>5</td>\n",
       "      <td>13</td>\n",
       "      <td>1</td>\n",
       "      <td>11</td>\n",
       "      <td>1</td>\n",
       "      <td>0</td>\n",
       "    </tr>\n",
       "    <tr>\n",
       "      <th>2</th>\n",
       "      <td>Afton Village</td>\n",
       "      <td>806</td>\n",
       "      <td>0</td>\n",
       "      <td>0</td>\n",
       "      <td>0</td>\n",
       "      <td>0</td>\n",
       "      <td>0</td>\n",
       "      <td>2</td>\n",
       "      <td>1</td>\n",
       "      <td>0</td>\n",
       "      <td>1</td>\n",
       "      <td>0</td>\n",
       "    </tr>\n",
       "    <tr>\n",
       "      <th>3</th>\n",
       "      <td>Akron Village</td>\n",
       "      <td>2848</td>\n",
       "      <td>4</td>\n",
       "      <td>0</td>\n",
       "      <td>0</td>\n",
       "      <td>0</td>\n",
       "      <td>4</td>\n",
       "      <td>7</td>\n",
       "      <td>0</td>\n",
       "      <td>6</td>\n",
       "      <td>1</td>\n",
       "      <td>0</td>\n",
       "    </tr>\n",
       "    <tr>\n",
       "      <th>4</th>\n",
       "      <td>Albany</td>\n",
       "      <td>98174</td>\n",
       "      <td>876</td>\n",
       "      <td>8</td>\n",
       "      <td>54</td>\n",
       "      <td>247</td>\n",
       "      <td>567</td>\n",
       "      <td>3394</td>\n",
       "      <td>432</td>\n",
       "      <td>2853</td>\n",
       "      <td>109</td>\n",
       "      <td>14</td>\n",
       "    </tr>\n",
       "  </tbody>\n",
       "</table>\n",
       "</div>"
      ],
      "text/plain": [
       "                       City Population Violent Crime Murder Rape1 Robbery  \\\n",
       "0             Adams Village       1766             1      0     0       0   \n",
       "1  Addison Town and Village       2518             5      0     0       0   \n",
       "2             Afton Village        806             0      0     0       0   \n",
       "3             Akron Village       2848             4      0     0       0   \n",
       "4                    Albany      98174           876      8    54     247   \n",
       "\n",
       "  Agg Assault Property Crime Burglary Larceny Vehicle Theft Arson  \n",
       "0           1              3        1       1             1     0  \n",
       "1           5             13        1      11             1     0  \n",
       "2           0              2        1       0             1     0  \n",
       "3           4              7        0       6             1     0  \n",
       "4         567           3394      432    2853           109    14  "
      ]
     },
     "execution_count": 13,
     "metadata": {},
     "output_type": "execute_result"
    }
   ],
   "source": [
    "data.head()"
   ]
  },
  {
   "cell_type": "markdown",
   "metadata": {},
   "source": [
    "Qualify the data as we did in the original linear regression model, specifically, removing cities with populations greater than 150,000 as it skews the data and should be modeled on its own.<br><br>\n",
    "The following are the few cities that were removed based on population size."
   ]
  },
  {
   "cell_type": "code",
   "execution_count": 14,
   "metadata": {},
   "outputs": [
    {
     "data": {
      "text/html": [
       "<div>\n",
       "<style scoped>\n",
       "    .dataframe tbody tr th:only-of-type {\n",
       "        vertical-align: middle;\n",
       "    }\n",
       "\n",
       "    .dataframe tbody tr th {\n",
       "        vertical-align: top;\n",
       "    }\n",
       "\n",
       "    .dataframe thead tr th {\n",
       "        text-align: left;\n",
       "    }\n",
       "</style>\n",
       "<table border=\"1\" class=\"dataframe\">\n",
       "  <thead>\n",
       "    <tr>\n",
       "      <th></th>\n",
       "      <th>City</th>\n",
       "      <th>Population</th>\n",
       "      <th>Violent Crime</th>\n",
       "      <th>Murder</th>\n",
       "      <th>Rape1</th>\n",
       "      <th>Robbery</th>\n",
       "      <th>Agg Assault</th>\n",
       "      <th>Property Crime</th>\n",
       "      <th>Burglary</th>\n",
       "      <th>Larceny</th>\n",
       "      <th>Vehicle Theft</th>\n",
       "      <th>Arson</th>\n",
       "    </tr>\n",
       "  </thead>\n",
       "  <tbody>\n",
       "    <tr>\n",
       "      <th>38</th>\n",
       "      <td>Buffalo</td>\n",
       "      <td>256169</td>\n",
       "      <td>2611</td>\n",
       "      <td>40</td>\n",
       "      <td>142</td>\n",
       "      <td>857</td>\n",
       "      <td>1572</td>\n",
       "      <td>9827</td>\n",
       "      <td>2356</td>\n",
       "      <td>6638</td>\n",
       "      <td>833</td>\n",
       "      <td>192</td>\n",
       "    </tr>\n",
       "    <tr>\n",
       "      <th>226</th>\n",
       "      <td>New York</td>\n",
       "      <td>8616333</td>\n",
       "      <td>46433</td>\n",
       "      <td>292</td>\n",
       "      <td>2375</td>\n",
       "      <td>13995</td>\n",
       "      <td>29771</td>\n",
       "      <td>124815</td>\n",
       "      <td>11104</td>\n",
       "      <td>107976</td>\n",
       "      <td>5735</td>\n",
       "      <td>0</td>\n",
       "    </tr>\n",
       "    <tr>\n",
       "      <th>281</th>\n",
       "      <td>Rochester</td>\n",
       "      <td>208591</td>\n",
       "      <td>1872</td>\n",
       "      <td>27</td>\n",
       "      <td>141</td>\n",
       "      <td>707</td>\n",
       "      <td>997</td>\n",
       "      <td>7934</td>\n",
       "      <td>1337</td>\n",
       "      <td>5981</td>\n",
       "      <td>616</td>\n",
       "      <td>105</td>\n",
       "    </tr>\n",
       "    <tr>\n",
       "      <th>362</th>\n",
       "      <td>Yonkers</td>\n",
       "      <td>201554</td>\n",
       "      <td>810</td>\n",
       "      <td>8</td>\n",
       "      <td>36</td>\n",
       "      <td>271</td>\n",
       "      <td>495</td>\n",
       "      <td>2023</td>\n",
       "      <td>360</td>\n",
       "      <td>1481</td>\n",
       "      <td>182</td>\n",
       "      <td>15</td>\n",
       "    </tr>\n",
       "  </tbody>\n",
       "</table>\n",
       "</div>"
      ],
      "text/plain": [
       "          City Population Violent Crime Murder Rape1 Robbery Agg Assault  \\\n",
       "38     Buffalo     256169          2611     40   142     857        1572   \n",
       "226   New York    8616333         46433    292  2375   13995       29771   \n",
       "281  Rochester     208591          1872     27   141     707         997   \n",
       "362    Yonkers     201554           810      8    36     271         495   \n",
       "\n",
       "    Property Crime Burglary Larceny Vehicle Theft Arson  \n",
       "38            9827     2356    6638           833   192  \n",
       "226         124815    11104  107976          5735     0  \n",
       "281           7934     1337    5981           616   105  \n",
       "362           2023      360    1481           182    15  "
      ]
     },
     "execution_count": 14,
     "metadata": {},
     "output_type": "execute_result"
    }
   ],
   "source": [
    "# Filter out the cities that contain population sizes of 150,000 or greater.\n",
    "datapop150k = data.loc[(data['Population'] < 150000).all(axis=1) | data.isnull().any(axis=1)]\n",
    " \n",
    "# Which cities did we remove?\n",
    "datapop150kremoved = data.loc[(data['Population'] > 150000).all(axis=1) | data.isnull().any(axis=1)]\n",
    "datapop150kremoved"
   ]
  },
  {
   "cell_type": "markdown",
   "metadata": {},
   "source": [
    "Now let's see how each variable plots to see if there is any linearity to any of them."
   ]
  },
  {
   "cell_type": "code",
   "execution_count": 15,
   "metadata": {},
   "outputs": [
    {
     "data": {
      "image/png": "[encoded data removed]",
      "text/plain": [
       "<Figure size 1152x432 with 10 Axes>"
      ]
     },
     "metadata": {},
     "output_type": "display_data"
    }
   ],
   "source": [
    "# Create a variable called for the outcome feature values\n",
    "outcome = datapop150k['Property Crime']\n",
    "\n",
    "plt.figure(figsize=(16,6))\n",
    "\n",
    "#Population\n",
    "plt.subplot(2, 5, 1)\n",
    "plt.scatter(outcome, datapop150k['Population'])\n",
    "plt.title('Population')\n",
    "\n",
    "#Violent Crime\n",
    "plt.subplot(2, 5, 2)\n",
    "plt.scatter(outcome, datapop150k['Violent Crime'])\n",
    "plt.title('Violent Crime')\n",
    "\n",
    "#Murder\n",
    "plt.subplot(2, 5, 3)\n",
    "plt.scatter(outcome, datapop150k['Murder'])\n",
    "plt.title('Murder')\n",
    "\n",
    "#Rape1\n",
    "plt.subplot(2, 5, 4)\n",
    "plt.scatter(outcome, datapop150k['Rape1'])\n",
    "plt.title('Rape2')\n",
    "\n",
    "#Robbery\n",
    "plt.subplot(2, 5, 5)\n",
    "plt.scatter(outcome, datapop150k['Robbery'])\n",
    "plt.title('Robbery')\n",
    "\n",
    "#Aggravated Assault\n",
    "plt.subplot(2, 5, 6)\n",
    "plt.scatter(outcome, datapop150k['Agg Assault'])\n",
    "plt.title('Agg Assault')\n",
    "\n",
    "#Burglary\n",
    "plt.subplot(2, 5, 7)\n",
    "plt.scatter(outcome, datapop150k['Burglary'])\n",
    "plt.title('Burglary')\n",
    "\n",
    "#Larceny\n",
    "plt.subplot(2, 5, 8)\n",
    "plt.scatter(outcome, datapop150k['Larceny'])\n",
    "plt.title('Larceny')\n",
    "\n",
    "#Vehicle Theft\n",
    "plt.subplot(2, 5, 9)\n",
    "plt.scatter(outcome, datapop150k['Vehicle Theft'])\n",
    "plt.title('Vehicle Theft')\n",
    "\n",
    "#Arson\n",
    "plt.subplot(2, 5, 10)\n",
    "plt.scatter(outcome, datapop150k['Arson'])\n",
    "plt.title('Arson')\n",
    " \n",
    "plt.show()"
   ]
  },
  {
   "cell_type": "markdown",
   "metadata": {},
   "source": [
    "Now let's instantiate the model and take a look at the model's statistics."
   ]
  },
  {
   "cell_type": "code",
   "execution_count": 16,
   "metadata": {},
   "outputs": [
    {
     "name": "stdout",
     "output_type": "stream",
     "text": [
      "Coefficients: \n",
      " [[ 1.06274496e-02  1.59961227e+01  8.11467954e+00 -1.10922732e+00]]\n",
      "\n",
      "Intercept:  \n",
      " [-12.6996344]\n",
      "\n",
      "R-Squared:\n",
      "91.392 %\n"
     ]
    }
   ],
   "source": [
    "# Instantiate and fit the model using four different features - Population, Rape2, Robbery, and Agg Assault.\n",
    "regr = linear_model.LinearRegression()\n",
    "Y = datapop150k['Property Crime'].values.reshape(-1, 1)\n",
    "X = datapop150k[['Population', 'Rape1', 'Robbery', 'Agg Assault']]\n",
    "regr.fit(X, Y)\n",
    "\n",
    "print('Coefficients: \\n', regr.coef_)\n",
    "print('\\nIntercept:  \\n', regr.intercept_)\n",
    "print('\\nR-Squared:')\n",
    "print((regr.score(X, Y) * 100).round(3),'%')"
   ]
  },
  {
   "cell_type": "markdown",
   "metadata": {},
   "source": [
    "The model seems to hold up! On our original test on the 2013 FBI data for NY State, we ended up with:<br><br>\n",
    "__Intercept:__ -20.8805<br><br>\n",
    "__R-Squared:__  91.455%\n",
    "<br><br>\n",
    "Looks like the model is doing pretty well!"
   ]
  },
  {
   "cell_type": "code",
   "execution_count": 18,
   "metadata": {},
   "outputs": [
    {
     "name": "stdout",
     "output_type": "stream",
     "text": [
      "R-Squared:  61.324 %\n"
     ]
    }
   ],
   "source": [
    "# Get the R-Squared value after using GridSearchCV \n",
    "print(\"R-Squared: \", ((grid.score(X, Y)) * 100).round(3), \"%\")"
   ]
  },
  {
   "cell_type": "code",
   "execution_count": 20,
   "metadata": {},
   "outputs": [
    {
     "data": {
      "text/plain": [
       "{'mean_fit_time': array([0.00297179, 0.00237918]),\n",
       " 'std_fit_time': array([0.00112136, 0.00059619]),\n",
       " 'mean_score_time': array([0.00131192, 0.001086  ]),\n",
       " 'std_score_time': array([0.00075022, 0.00041037]),\n",
       " 'param_normalize': masked_array(data=[True, False],\n",
       "              mask=[False, False],\n",
       "        fill_value='?',\n",
       "             dtype=object),\n",
       " 'params': [{'normalize': True}, {'normalize': False}],\n",
       " 'split0_test_score': array([0.92696975, 0.92696975]),\n",
       " 'split1_test_score': array([0.8364861, 0.8364861]),\n",
       " 'split2_test_score': array([0.5701927, 0.5701927]),\n",
       " 'split3_test_score': array([0.68645144, 0.68645144]),\n",
       " 'split4_test_score': array([0.97349803, 0.97349803]),\n",
       " 'mean_test_score': array([0.79821153, 0.79821153]),\n",
       " 'std_test_score': array([0.15042241, 0.15042241]),\n",
       " 'rank_test_score': array([1, 2], dtype=int32),\n",
       " 'split0_train_score': array([0.90720534, 0.90720534]),\n",
       " 'split1_train_score': array([0.92036421, 0.92036421]),\n",
       " 'split2_train_score': array([0.92616918, 0.92616918]),\n",
       " 'split3_train_score': array([0.94166634, 0.94166634]),\n",
       " 'split4_train_score': array([0.85940602, 0.85940602]),\n",
       " 'mean_train_score': array([0.91096222, 0.91096222]),\n",
       " 'std_train_score': array([0.02805191, 0.02805191])}"
      ]
     },
     "execution_count": 20,
     "metadata": {},
     "output_type": "execute_result"
    }
   ],
   "source": [
    "grid.cv_results_"
   ]
  }
 ],
 "metadata": {
  "kernelspec": {
   "display_name": "Python 3",
   "language": "python",
   "name": "python3"
  },
  "language_info": {
   "codemirror_mode": {
    "name": "ipython",
    "version": 3
   },
   "file_extension": ".py",
   "mimetype": "text/x-python",
   "name": "python",
   "nbconvert_exporter": "python",
   "pygments_lexer": "ipython3",
   "version": "3.7.0"
  }
 },
 "nbformat": 4,
 "nbformat_minor": 2
}
