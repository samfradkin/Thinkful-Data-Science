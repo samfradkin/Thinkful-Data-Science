{
 "cells": [
  {
   "cell_type": "markdown",
   "metadata": {},
   "source": [
    "# 1.3.1.4 Regression Model Comparison\n",
    "## OLS Regression vs. KNN Regression\n",
    "### Sam Fradkin"
   ]
  },
  {
   "cell_type": "code",
   "execution_count": 26,
   "metadata": {},
   "outputs": [
    {
     "data": {
      "text/html": [
       "<script>\n",
       "  function code_toggle() {\n",
       "    if (code_shown){\n",
       "      $('div.input').hide('500');\n",
       "      $('#toggleButton').val('Show Code')\n",
       "    } else {\n",
       "      $('div.input').show('500');\n",
       "      $('#toggleButton').val('Hide Code')\n",
       "    }\n",
       "    code_shown = !code_shown\n",
       "  }\n",
       "\n",
       "  $( document ).ready(function(){\n",
       "    code_shown=false;\n",
       "    $('div.input').hide()\n",
       "  });\n",
       "</script>\n",
       "<form action=\"javascript:code_toggle()\"><input type=\"submit\" id=\"toggleButton\"\n",
       "value=\"Show Code\"></form>"
      ],
      "text/plain": [
       "<IPython.core.display.HTML object>"
      ]
     },
     "metadata": {},
     "output_type": "display_data"
    }
   ],
   "source": [
    "%%HTML\n",
    "<script>\n",
    "  function code_toggle() {\n",
    "    if (code_shown){\n",
    "      $('div.input').hide('500');\n",
    "      $('#toggleButton').val('Show Code')\n",
    "    } else {\n",
    "      $('div.input').show('500');\n",
    "      $('#toggleButton').val('Hide Code')\n",
    "    }\n",
    "    code_shown = !code_shown\n",
    "  }\n",
    "\n",
    "  $( document ).ready(function(){\n",
    "    code_shown=false;\n",
    "    $('div.input').hide()\n",
    "  });\n",
    "</script>\n",
    "<form action=\"javascript:code_toggle()\"><input type=\"submit\" id=\"toggleButton\"\n",
    "value=\"Show Code\"></form>"
   ]
  },
  {
   "cell_type": "code",
   "execution_count": 6,
   "metadata": {},
   "outputs": [],
   "source": [
    "import numpy as np\n",
    "import pandas as pd\n",
    "import matplotlib.pyplot as plt\n",
    "import seaborn as sns\n",
    "sns.set_style(\"whitegrid\")\n",
    "\n",
    "%matplotlib inline\n",
    "pd.options.display.float_format = '{:.0f}'.format\n",
    "\n",
    "from sklearn import linear_model\n",
    "import math\n",
    "import scipy.stats\n",
    "import statsmodels.formula.api as smf\n",
    "\n",
    "import warnings\n",
    "warnings.filterwarnings(\"ignore\")"
   ]
  },
  {
   "cell_type": "markdown",
   "metadata": {},
   "source": [
    "## 1) Import the data"
   ]
  },
  {
   "cell_type": "code",
   "execution_count": 4,
   "metadata": {},
   "outputs": [
    {
     "data": {
      "text/html": [
       "<div>\n",
       "<style scoped>\n",
       "    .dataframe tbody tr th:only-of-type {\n",
       "        vertical-align: middle;\n",
       "    }\n",
       "\n",
       "    .dataframe tbody tr th {\n",
       "        vertical-align: top;\n",
       "    }\n",
       "\n",
       "    .dataframe thead th {\n",
       "        text-align: right;\n",
       "    }\n",
       "</style>\n",
       "<table border=\"1\" class=\"dataframe\">\n",
       "  <thead>\n",
       "    <tr style=\"text-align: right;\">\n",
       "      <th></th>\n",
       "      <th>State</th>\n",
       "      <th>Population</th>\n",
       "      <th>Violent\n",
       "crime</th>\n",
       "      <th>Murder and\n",
       "nonnegligent\n",
       "manslaughter</th>\n",
       "      <th>Rape1</th>\n",
       "      <th>Robbery</th>\n",
       "      <th>Aggravated\n",
       "assault</th>\n",
       "      <th>Property\n",
       "crime</th>\n",
       "      <th>Burglary</th>\n",
       "      <th>Larceny-\n",
       "theft</th>\n",
       "      <th>Motor\n",
       "vehicle\n",
       "theft</th>\n",
       "      <th>Arson</th>\n",
       "    </tr>\n",
       "  </thead>\n",
       "  <tbody>\n",
       "    <tr>\n",
       "      <th>0</th>\n",
       "      <td>Adelanto</td>\n",
       "      <td>33693</td>\n",
       "      <td>238</td>\n",
       "      <td>2</td>\n",
       "      <td>28</td>\n",
       "      <td>48</td>\n",
       "      <td>160</td>\n",
       "      <td>578.0</td>\n",
       "      <td>190</td>\n",
       "      <td>290.0</td>\n",
       "      <td>98</td>\n",
       "      <td>13</td>\n",
       "    </tr>\n",
       "    <tr>\n",
       "      <th>1</th>\n",
       "      <td>Agoura Hills</td>\n",
       "      <td>20814</td>\n",
       "      <td>16</td>\n",
       "      <td>0</td>\n",
       "      <td>2</td>\n",
       "      <td>4</td>\n",
       "      <td>10</td>\n",
       "      <td>278.0</td>\n",
       "      <td>71</td>\n",
       "      <td>187.0</td>\n",
       "      <td>20</td>\n",
       "      <td>4</td>\n",
       "    </tr>\n",
       "    <tr>\n",
       "      <th>2</th>\n",
       "      <td>Alameda</td>\n",
       "      <td>79761</td>\n",
       "      <td>253</td>\n",
       "      <td>0</td>\n",
       "      <td>16</td>\n",
       "      <td>133</td>\n",
       "      <td>104</td>\n",
       "      <td>2347.0</td>\n",
       "      <td>219</td>\n",
       "      <td>1725.0</td>\n",
       "      <td>403</td>\n",
       "      <td>25</td>\n",
       "    </tr>\n",
       "    <tr>\n",
       "      <th>3</th>\n",
       "      <td>Albany</td>\n",
       "      <td>19880</td>\n",
       "      <td>36</td>\n",
       "      <td>0</td>\n",
       "      <td>1</td>\n",
       "      <td>28</td>\n",
       "      <td>7</td>\n",
       "      <td>523.0</td>\n",
       "      <td>77</td>\n",
       "      <td>383.0</td>\n",
       "      <td>63</td>\n",
       "      <td>3</td>\n",
       "    </tr>\n",
       "    <tr>\n",
       "      <th>4</th>\n",
       "      <td>Alhambra</td>\n",
       "      <td>85865</td>\n",
       "      <td>172</td>\n",
       "      <td>4</td>\n",
       "      <td>17</td>\n",
       "      <td>89</td>\n",
       "      <td>62</td>\n",
       "      <td>1877.0</td>\n",
       "      <td>363</td>\n",
       "      <td>1244.0</td>\n",
       "      <td>270</td>\n",
       "      <td>12</td>\n",
       "    </tr>\n",
       "  </tbody>\n",
       "</table>\n",
       "</div>"
      ],
      "text/plain": [
       "          State  Population  Violent\\ncrime  \\\n",
       "0      Adelanto       33693             238   \n",
       "1  Agoura Hills       20814              16   \n",
       "2       Alameda       79761             253   \n",
       "3        Albany       19880              36   \n",
       "4      Alhambra       85865             172   \n",
       "\n",
       "   Murder and\\nnonnegligent\\nmanslaughter  Rape1  Robbery  \\\n",
       "0                                       2     28       48   \n",
       "1                                       0      2        4   \n",
       "2                                       0     16      133   \n",
       "3                                       0      1       28   \n",
       "4                                       4     17       89   \n",
       "\n",
       "   Aggravated\\nassault  Property\\ncrime  Burglary  Larceny-\\ntheft  \\\n",
       "0                  160            578.0       190            290.0   \n",
       "1                   10            278.0        71            187.0   \n",
       "2                  104           2347.0       219           1725.0   \n",
       "3                    7            523.0        77            383.0   \n",
       "4                   62           1877.0       363           1244.0   \n",
       "\n",
       "   Motor\\nvehicle\\ntheft  Arson  \n",
       "0                     98     13  \n",
       "1                     20      4  \n",
       "2                    403     25  \n",
       "3                     63      3  \n",
       "4                    270     12  "
      ]
     },
     "execution_count": 4,
     "metadata": {},
     "output_type": "execute_result"
    }
   ],
   "source": [
    "data = pd.read_csv(\"FBI Crime Data - CA 2017.csv\")\n",
    "data.head()"
   ]
  },
  {
   "cell_type": "markdown",
   "metadata": {},
   "source": [
    "## 2) Analyze and clean the data"
   ]
  },
  {
   "cell_type": "code",
   "execution_count": 8,
   "metadata": {},
   "outputs": [
    {
     "name": "stdout",
     "output_type": "stream",
     "text": [
      "<class 'pandas.core.frame.DataFrame'>\n",
      "RangeIndex: 461 entries, 0 to 460\n",
      "Data columns (total 12 columns):\n",
      "City              461 non-null object\n",
      "Population        461 non-null int64\n",
      "Violent Crime     461 non-null int64\n",
      "Murder            461 non-null int64\n",
      "Rape              461 non-null int64\n",
      "Robbery           461 non-null int64\n",
      "Agg Assault       461 non-null int64\n",
      "Property Crime    461 non-null float64\n",
      "Burglary          461 non-null int64\n",
      "Larceny           461 non-null float64\n",
      "Vehicle Theft     461 non-null int64\n",
      "Arson             461 non-null int64\n",
      "dtypes: float64(2), int64(9), object(1)\n",
      "memory usage: 43.3+ KB\n"
     ]
    }
   ],
   "source": [
    "# Check what types of data we are dealing with\n",
    "data.info()"
   ]
  },
  {
   "cell_type": "code",
   "execution_count": 7,
   "metadata": {},
   "outputs": [],
   "source": [
    "# Data cleaning\n",
    "\n",
    "# Rename columns\n",
    "data.columns = ['City','Population','Violent Crime', 'Murder', 'Rape', 'Robbery', 'Agg Assault', 'Property Crime',\n",
    "               'Burglary', 'Larceny', 'Vehicle Theft', 'Arson']\n",
    "\n",
    "cols = ['Population', 'Violent Crime', 'Murder', 'Rape', 'Robbery', 'Agg Assault', 'Property Crime',\n",
    "        'Burglary', 'Larceny', 'Vehicle Theft', 'Arson']\n",
    "\n",
    "# Replace all NaN with 0\n",
    "data[cols] = data[cols].replace(np.nan, 0)"
   ]
  },
  {
   "cell_type": "markdown",
   "metadata": {},
   "source": [
    "## 3) Analyze Features"
   ]
  },
  {
   "cell_type": "code",
   "execution_count": 21,
   "metadata": {},
   "outputs": [
    {
     "data": {
      "image/png": "[encoded data removed]",
      "text/plain": [
       "<Figure size 720x576 with 2 Axes>"
      ]
     },
     "metadata": {},
     "output_type": "display_data"
    }
   ],
   "source": [
    "# Create a heatmap of feature correlations\n",
    "plt.figure(figsize=(10,8))\n",
    "sns.heatmap(data.corr(), annot=True)\n",
    "plt.show()"
   ]
  },
  {
   "cell_type": "code",
   "execution_count": 23,
   "metadata": {},
   "outputs": [
    {
     "data": {
      "image/png": "[encoded data removed]",
      "text/plain": [
       "<Figure size 1152x432 with 10 Axes>"
      ]
     },
     "metadata": {},
     "output_type": "display_data"
    }
   ],
   "source": [
    "# Create a variable called 'outcome' to compare with all the other features\n",
    "outcome = data['Property Crime']\n",
    "\n",
    "plt.figure(figsize=(16,6))\n",
    "\n",
    "#Population\n",
    "plt.subplot(2, 5, 1)\n",
    "plt.scatter(outcome, data['Population'])\n",
    "plt.title('Population')\n",
    "\n",
    "#Violent Crime\n",
    "plt.subplot(2, 5, 2)\n",
    "plt.scatter(outcome, data['Violent Crime'])\n",
    "plt.title('Violent Crime')\n",
    "\n",
    "#Murder\n",
    "plt.subplot(2, 5, 3)\n",
    "plt.scatter(outcome, data['Murder'])\n",
    "plt.title('Murder')\n",
    "\n",
    "#Rape1\n",
    "plt.subplot(2, 5, 4)\n",
    "plt.scatter(outcome, data['Rape'])\n",
    "plt.title('Rape')\n",
    "\n",
    "#Robbery\n",
    "plt.subplot(2, 5, 5)\n",
    "plt.scatter(outcome, data['Robbery'])\n",
    "plt.title('Robbery')\n",
    "\n",
    "#Aggravated Assault\n",
    "plt.subplot(2, 5, 6)\n",
    "plt.scatter(outcome, data['Agg Assault'])\n",
    "plt.title('Agg Assault')\n",
    "\n",
    "#Burglary\n",
    "plt.subplot(2, 5, 7)\n",
    "plt.scatter(outcome, data['Burglary'])\n",
    "plt.title('Burglary')\n",
    "\n",
    "#Larceny\n",
    "plt.subplot(2, 5, 8)\n",
    "plt.scatter(outcome, data['Larceny'])\n",
    "plt.title('Larceny')\n",
    "\n",
    "#Vehicle Theft\n",
    "plt.subplot(2, 5, 9)\n",
    "plt.scatter(outcome, data['Vehicle Theft'])\n",
    "plt.title('Vehicle Theft')\n",
    "\n",
    "#Arson\n",
    "plt.subplot(2, 5, 10)\n",
    "plt.scatter(outcome, data['Arson'])\n",
    "plt.title('Arson')\n",
    " \n",
    "plt.show()"
   ]
  },
  {
   "cell_type": "markdown",
   "metadata": {},
   "source": [
    "## 4) Use OLS Regression model"
   ]
  },
  {
   "cell_type": "code",
   "execution_count": 30,
   "metadata": {},
   "outputs": [
    {
     "name": "stdout",
     "output_type": "stream",
     "text": [
      "Coefficients: \n",
      " [[ 2.39224990e-02  2.89403704e+02 -2.50227380e+00 -3.83815902e+00]]\n",
      "\n",
      "Intercept:  \n",
      " [-5.89263976]\n",
      "\n",
      "R-Squared:\n",
      "92.977 %\n"
     ]
    }
   ],
   "source": [
    "# Instantiate and fit the model using four different features - Population, Rape2, Robbery, and Agg Assault.\n",
    "regr = linear_model.LinearRegression()\n",
    "Y = data['Property Crime'].values.reshape(-1, 1)\n",
    "X = data[['Population', 'Murder', 'Rape', 'Agg Assault']]\n",
    "regr.fit(X, Y)\n",
    "\n",
    "print('Coefficients: \\n', regr.coef_)\n",
    "print('\\nIntercept:  \\n', regr.intercept_)\n",
    "print('\\nR-Squared:')\n",
    "print((regr.score(X, Y) * 100).round(3),'%')"
   ]
  },
  {
   "cell_type": "markdown",
   "metadata": {},
   "source": [
    "Our OLS Regression model turned out great!<br><br>\n",
    "__Intercept:__ -5.893<br>\n",
    "__R-Squared:__  92.977%<br><br>\n",
    "Use __GridSearchCV__ from __sklearn__ to see how it holds up with folds:"
   ]
  },
  {
   "cell_type": "code",
   "execution_count": 33,
   "metadata": {},
   "outputs": [
    {
     "name": "stdout",
     "output_type": "stream",
     "text": [
      "Fitting 5 folds for each of 2 candidates, totalling 10 fits\n"
     ]
    },
    {
     "name": "stderr",
     "output_type": "stream",
     "text": [
      "[Parallel(n_jobs=1)]: Using backend SequentialBackend with 1 concurrent workers.\n",
      "[Parallel(n_jobs=1)]: Done  10 out of  10 | elapsed:    0.1s finished\n"
     ]
    },
    {
     "data": {
      "text/plain": [
       "GridSearchCV(cv=5, error_score='raise-deprecating',\n",
       "       estimator=LinearRegression(copy_X=True, fit_intercept=True, n_jobs=None,\n",
       "         normalize=False),\n",
       "       fit_params=None, iid='warn', n_jobs=None,\n",
       "       param_grid={'normalize': [True, False]}, pre_dispatch='2*n_jobs',\n",
       "       refit=True, return_train_score='warn', scoring='r2', verbose=1)"
      ]
     },
     "execution_count": 33,
     "metadata": {},
     "output_type": "execute_result"
    }
   ],
   "source": [
    "from sklearn.model_selection import GridSearchCV\n",
    "\n",
    "# Instantiate and fit our model\n",
    "regr = linear_model.LinearRegression()\n",
    "\n",
    "parameters = {'normalize':[True,False]}\n",
    "\n",
    "grid = GridSearchCV(regr, parameters, scoring='r2', cv=5, verbose=1)\n",
    "\n",
    "# Bring in the features to use\n",
    "Y = data['Property Crime'].values.reshape(-1,1)\n",
    "X = data[['Population', 'Murder', 'Rape', 'Agg Assault']]\n",
    "\n",
    "# Fit the data\n",
    "grid.fit(X, Y)"
   ]
  },
  {
   "cell_type": "code",
   "execution_count": 35,
   "metadata": {},
   "outputs": [
    {
     "data": {
      "text/plain": [
       "{'mean_fit_time': array([0.00873561, 0.00216613]),\n",
       " 'std_fit_time': array([0.01248993, 0.0007625 ]),\n",
       " 'mean_score_time': array([0.00126324, 0.00090499]),\n",
       " 'std_score_time': array([0.00060862, 0.00026435]),\n",
       " 'param_normalize': masked_array(data=[True, False],\n",
       "              mask=[False, False],\n",
       "        fill_value='?',\n",
       "             dtype=object),\n",
       " 'params': [{'normalize': True}, {'normalize': False}],\n",
       " 'split0_test_score': array([0.81936579, 0.81936579]),\n",
       " 'split1_test_score': array([0.92017397, 0.92017397]),\n",
       " 'split2_test_score': array([0.86203107, 0.86203107]),\n",
       " 'split3_test_score': array([0.76204441, 0.76204441]),\n",
       " 'split4_test_score': array([0.70834768, 0.70834768]),\n",
       " 'mean_test_score': array([0.81440337, 0.81440337]),\n",
       " 'std_test_score': array([0.07404106, 0.07404106]),\n",
       " 'rank_test_score': array([1, 2], dtype=int32),\n",
       " 'split0_train_score': array([0.9317983, 0.9317983]),\n",
       " 'split1_train_score': array([0.92973698, 0.92973698]),\n",
       " 'split2_train_score': array([0.84355251, 0.84355251]),\n",
       " 'split3_train_score': array([0.98702281, 0.98702281]),\n",
       " 'split4_train_score': array([0.93297684, 0.93297684]),\n",
       " 'mean_train_score': array([0.92501749, 0.92501749]),\n",
       " 'std_train_score': array([0.04607126, 0.04607126])}"
      ]
     },
     "execution_count": 35,
     "metadata": {},
     "output_type": "execute_result"
    }
   ],
   "source": [
    "grid.cv_results_"
   ]
  },
  {
   "cell_type": "code",
   "execution_count": 34,
   "metadata": {},
   "outputs": [
    {
     "name": "stdout",
     "output_type": "stream",
     "text": [
      "R-Squared:  92.977 %\n"
     ]
    }
   ],
   "source": [
    "# Get the R-Squared value after using GridSearchCV \n",
    "print(\"R-Squared: \", ((grid.score(X, Y)) * 100).round(3), \"%\")"
   ]
  },
  {
   "cell_type": "markdown",
   "metadata": {},
   "source": [
    "## 5) Use KNN Regression model"
   ]
  },
  {
   "cell_type": "markdown",
   "metadata": {},
   "source": [
    "__Unweighted Version__"
   ]
  },
  {
   "cell_type": "code",
   "execution_count": 45,
   "metadata": {},
   "outputs": [],
   "source": [
    "from sklearn import neighbors\n",
    "\n",
    "# Build our model\n",
    "knn = neighbors.KNeighborsRegressor(n_neighbors=10)\n",
    "X = data[['Population', 'Murder', 'Rape', 'Agg Assault']]\n",
    "Y = data['Violent Crime']\n",
    "knn.fit(X, Y)\n",
    "\n",
    "#Set up our prediction line\n",
    "T = np.c_[np.random.randint(10000,2000000,100), np.random.randint(0,1000,100), np.random.randint(0,1000,100), \n",
    "          np.random.randint(0,100000,100)]\n",
    "\n",
    "Y_ = knn.predict(T)"
   ]
  },
  {
   "cell_type": "markdown",
   "metadata": {},
   "source": [
    "__Weighted Version__"
   ]
  },
  {
   "cell_type": "code",
   "execution_count": 46,
   "metadata": {},
   "outputs": [],
   "source": [
    "# Build our model\n",
    "knn_w = neighbors.KNeighborsRegressor(n_neighbors=10, weights='distance')\n",
    "X = data[['Population', 'Murder', 'Rape', 'Agg Assault']]\n",
    "Y = data['Violent Crime']\n",
    "knn_w.fit(X, Y)\n",
    "\n",
    "#Set up our prediction line\n",
    "T = np.c_[np.random.randint(10000,2000000,100), np.random.randint(0,1000,100), np.random.randint(0,1000,100), \n",
    "          np.random.randint(0,100000,100)]\n",
    "\n",
    "Y_ = knn_w.predict(T)"
   ]
  },
  {
   "cell_type": "markdown",
   "metadata": {},
   "source": [
    "__Cross-Validation Scores__"
   ]
  },
  {
   "cell_type": "code",
   "execution_count": 47,
   "metadata": {},
   "outputs": [
    {
     "name": "stdout",
     "output_type": "stream",
     "text": [
      "Unweighted Accuracy: 0.50 (+/- 0.39)\n",
      "Weighted Accuracy:   0.49 (+/- 0.36)\n"
     ]
    }
   ],
   "source": [
    "from sklearn.model_selection import cross_val_score\n",
    "\n",
    "score = cross_val_score(knn, X, Y, cv=5)\n",
    "print('Unweighted Accuracy: %0.2f (+/- %0.2f)' % (score.mean(), score.std() * 2))\n",
    "\n",
    "score_w = cross_val_score(knn_w, X, Y, cv=5)\n",
    "print('Weighted Accuracy:   %0.2f (+/- %0.2f)' % (score_w.mean(), score_w.std() * 2))"
   ]
  },
  {
   "cell_type": "markdown",
   "metadata": {},
   "source": [
    "## 6) Summary"
   ]
  },
  {
   "cell_type": "markdown",
   "metadata": {},
   "source": [
    "To recap, the models produced the following scores:<br><br>\n",
    "\n",
    "__------OLS REGRESSION------__<br>\n",
    "__Intercept:__ &nbsp;&nbsp;&nbsp; -5.893<br>\n",
    "__R-Squared:__  &nbsp; 92.977%<br><br>\n",
    "\n",
    "__------KNN REGRESSION------__<br>\n",
    "__Unweighted:__  &nbsp;&nbsp; 50% (+/- 0.39)<br>\n",
    "__Weighted:__   &nbsp;&nbsp;&nbsp;&nbsp;&nbsp;&nbsp; 49% (+/- 0.36)<br><br>\n",
    "\n",
    "The OLS Regression Model performed significantly better than the KNN Regression model. I believe that for regression modelling, OLS has a better accuracy potential than KNN Regression. I believe this occurs due to the fact that the OLS regression model uses all datapoints to create a line of best fit, whereas KNN uses only a specific few datapoints to generate a prediction. This means if the datapoint you are attempting to predict happens to fall closest to some outliers, the prediction is likely to follow suit, whereas with OLS, the outliers and merely part of the overall algorithm for the regression line.<br><br>\n",
    "\n",
    "While KNN might happen to produce somewhat accurate results some of the time, I would be wary of using KNN as my sole regression modeling tool due to a lack of trust in its capabilites. I am much more likely to use KNN as a classifier than a regression modeling tool.<br><br>\n",
    "\n",
    "It is possible, however, that if the data being used here in this example was not so highly cross-correlated, KNN Regression might have some stronger prediction capabilities. However, that is not the case in this scenario."
   ]
  },
  {
   "cell_type": "code",
   "execution_count": null,
   "metadata": {},
   "outputs": [],
   "source": []
  }
 ],
 "metadata": {
  "kernelspec": {
   "display_name": "Python 3",
   "language": "python",
   "name": "python3"
  },
  "language_info": {
   "codemirror_mode": {
    "name": "ipython",
    "version": 3
   },
   "file_extension": ".py",
   "mimetype": "text/x-python",
   "name": "python",
   "nbconvert_exporter": "python",
   "pygments_lexer": "ipython3",
   "version": "3.7.0"
  }
 },
 "nbformat": 4,
 "nbformat_minor": 2
}
