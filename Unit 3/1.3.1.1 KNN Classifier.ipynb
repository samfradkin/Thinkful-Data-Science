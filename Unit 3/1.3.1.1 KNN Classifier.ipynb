{
 "cells": [
  {
   "cell_type": "markdown",
   "metadata": {},
   "source": [
    "# KNN Classifier - Mesh Sizes "
   ]
  },
  {
   "cell_type": "markdown",
   "metadata": {},
   "source": [
    "Imports"
   ]
  },
  {
   "cell_type": "code",
   "execution_count": 1,
   "metadata": {},
   "outputs": [],
   "source": [
    "import numpy as np\n",
    "import pandas as pd\n",
    "import matplotlib.pyplot as plt\n",
    "import scipy\n",
    "import math\n",
    "from collections import Counter\n",
    "%matplotlib inline\n",
    "\n",
    "import warnings\n",
    "warnings.filterwarnings('ignore')"
   ]
  },
  {
   "cell_type": "markdown",
   "metadata": {},
   "source": [
    "## (1) Create some sample data"
   ]
  },
  {
   "cell_type": "markdown",
   "metadata": {},
   "source": [
    "Create some music track data and plot it"
   ]
  },
  {
   "cell_type": "code",
   "execution_count": 2,
   "metadata": {},
   "outputs": [
    {
     "data": {
      "image/png": "[encoded data removed]",
      "text/plain": [
       "<Figure size 432x288 with 1 Axes>"
      ]
     },
     "metadata": {},
     "output_type": "display_data"
    }
   ],
   "source": [
    "music = pd.DataFrame()\n",
    "\n",
    "# Some data to play with\n",
    "music['Duration'] = [184, 134, 243, 186, 122, 197, 294, 382, 102, 264, 205, 110, 307, 110, 397,\n",
    "                     153, 190, 192, 210, 403, 164, 198, 204, 253, 234, 190, 182, 401, 376, 102]\n",
    "music['Loudness'] = [18, 34, 43, 36, 22, 9, 29, 22, 10, 24, 20, 10, 17, 51, 7,\n",
    "                     13, 19, 12, 21, 22, 16, 18, 4, 23, 34, 19, 14, 11, 37, 42]\n",
    "\n",
    "# We know whether the songs in our training data are jazz or not\n",
    "music['Jazz'] = [ 1, 0, 0, 0, 1, 1, 0, 1, 1, 0, 0, 1, 1, 0, 1,\n",
    "                 1, 0, 1, 1, 1, 1, 1, 1, 1, 0, 0, 1, 1, 0, 0]\n",
    "\n",
    "# Look at our data\n",
    "plt.scatter(\n",
    "    music[music['Jazz'] == 1].Duration,\n",
    "    music[music['Jazz'] == 1].Loudness,\n",
    "    color = 'red')\n",
    "\n",
    "plt.scatter(\n",
    "    music[music['Jazz'] == 0].Duration,\n",
    "    music[music['Jazz'] == 0].Loudness,\n",
    "    color = 'blue')\n",
    "\n",
    "plt.legend(['Jazz', 'Rock'])\n",
    "plt.title('Jazz and Rock Charachteristics')\n",
    "plt.xlabel('Duration')\n",
    "plt.ylabel('Loudness')\n",
    "plt.show()"
   ]
  },
  {
   "cell_type": "markdown",
   "metadata": {},
   "source": [
    "## (2) Build the KNN Classifier from SKLearn and test out different mesh sizes"
   ]
  },
  {
   "cell_type": "markdown",
   "metadata": {},
   "source": [
    "Import KNN from SKLearn and make a prediction"
   ]
  },
  {
   "cell_type": "code",
   "execution_count": 3,
   "metadata": {},
   "outputs": [
    {
     "name": "stdout",
     "output_type": "stream",
     "text": [
      "[1]\n",
      "[[0.4 0.6]]\n"
     ]
    }
   ],
   "source": [
    "from sklearn.neighbors import KNeighborsClassifier\n",
    "neighbors = KNeighborsClassifier(n_neighbors = 5)\n",
    "X = music[['Loudness', 'Duration']]\n",
    "Y = music.Jazz\n",
    "neighbors.fit(X,Y)\n",
    "\n",
    "# Predict for a song that is 190 seconds long and loudness level 24\n",
    "print(neighbors.predict([[24, 190]]))\n",
    "print(neighbors.predict_proba([[24, 190]]))"
   ]
  },
  {
   "cell_type": "markdown",
   "metadata": {},
   "source": [
    "Create a mesh to make better predictions<br> \n",
    "__Mesh Size:__ 4.0"
   ]
  },
  {
   "cell_type": "code",
   "execution_count": 4,
   "metadata": {
    "scrolled": true
   },
   "outputs": [
    {
     "data": {
      "image/png": "[encoded data removed]",
      "text/plain": [
       "<Figure size 432x288 with 1 Axes>"
      ]
     },
     "metadata": {},
     "output_type": "display_data"
    }
   ],
   "source": [
    "# Convert the data from dataframes to arrays for the mesh\n",
    "X = np.array(X)\n",
    "Y = np.array(Y)\n",
    "\n",
    "# Mesh size\n",
    "h = 4.0\n",
    "\n",
    "# Plot the decision boundary. We assign a color to each point in the mesh\n",
    "x_min = X[:, 0].min() - 0.5\n",
    "x_max = X[:, 0].max() + 0.5\n",
    "y_min = X[:, 1].min() - 0.5\n",
    "y_max = X[:, 1].max() + 0.5\n",
    "xx, yy = np.meshgrid(\n",
    "    np.arange(x_min, x_max, h),\n",
    "    np.arange(y_min, y_max, h))\n",
    "\n",
    "Z = neighbors.predict(np.c_[xx.ravel(), yy.ravel()])\n",
    "\n",
    "# Put the result into a color plot\n",
    "Z = Z.reshape(xx.shape)\n",
    "plt.figure(1, figsize = (6, 4))\n",
    "plt.set_cmap(plt.cm.Paired)\n",
    "plt.pcolormesh(xx, yy, Z)\n",
    "\n",
    "# Add the training points to the plot\n",
    "plt.scatter(X[:, 0], X[:, 1], c=Y)\n",
    "plt.xlabel('Loudness')\n",
    "plt.ylabel('Duration')\n",
    "plt.title('Mesh Visualization')\n",
    "\n",
    "plt.xlim(xx.min(), xx.max())\n",
    "plt.ylim(yy.min(), yy.max())\n",
    "\n",
    "plt.show()"
   ]
  },
  {
   "cell_type": "markdown",
   "metadata": {},
   "source": [
    "Try again with a new mesh size.<br> \n",
    "__Mesh Size:__ 10.0"
   ]
  },
  {
   "cell_type": "code",
   "execution_count": 5,
   "metadata": {},
   "outputs": [
    {
     "data": {
      "image/png": "[encoded data removed]",
      "text/plain": [
       "<Figure size 432x288 with 1 Axes>"
      ]
     },
     "metadata": {},
     "output_type": "display_data"
    }
   ],
   "source": [
    "# Convert the data from dataframes to arrays for the mesh\n",
    "X = np.array(X)\n",
    "Y = np.array(Y)\n",
    "\n",
    "# Mesh size\n",
    "h = 10.0\n",
    "\n",
    "# Plot the decision boundary. We assign a color to each point in the mesh\n",
    "x_min = X[:, 0].min() - 0.5\n",
    "x_max = X[:, 0].max() + 0.5\n",
    "y_min = X[:, 1].min() - 0.5\n",
    "y_max = X[:, 1].max() + 0.5\n",
    "xx, yy = np.meshgrid(\n",
    "    np.arange(x_min, x_max, h),\n",
    "    np.arange(y_min, y_max, h))\n",
    "\n",
    "Z = neighbors.predict(np.c_[xx.ravel(), yy.ravel()])\n",
    "\n",
    "# Put the result into a color plot\n",
    "Z = Z.reshape(xx.shape)\n",
    "plt.figure(1, figsize = (6, 4))\n",
    "plt.set_cmap(plt.cm.Paired)\n",
    "plt.pcolormesh(xx, yy, Z)\n",
    "\n",
    "# Add the training points to the plot\n",
    "plt.scatter(X[:, 0], X[:, 1], c=Y)\n",
    "plt.xlabel('Loudness')\n",
    "plt.ylabel('Duration')\n",
    "plt.title('Mesh Visualization')\n",
    "\n",
    "plt.xlim(xx.min(), xx.max())\n",
    "plt.ylim(yy.min(), yy.max())\n",
    "\n",
    "plt.show()"
   ]
  },
  {
   "cell_type": "markdown",
   "metadata": {},
   "source": [
    "Try again with a new mesh size.<br> \n",
    "__Mesh Size:__ 7.0"
   ]
  },
  {
   "cell_type": "code",
   "execution_count": 6,
   "metadata": {},
   "outputs": [
    {
     "data": {
      "image/png": "[encoded data removed]",
      "text/plain": [
       "<Figure size 432x288 with 1 Axes>"
      ]
     },
     "metadata": {},
     "output_type": "display_data"
    }
   ],
   "source": [
    "# Convert the data from dataframes to arrays for the mesh\n",
    "X = np.array(X)\n",
    "Y = np.array(Y)\n",
    "\n",
    "# Mesh size\n",
    "h = 7.0\n",
    "\n",
    "# Plot the decision boundary. We assign a color to each point in the mesh\n",
    "x_min = X[:, 0].min() - 0.5\n",
    "x_max = X[:, 0].max() + 0.5\n",
    "y_min = X[:, 1].min() - 0.5\n",
    "y_max = X[:, 1].max() + 0.5\n",
    "xx, yy = np.meshgrid(\n",
    "    np.arange(x_min, x_max, h),\n",
    "    np.arange(y_min, y_max, h))\n",
    "\n",
    "Z = neighbors.predict(np.c_[xx.ravel(), yy.ravel()])\n",
    "\n",
    "# Put the result into a color plot\n",
    "Z = Z.reshape(xx.shape)\n",
    "plt.figure(1, figsize = (6, 4))\n",
    "plt.set_cmap(plt.cm.Paired)\n",
    "plt.pcolormesh(xx, yy, Z)\n",
    "\n",
    "# Add the training points to the plot\n",
    "plt.scatter(X[:, 0], X[:, 1], c=Y)\n",
    "plt.xlabel('Loudness')\n",
    "plt.ylabel('Duration')\n",
    "plt.title('Mesh Visualization')\n",
    "\n",
    "plt.xlim(xx.min(), xx.max())\n",
    "plt.ylim(yy.min(), yy.max())\n",
    "\n",
    "plt.show()"
   ]
  },
  {
   "cell_type": "markdown",
   "metadata": {},
   "source": [
    "Try again with a new mesh size.<br> \n",
    "__Mesh Size:__ 1.0"
   ]
  },
  {
   "cell_type": "code",
   "execution_count": 7,
   "metadata": {},
   "outputs": [
    {
     "data": {
      "image/png": "[encoded data removed]",
      "text/plain": [
       "<Figure size 432x288 with 1 Axes>"
      ]
     },
     "metadata": {},
     "output_type": "display_data"
    }
   ],
   "source": [
    "# Convert the data from dataframes to arrays for the mesh\n",
    "X = np.array(X)\n",
    "Y = np.array(Y)\n",
    "\n",
    "# Mesh size\n",
    "h = 1.0\n",
    "\n",
    "# Plot the decision boundary. We assign a color to each point in the mesh\n",
    "x_min = X[:, 0].min() - 0.5\n",
    "x_max = X[:, 0].max() + 0.5\n",
    "y_min = X[:, 1].min() - 0.5\n",
    "y_max = X[:, 1].max() + 0.5\n",
    "xx, yy = np.meshgrid(\n",
    "    np.arange(x_min, x_max, h),\n",
    "    np.arange(y_min, y_max, h))\n",
    "\n",
    "Z = neighbors.predict(np.c_[xx.ravel(), yy.ravel()])\n",
    "\n",
    "# Put the result into a color plot\n",
    "Z = Z.reshape(xx.shape)\n",
    "plt.figure(1, figsize = (6, 4))\n",
    "plt.set_cmap(plt.cm.Paired)\n",
    "plt.pcolormesh(xx, yy, Z)\n",
    "\n",
    "# Add the training points to the plot\n",
    "plt.scatter(X[:, 0], X[:, 1], c=Y)\n",
    "plt.xlabel('Loudness')\n",
    "plt.ylabel('Duration')\n",
    "plt.title('Mesh Visualization')\n",
    "\n",
    "plt.xlim(xx.min(), xx.max())\n",
    "plt.ylim(yy.min(), yy.max())\n",
    "\n",
    "plt.show()"
   ]
  },
  {
   "cell_type": "markdown",
   "metadata": {},
   "source": [
    "Try again with a new mesh size.<br> \n",
    "__Mesh Size:__ 0.25"
   ]
  },
  {
   "cell_type": "code",
   "execution_count": 8,
   "metadata": {},
   "outputs": [
    {
     "data": {
      "image/png": "[encoded data removed]",
      "text/plain": [
       "<Figure size 432x288 with 1 Axes>"
      ]
     },
     "metadata": {},
     "output_type": "display_data"
    }
   ],
   "source": [
    "# Convert the data from dataframes to arrays for the mesh\n",
    "X = np.array(X)\n",
    "Y = np.array(Y)\n",
    "\n",
    "# Mesh size\n",
    "h = 0.25\n",
    "\n",
    "# Plot the decision boundary. We assign a color to each point in the mesh\n",
    "x_min = X[:, 0].min() - 0.5\n",
    "x_max = X[:, 0].max() + 0.5\n",
    "y_min = X[:, 1].min() - 0.5\n",
    "y_max = X[:, 1].max() + 0.5\n",
    "xx, yy = np.meshgrid(\n",
    "    np.arange(x_min, x_max, h),\n",
    "    np.arange(y_min, y_max, h))\n",
    "\n",
    "Z = neighbors.predict(np.c_[xx.ravel(), yy.ravel()])\n",
    "\n",
    "# Put the result into a color plot\n",
    "Z = Z.reshape(xx.shape)\n",
    "plt.figure(1, figsize = (6, 4))\n",
    "plt.set_cmap(plt.cm.Paired)\n",
    "plt.pcolormesh(xx, yy, Z)\n",
    "\n",
    "# Add the training points to the plot\n",
    "plt.scatter(X[:, 0], X[:, 1], c=Y)\n",
    "plt.xlabel('Loudness')\n",
    "plt.ylabel('Duration')\n",
    "plt.title('Mesh Visualization')\n",
    "\n",
    "plt.xlim(xx.min(), xx.max())\n",
    "plt.ylim(yy.min(), yy.max())\n",
    "\n",
    "plt.show()"
   ]
  },
  {
   "cell_type": "markdown",
   "metadata": {},
   "source": [
    "It looks like the model became computationally demanding once the mesh size went below 1.0."
   ]
  },
  {
   "cell_type": "markdown",
   "metadata": {},
   "source": [
    "## (3) Build a KNN (K=1) Classifier from scratch"
   ]
  },
  {
   "cell_type": "code",
   "execution_count": 9,
   "metadata": {},
   "outputs": [],
   "source": [
    "# Create some sample values that we can predict the class\n",
    "prediction_points = [[125, 15], [150, 25], [175, 35], [200, 45], [225, 55]]\n",
    "\n",
    "# Make some empty columns in the original data to assist in the calculations\n",
    "music['Subtract_D'] = \"\"\n",
    "music['Subtract_L'] = \"\""
   ]
  },
  {
   "cell_type": "code",
   "execution_count": 10,
   "metadata": {},
   "outputs": [],
   "source": [
    "# Converted the data into a dataframe to visualize it with the original data\n",
    "prediction_points_df = pd.DataFrame()\n",
    "prediction_points_df['Duration'] = [125, 150, 175, 200, 225]\n",
    "prediction_points_df['Loudness'] = [15, 25, 35, 45, 55]"
   ]
  },
  {
   "cell_type": "code",
   "execution_count": 11,
   "metadata": {},
   "outputs": [
    {
     "data": {
      "image/png": "[encoded data removed]",
      "text/plain": [
       "<Figure size 432x288 with 1 Axes>"
      ]
     },
     "metadata": {},
     "output_type": "display_data"
    }
   ],
   "source": [
    "# Plot the original data along with the data we want to classify\n",
    "plt.scatter(\n",
    "    music[music['Jazz'] == 1].Duration,\n",
    "    music[music['Jazz'] == 1].Loudness,\n",
    "    color = 'red')\n",
    "\n",
    "plt.scatter(\n",
    "    music[music['Jazz'] == 0].Duration,\n",
    "    music[music['Jazz'] == 0].Loudness,\n",
    "    color = 'blue')\n",
    "\n",
    "plt.scatter(\n",
    "    prediction_points_df['Duration'],\n",
    "    prediction_points_df['Loudness'],\n",
    "    color='green')\n",
    "\n",
    "plt.legend(['Jazz', 'Rock', 'To Predict'])\n",
    "plt.title('Jazz and Rock Characteristics')\n",
    "plt.xlabel('Duration')\n",
    "plt.ylabel('Loudness')\n",
    "plt.show()"
   ]
  },
  {
   "cell_type": "code",
   "execution_count": 13,
   "metadata": {},
   "outputs": [
    {
     "name": "stdout",
     "output_type": "stream",
     "text": [
      "Jazz = 1    Rock = 0\n",
      "\n",
      "Predict Point:    [125, 15]\n",
      "Predicted Class:  1\n",
      "\n",
      "Predict Point:    [150, 25]\n",
      "Predicted Class:  1\n",
      "\n",
      "Predict Point:    [175, 35]\n",
      "Predicted Class:  0\n",
      "\n",
      "Predict Point:    [200, 45]\n",
      "Predicted Class:  0\n",
      "\n",
      "Predict Point:    [225, 55]\n",
      "Predicted Class:  0\n",
      "\n"
     ]
    }
   ],
   "source": [
    "# Provide a legend for the results\n",
    "print('Jazz = 1    Rock = 0')\n",
    "print()\n",
    "\n",
    "# Create a for loop to run through each row in the music dataframe\n",
    "for i in prediction_points:\n",
    "    # Calculate the distances from the predicting value to all the music values\n",
    "    music['Subtract_D'] = i[0] - music['Duration']\n",
    "    music['Subtract_L'] = i[1] - music['Loudness']\n",
    "    \n",
    "    # Sum the absolute values of the distances\n",
    "    music['Distance'] = abs(music['Subtract_D']) + abs(music['Subtract_L'])\n",
    "    \n",
    "    \n",
    "    # Find the row with the smallest distance value\n",
    "    nearest_neighbor = np.argmin(music['Distance'])\n",
    "    \n",
    "    # Save the Class value in a variable called \"Predicted Class\"\n",
    "    predicted_class = music.iloc[nearest_neighbor]['Jazz']\n",
    "    \n",
    "    # Print the results\n",
    "    print('Predict Point:   ', i)\n",
    "    print('Predicted Class: ', predicted_class)\n",
    "    print()"
   ]
  }
 ],
 "metadata": {
  "kernelspec": {
   "display_name": "Python 3",
   "language": "python",
   "name": "python3"
  },
  "language_info": {
   "codemirror_mode": {
    "name": "ipython",
    "version": 3
   },
   "file_extension": ".py",
   "mimetype": "text/x-python",
   "name": "python",
   "nbconvert_exporter": "python",
   "pygments_lexer": "ipython3",
   "version": "3.7.0"
  }
 },
 "nbformat": 4,
 "nbformat_minor": 2
}
