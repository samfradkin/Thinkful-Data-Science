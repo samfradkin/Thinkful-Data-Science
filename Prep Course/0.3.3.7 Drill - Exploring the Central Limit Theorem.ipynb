{
 "cells": [
  {
   "cell_type": "code",
   "execution_count": 23,
   "metadata": {},
   "outputs": [
    {
     "data": {
      "text/html": [
       "<script>\n",
       "code_show=true; \n",
       "function code_toggle() {\n",
       " if (code_show){\n",
       " $('div.input').hide();\n",
       " } else {\n",
       " $('div.input').show();\n",
       " }\n",
       " code_show = !code_show\n",
       "} \n",
       "$( document ).ready(code_toggle);\n",
       "</script>\n",
       "<i>The raw code for this IPython notebook is by default hidden for easier reading.\n",
       "To toggle on/off the raw code, click <a href=\"javascript:code_toggle()\">here</a></i>."
      ],
      "text/plain": [
       "<IPython.core.display.HTML object>"
      ]
     },
     "execution_count": 23,
     "metadata": {},
     "output_type": "execute_result"
    }
   ],
   "source": [
    "# Make code toggle-able for easier review.\n",
    "from IPython.display import HTML\n",
    "\n",
    "HTML('''<script>\n",
    "code_show=true; \n",
    "function code_toggle() {\n",
    " if (code_show){\n",
    " $('div.input').hide();\n",
    " } else {\n",
    " $('div.input').show();\n",
    " }\n",
    " code_show = !code_show\n",
    "} \n",
    "$( document ).ready(code_toggle);\n",
    "</script>\n",
    "<i>The raw code for this IPython notebook is by default hidden for easier reading.\n",
    "To toggle on/off the raw code, click <a href=\"javascript:code_toggle()\">here</a></i>.''')"
   ]
  },
  {
   "cell_type": "code",
   "execution_count": 1,
   "metadata": {},
   "outputs": [],
   "source": [
    "import numpy as np\n",
    "import pandas as pd\n",
    "import scipy\n",
    "import matplotlib.pyplot as plt\n",
    "from scipy.stats import ttest_ind\n",
    "%matplotlib inline"
   ]
  },
  {
   "cell_type": "code",
   "execution_count": 2,
   "metadata": {},
   "outputs": [
    {
     "name": "stdout",
     "output_type": "stream",
     "text": [
      "SAMPLE SIZE: 100\n",
      "Sample 1 Mean:     2.1\n",
      "Sample 2 Mean:     5.01\n",
      "Sample 1 Std Dev:  1.2124355652982142\n",
      "Sample 2 Std Dev:  1.5264009958068028\n"
     ]
    }
   ],
   "source": [
    "pop1 = np.random.binomial(10, 0.2, 10000)\n",
    "pop2 = np.random.binomial(10, 0.5, 10000)\n",
    "\n",
    "sample1 = np.random.choice(pop1, 100, replace=True)\n",
    "sample2 = np.random.choice(pop2, 100, replace=True)\n",
    "\n",
    "print('SAMPLE SIZE: 100')\n",
    "print('Sample 1 Mean:    ', sample1.mean())\n",
    "print('Sample 2 Mean:    ', sample2.mean())\n",
    "print('Sample 1 Std Dev: ', sample1.std())\n",
    "print('Sample 2 Std Dev: ', sample2.std())"
   ]
  },
  {
   "cell_type": "code",
   "execution_count": 6,
   "metadata": {},
   "outputs": [
    {
     "name": "stdout",
     "output_type": "stream",
     "text": [
      "\n",
      "Question 1\n",
      "\n",
      "SAMPLE SIZE: 1,000\n",
      "\n",
      "I believe that by increasing the sample size, the mean will stay the same\n",
      "and the standard deviation will get smaller\n",
      "\n",
      "Sample 1 Mean:     2.025\n",
      "Sample 2 Mean:     4.986\n",
      "Sample 1 Std Dev:  1.3260373297912846\n",
      "Sample 2 Std Dev:  1.6185808598893046\n"
     ]
    },
    {
     "data": {
      "image/png": "[encoded data removed]",
      "text/plain": [
       "<Figure size 432x288 with 1 Axes>"
      ]
     },
     "metadata": {},
     "output_type": "display_data"
    },
    {
     "name": "stdout",
     "output_type": "stream",
     "text": [
      "\n",
      "SAMPLE SIZE: 20\n",
      "\n",
      "I believe that by decreasing the sample size, the mean change\n",
      "and the standard deviation will enlarge\n",
      "\n",
      "Sample 1 Mean:     2.05\n",
      "Sample 2 Mean:     5.55\n",
      "Sample 1 Std Dev:  1.2031209415515967\n",
      "Sample 2 Std Dev:  1.532155344604456\n"
     ]
    },
    {
     "data": {
      "image/png": "[encoded data removed]",
      "text/plain": [
       "<Figure size 432x288 with 1 Axes>"
      ]
     },
     "metadata": {},
     "output_type": "display_data"
    }
   ],
   "source": [
    "print()\n",
    "print('Question 1')\n",
    "print()\n",
    "print('SAMPLE SIZE: 1,000')\n",
    "print()\n",
    "print(\"\"\"I believe that by increasing the sample size, the mean will stay the same\n",
    "and the standard deviation will get smaller\"\"\")\n",
    "print()\n",
    "sample1b = np.random.choice(pop1, 1000, replace=True)\n",
    "sample2b = np.random.choice(pop2, 1000, replace=True)\n",
    "print('Sample 1 Mean:    ', sample1b.mean())\n",
    "print('Sample 2 Mean:    ', sample2b.mean())\n",
    "print('Sample 1 Std Dev: ', sample1b.std())\n",
    "print('Sample 2 Std Dev: ', sample2b.std())\n",
    "plt.hist(sample1b, alpha=0.5, label='Sample 1') \n",
    "plt.hist(sample2b, alpha=0.5, label='Sample 2') \n",
    "plt.legend(loc='upper right') \n",
    "plt.show()\n",
    "\n",
    "print()\n",
    "print('SAMPLE SIZE: 20')\n",
    "print()\n",
    "print(\"\"\"I believe that by decreasing the sample size, the mean change\n",
    "and the standard deviation will enlarge\"\"\")\n",
    "print()\n",
    "sample1c = np.random.choice(pop1, 20, replace=True)\n",
    "sample2c = np.random.choice(pop2, 20, replace=True)\n",
    "print('Sample 1 Mean:    ', sample1c.mean())\n",
    "print('Sample 2 Mean:    ', sample2c.mean())\n",
    "print('Sample 1 Std Dev: ', sample1c.std())\n",
    "print('Sample 2 Std Dev: ', sample2c.std())\n",
    "plt.hist(sample1c, alpha=0.5, label='Sample 1') \n",
    "plt.hist(sample2c, alpha=0.5, label='Sample 2') \n",
    "plt.legend(loc='upper right') \n",
    "plt.show()"
   ]
  },
  {
   "cell_type": "code",
   "execution_count": 8,
   "metadata": {},
   "outputs": [
    {
     "name": "stdout",
     "output_type": "stream",
     "text": [
      "It appears that changing the sample size had some change on the means, yet it had\n"
     ]
    }
   ],
   "source": [
    "print(\"\"\"It appears that changing the sample size had some change on the means, yet it had\n",
    "very little effect on the standard deviations.\"\"\")"
   ]
  },
  {
   "cell_type": "code",
   "execution_count": 16,
   "metadata": {},
   "outputs": [
    {
     "name": "stdout",
     "output_type": "stream",
     "text": [
      "\n",
      "Question 2\n",
      "\n",
      "POPULATION P-VALUE: 0.3\n",
      "Sample 1 Mean:     3.17\n",
      "Sample 2 Mean:     4.92\n",
      "Sample 1 Std Dev:  1.371531990148243\n",
      "Sample 2 Std Dev:  1.5727682601069999\n",
      "T-Value:           8.386078588792977\n",
      "\n",
      "POPULATION P-VALUE: 0.3\n",
      "Sample 1 Mean:     4.12\n",
      "Sample 2 Mean:     4.76\n",
      "Sample 1 Std Dev:  1.5892136420255143\n",
      "Sample 2 Std Dev:  1.7269626515938323\n",
      "T-Value:           2.7269866270128715\n"
     ]
    }
   ],
   "source": [
    "print()\n",
    "print('Question 2')\n",
    "print()\n",
    "print('POPULATION P-VALUE: 0.3')\n",
    "pop1d = np.random.binomial(10, 0.3, 10000)\n",
    "pop2d = np.random.binomial(10, 0.5, 10000)\n",
    "sample1d = np.random.choice(pop1d, 100, replace = True)\n",
    "sample2d = np.random.choice(pop2d, 100, replace = True)\n",
    "print('Sample 1 Mean:    ', sample1d.mean())\n",
    "print('Sample 2 Mean:    ', sample2d.mean())\n",
    "print('Sample 1 Std Dev: ', sample1d.std())\n",
    "print('Sample 2 Std Dev: ', sample2d.std())\n",
    "print('T-Statistic: ', ttest_ind(sample2d, sample1d, equal_var=False))\n",
    "print()\n",
    "print('POPULATION P-VALUE: 0.4')\n",
    "pop1e = np.random.binomial(10, 0.4, 10000)\n",
    "pop2e = np.random.binomial(10, 0.5, 10000)\n",
    "sample1e = np.random.choice(pop1e, 100, replace = True)\n",
    "sample2e = np.random.choice(pop2e, 100, replace = True)\n",
    "print('Sample 1 Mean:    ', sample1e.mean())\n",
    "print('Sample 2 Mean:    ', sample2e.mean())\n",
    "print('Sample 1 Std Dev: ', sample1e.std())\n",
    "print('Sample 2 Std Dev: ', sample2e.std())\n",
    "print(ttest_ind(sample2e, sample1e, equal_var=False))"
   ]
  },
  {
   "cell_type": "code",
   "execution_count": 20,
   "metadata": {},
   "outputs": [
    {
     "name": "stdout",
     "output_type": "stream",
     "text": [
      "Changing the population P-value cause the t-value to drastically change.\n"
     ]
    }
   ],
   "source": [
    "print(\"\"\"Changing the population P-value cause the t-value to drastically change.\"\"\")"
   ]
  },
  {
   "cell_type": "code",
   "execution_count": 22,
   "metadata": {},
   "outputs": [
    {
     "name": "stdout",
     "output_type": "stream",
     "text": [
      "Question 3\n",
      "\n",
      "CHANGED TO POISSON DISTRIBUTION\n",
      "Sample 1 Mean:     1.01\n",
      "Sample 2 Mean:     0.81\n",
      "\n",
      "The sample means do not accurately represent the population values anymore.\n"
     ]
    }
   ],
   "source": [
    "pop1f = np.random.poisson(1, 10000)\n",
    "pop2f = np.random.poisson(1, 10000)\n",
    "\n",
    "sample1f = np.random.choice(pop1f, 100, replace=True)\n",
    "sample2f = np.random.choice(pop2f, 100, replace=True)\n",
    "\n",
    "print('Question 3')\n",
    "print()\n",
    "print('CHANGED TO POISSON DISTRIBUTION')\n",
    "print('Sample 1 Mean:    ', sample1f.mean())\n",
    "print('Sample 2 Mean:    ', sample2f.mean())\n",
    "print()\n",
    "print('The sample means do not accurately represent the population values anymore.')"
   ]
  },
  {
   "cell_type": "code",
   "execution_count": null,
   "metadata": {},
   "outputs": [],
   "source": []
  }
 ],
 "metadata": {
  "kernelspec": {
   "display_name": "Python 3",
   "language": "python",
   "name": "python3"
  },
  "language_info": {
   "codemirror_mode": {
    "name": "ipython",
    "version": 3
   },
   "file_extension": ".py",
   "mimetype": "text/x-python",
   "name": "python",
   "nbconvert_exporter": "python",
   "pygments_lexer": "ipython3",
   "version": "3.7.0"
  }
 },
 "nbformat": 4,
 "nbformat_minor": 2
}
