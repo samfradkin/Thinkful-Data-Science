{
 "cells": [
  {
   "cell_type": "code",
   "execution_count": 39,
   "metadata": {},
   "outputs": [
    {
     "data": {
      "text/html": [
       "<script>\n",
       "code_show=true; \n",
       "function code_toggle() {\n",
       " if (code_show){\n",
       " $('div.input').hide();\n",
       " } else {\n",
       " $('div.input').show();\n",
       " }\n",
       " code_show = !code_show\n",
       "} \n",
       "$( document ).ready(code_toggle);\n",
       "</script>\n",
       "<i>The raw code for this IPython notebook is by default hidden for easier reading.\n",
       "To toggle on/off the raw code, click <a href=\"javascript:code_toggle()\">here</a></i>."
      ],
      "text/plain": [
       "<IPython.core.display.HTML object>"
      ]
     },
     "execution_count": 39,
     "metadata": {},
     "output_type": "execute_result"
    }
   ],
   "source": [
    "# Make code toggle-able for easier review.\n",
    "from IPython.display import HTML\n",
    "\n",
    "HTML('''<script>\n",
    "code_show=true; \n",
    "function code_toggle() {\n",
    " if (code_show){\n",
    " $('div.input').hide();\n",
    " } else {\n",
    " $('div.input').show();\n",
    " }\n",
    " code_show = !code_show\n",
    "} \n",
    "$( document ).ready(code_toggle);\n",
    "</script>\n",
    "<i>The raw code for this IPython notebook is by default hidden for easier reading.\n",
    "To toggle on/off the raw code, click <a href=\"javascript:code_toggle()\">here</a></i>.''')"
   ]
  },
  {
   "cell_type": "code",
   "execution_count": 1,
   "metadata": {},
   "outputs": [],
   "source": [
    "import numpy as np\n",
    "import pandas as pd\n",
    "import matplotlib.pyplot as plt\n",
    "%matplotlib inline"
   ]
  },
  {
   "cell_type": "code",
   "execution_count": 23,
   "metadata": {},
   "outputs": [
    {
     "name": "stdout",
     "output_type": "stream",
     "text": [
      "NORMAL DISTRIBUTION\n",
      "Mean:                -0.026568707160280057\n",
      "Standard Deviation:  0.8814513939293496\n"
     ]
    },
    {
     "data": {
      "image/png": "[encoded data removed]",
      "text/plain": [
       "<Figure size 432x288 with 1 Axes>"
      ]
     },
     "metadata": {},
     "output_type": "display_data"
    },
    {
     "name": "stdout",
     "output_type": "stream",
     "text": [
      "For normally distributed data, the mean and standard deviation are\n",
      "great descriptive statistics that show the central tendencies and variance of the data.\n"
     ]
    }
   ],
   "source": [
    "# Generate a normal distribution\n",
    "normal = np.random.normal(0, 1, 100)\n",
    "\n",
    "# Plot its histogram\n",
    "plt.hist(normal)\n",
    "\n",
    "# Add vertical lines for mean and standard deviation\n",
    "plt.axvline(normal.mean(), color='r', linestyle='solid', linewidth=2)\n",
    "plt.axvline(normal.mean() + normal.std(), color='r', linestyle='dashed', linewidth=2)\n",
    "plt.axvline(normal.mean() - normal.std(), color='r', linestyle='dashed', linewidth=2)\n",
    "\n",
    "# Print the mean and standard deviation\n",
    "print('NORMAL DISTRIBUTION')\n",
    "print('Mean:               ', normal.mean())\n",
    "print('Standard Deviation: ', normal.std())\n",
    "plt.show()\n",
    "print(\"\"\"For normally distributed data, the mean and standard deviation are\n",
    "great descriptive statistics that show the central tendencies and variance of the data.\"\"\")"
   ]
  },
  {
   "cell_type": "code",
   "execution_count": 26,
   "metadata": {},
   "outputs": [
    {
     "name": "stdout",
     "output_type": "stream",
     "text": [
      "BINOMIAL DISTRIBUTION\n",
      "Mean:                5.17\n",
      "Standard Deviation:  1.7032615770926085\n"
     ]
    },
    {
     "data": {
      "image/png": "[encoded data removed]",
      "text/plain": [
       "<Figure size 432x288 with 1 Axes>"
      ]
     },
     "metadata": {},
     "output_type": "display_data"
    },
    {
     "name": "stdout",
     "output_type": "stream",
     "text": [
      "For binomially distributed data, the mean and standard deviation are\n",
      "great descriptive statistics that show the central tendencies and variance of the data.\n"
     ]
    }
   ],
   "source": [
    "# Generate a binomial distribution\n",
    "binomial = np.random.binomial(10, 0.5, 100)\n",
    "\n",
    "# Plot its histogram\n",
    "plt.hist(binomial)\n",
    "\n",
    "# Add vertical lines for mean and standard deviation\n",
    "plt.axvline(binomial.mean(), color='r', linestyle='solid', linewidth=2)\n",
    "plt.axvline(binomial.mean() + binomial.std(), color='r', linestyle='dashed', linewidth=2)\n",
    "plt.axvline(binomial.mean() - binomial.std(), color='r', linestyle='dashed', linewidth=2)\n",
    "\n",
    "# Print the mean and standard deviation\n",
    "print('BINOMIAL DISTRIBUTION')\n",
    "print('Mean:               ', binomial.mean())\n",
    "print('Standard Deviation: ', binomial.std())\n",
    "plt.show()\n",
    "print(\"\"\"For binomially distributed data, the mean and standard deviation are\n",
    "great descriptive statistics that show the central tendencies and variance of the data.\"\"\")"
   ]
  },
  {
   "cell_type": "code",
   "execution_count": 29,
   "metadata": {},
   "outputs": [
    {
     "name": "stdout",
     "output_type": "stream",
     "text": [
      "GAMMA DISTRIBUTION\n",
      "Mean:                3.859699389623448\n",
      "Standard Deviation:  2.579361963598281\n"
     ]
    },
    {
     "data": {
      "image/png": "[encoded data removed]",
      "text/plain": [
       "<Figure size 432x288 with 1 Axes>"
      ]
     },
     "metadata": {},
     "output_type": "display_data"
    },
    {
     "name": "stdout",
     "output_type": "stream",
     "text": [
      "For gammaly distributed data, the mean is a great statistics for central tendency\n",
      "but the standard deviation doesn't show much.\n"
     ]
    }
   ],
   "source": [
    "# Generate a gamma distribution\n",
    "gamma = np.random.gamma(2, 2, 100)\n",
    "\n",
    "# Plot its histogram\n",
    "plt.hist(gamma)\n",
    "\n",
    "# Add vertical lines for mean and standard deviation\n",
    "plt.axvline(gamma.mean(), color='r', linestyle='solid', linewidth=2)\n",
    "plt.axvline(gamma.mean() + gamma.std(), color='r', linestyle='dashed', linewidth=2)\n",
    "plt.axvline(gamma.mean() - gamma.std(), color='r', linestyle='dashed', linewidth=2)\n",
    "\n",
    "# Print the mean and standard deviation\n",
    "print('GAMMA DISTRIBUTION')\n",
    "print('Mean:               ', gamma.mean())\n",
    "print('Standard Deviation: ', gamma.std())\n",
    "plt.show()\n",
    "print(\"\"\"For gamma-distributed data, the mean is a great statistics for central tendency\n",
    "but the standard deviation doesn't show much.\"\"\")"
   ]
  },
  {
   "cell_type": "code",
   "execution_count": 31,
   "metadata": {},
   "outputs": [
    {
     "name": "stdout",
     "output_type": "stream",
     "text": [
      "LOGNORMAL DISTRIBUTION\n",
      "Mean:                1.5729538343519633\n",
      "Standard Deviation:  2.1343075794863435\n"
     ]
    },
    {
     "data": {
      "image/png": "[encoded data removed]",
      "text/plain": [
       "<Figure size 432x288 with 1 Axes>"
      ]
     },
     "metadata": {},
     "output_type": "display_data"
    },
    {
     "name": "stdout",
     "output_type": "stream",
     "text": [
      "For lognormally distributed data, you would probably prefer to use the mode for\n",
      "central tendency but the standard deviation helps.\n"
     ]
    }
   ],
   "source": [
    "# Generate a lognormal distribution\n",
    "lognormal = np.random.lognormal(0, 1, 100)\n",
    "\n",
    "# Plot its histogram\n",
    "plt.hist(lognormal)\n",
    "\n",
    "# Add vertical lines for mean and standard deviation\n",
    "plt.axvline(lognormal.mean(), color='r', linestyle='solid', linewidth=2)\n",
    "plt.axvline(lognormal.mean() + lognormal.std(), color='r', linestyle='dashed', linewidth=2)\n",
    "plt.axvline(lognormal.mean() - lognormal.std(), color='r', linestyle='dashed', linewidth=2)\n",
    "\n",
    "# Print the mean and standard deviation\n",
    "print('LOGNORMAL DISTRIBUTION')\n",
    "print('Mean:               ', lognormal.mean())\n",
    "print('Standard Deviation: ', lognormal.std())\n",
    "plt.show()\n",
    "print(\"\"\"For lognormally distributed data, you would probably prefer to use the mode for\n",
    "central tendency but the standard deviation helps.\"\"\")"
   ]
  },
  {
   "cell_type": "code",
   "execution_count": 33,
   "metadata": {},
   "outputs": [
    {
     "name": "stdout",
     "output_type": "stream",
     "text": [
      "EXPONENTIAL DISTRIBUTION\n",
      "Mean:                0.8784069100328742\n",
      "Standard Deviation:  0.9327483678982101\n"
     ]
    },
    {
     "data": {
      "image/png": "[encoded data removed]",
      "text/plain": [
       "<Figure size 432x288 with 1 Axes>"
      ]
     },
     "metadata": {},
     "output_type": "display_data"
    },
    {
     "name": "stdout",
     "output_type": "stream",
     "text": [
      "For exponentially distributed data, you would probably prefer to use the mode for\n",
      "central tendency but the standard deviation​ still provides some insight.\n"
     ]
    }
   ],
   "source": [
    "# Generate a exponential distribution\n",
    "exponential = np.random.exponential(1, 100)\n",
    "\n",
    "# Plot its histogram\n",
    "plt.hist(exponential)\n",
    "\n",
    "# Add vertical lines for mean and standard deviation\n",
    "plt.axvline(exponential.mean(), color='r', linestyle='solid', linewidth=2)\n",
    "plt.axvline(exponential.mean() + exponential.std(), color='r', linestyle='dashed', linewidth=2)\n",
    "plt.axvline(exponential.mean() - exponential.std(), color='r', linestyle='dashed', linewidth=2)\n",
    "\n",
    "# Print the mean and standard deviation\n",
    "print('EXPONENTIAL DISTRIBUTION')\n",
    "print('Mean:               ', exponential.mean())\n",
    "print('Standard Deviation: ', exponential.std())\n",
    "plt.show()\n",
    "print(\"\"\"For exponentially distributed data, you would probably prefer to use the mode for\n",
    "central tendency but the standard deviation​ still provides some insight.\"\"\")"
   ]
  },
  {
   "cell_type": "code",
   "execution_count": 35,
   "metadata": {},
   "outputs": [
    {
     "name": "stdout",
     "output_type": "stream",
     "text": [
      "POISSON DISTRIBUTION\n",
      "Mean:                0.99\n",
      "Standard Deviation:  0.9433451118228152\n"
     ]
    },
    {
     "data": {
      "image/png": "[encoded data removed]",
      "text/plain": [
       "<Figure size 432x288 with 1 Axes>"
      ]
     },
     "metadata": {},
     "output_type": "display_data"
    },
    {
     "name": "stdout",
     "output_type": "stream",
     "text": [
      "For poisson-distributed data, the mean and standard deviation are\n",
      "great descriptive statistics that show the central tendencies and variance of the data.\n"
     ]
    }
   ],
   "source": [
    "# Generate a poisson distribution\n",
    "poisson = np.random.poisson(1, 100)\n",
    "\n",
    "# Plot its histogram\n",
    "plt.hist(poisson)\n",
    "\n",
    "# Add vertical lines for mean and standard deviation\n",
    "plt.axvline(poisson.mean(), color='r', linestyle='solid', linewidth=2)\n",
    "plt.axvline(poisson.mean() + poisson.std(), color='r', linestyle='dashed', linewidth=2)\n",
    "plt.axvline(poisson.mean() - poisson.std(), color='r', linestyle='dashed', linewidth=2)\n",
    "\n",
    "# Print the mean and standard deviation\n",
    "print('POISSON DISTRIBUTION')\n",
    "print('Mean:               ', poisson.mean())\n",
    "print('Standard Deviation: ', poisson.std())\n",
    "plt.show()\n",
    "print(\"\"\"For poisson-distributed data, the mean and standard deviation are\n",
    "great descriptive statistics that show the central tendencies and variance of the data.\"\"\")"
   ]
  },
  {
   "cell_type": "code",
   "execution_count": 40,
   "metadata": {},
   "outputs": [
    {
     "name": "stdout",
     "output_type": "stream",
     "text": [
      "TWO COMBINED NORMALLY-DISTRIBUTED VARIABLES\n",
      "Mean:                15.012505310853518\n",
      "Standard Deviation:  1.0499753206013835\n"
     ]
    },
    {
     "data": {
      "image/png": "[encoded data removed]",
      "text/plain": [
       "<Figure size 432x288 with 1 Axes>"
      ]
     },
     "metadata": {},
     "output_type": "display_data"
    },
    {
     "name": "stdout",
     "output_type": "stream",
     "text": [
      "While the mean shifted to the summed value of both variables, the standard deviation\n",
      "barely shifted at all.\n"
     ]
    }
   ],
   "source": [
    "variable_1 = np.random.normal(5, 0.5, 1000)\n",
    "variable_2 = np.random.normal(10, 1, 1000)\n",
    "combined = variable_1 + variable_2\n",
    "\n",
    "# Plot its histogram\n",
    "plt.hist(combined)\n",
    "\n",
    "# Add vertical lines for mean and standard deviation\n",
    "plt.axvline(combined.mean(), color='r', linestyle='solid', linewidth=2)\n",
    "plt.axvline(combined.mean() + combined.std(), color='r', linestyle='dashed', linewidth=2)\n",
    "plt.axvline(combined.mean() - combined.std(), color='r', linestyle='dashed', linewidth=2)\n",
    "\n",
    "# Print the mean and standard deviation\n",
    "print('TWO COMBINED NORMALLY-DISTRIBUTED VARIABLES')\n",
    "print('Mean:               ', combined.mean())\n",
    "print('Standard Deviation: ', combined.std())\n",
    "plt.show()\n",
    "print(\"\"\"While the mean shifted to the summed value of both variables, the standard deviation\n",
    "barely shifted at all.\"\"\")"
   ]
  },
  {
   "cell_type": "code",
   "execution_count": null,
   "metadata": {},
   "outputs": [],
   "source": []
  }
 ],
 "metadata": {
  "kernelspec": {
   "display_name": "Python 3",
   "language": "python",
   "name": "python3"
  },
  "language_info": {
   "codemirror_mode": {
    "name": "ipython",
    "version": 3
   },
   "file_extension": ".py",
   "mimetype": "text/x-python",
   "name": "python",
   "nbconvert_exporter": "python",
   "pygments_lexer": "ipython3",
   "version": "3.7.0"
  }
 },
 "nbformat": 4,
 "nbformat_minor": 2
}
