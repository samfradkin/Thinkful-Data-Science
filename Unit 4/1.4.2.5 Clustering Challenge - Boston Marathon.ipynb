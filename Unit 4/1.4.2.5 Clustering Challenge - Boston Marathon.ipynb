{
 "cells": [
  {
   "cell_type": "markdown",
   "metadata": {},
   "source": [
    "# 1.4.2.5 Challenge: Boston Marathon\n",
    "\n",
    "You now have a pretty varied suite of clustering and clustering evaluation methods; we'd be remiss if we didn't give you the opportunity to try them out on some real data. So here we go!\n",
    "\n",
    "There is a lot of information on [runners and their performance for the Boston Marathon](https://github.com/llimllib/bostonmarathon). Pick a year (post-2012 has more info) and do some clustering.\n",
    "\n",
    "Specifically, use the tools at hand to determine which clustering solution, including number of clusters and algorithm used, is best for the marathon data. Once you have a solution you like, write a data story, including visualizations, where you teach the reader something about the Boston Marathon based on your clusters. Write up your report, including your process from start to finish, in a Jupyter notebook and submit it below."
   ]
  },
  {
   "cell_type": "code",
   "execution_count": 1,
   "metadata": {},
   "outputs": [
    {
     "data": {
      "text/html": [
       "<script>\n",
       "  function code_toggle() {\n",
       "    if (code_shown){\n",
       "      $('div.input').hide('500');\n",
       "      $('#toggleButton').val('Show Code')\n",
       "    } else {\n",
       "      $('div.input').show('500');\n",
       "      $('#toggleButton').val('Hide Code')\n",
       "    }\n",
       "    code_shown = !code_shown\n",
       "  }\n",
       "\n",
       "  $( document ).ready(function(){\n",
       "    code_shown=false;\n",
       "    $('div.input').hide()\n",
       "  });\n",
       "</script>\n",
       "<form action=\"javascript:code_toggle()\"><input type=\"submit\" id=\"toggleButton\"\n",
       "value=\"Show Code\"></form>"
      ],
      "text/plain": [
       "<IPython.core.display.HTML object>"
      ]
     },
     "metadata": {},
     "output_type": "display_data"
    }
   ],
   "source": [
    "%%HTML\n",
    "<script>\n",
    "  function code_toggle() {\n",
    "    if (code_shown){\n",
    "      $('div.input').hide('500');\n",
    "      $('#toggleButton').val('Show Code')\n",
    "    } else {\n",
    "      $('div.input').show('500');\n",
    "      $('#toggleButton').val('Hide Code')\n",
    "    }\n",
    "    code_shown = !code_shown\n",
    "  }\n",
    "\n",
    "  $( document ).ready(function(){\n",
    "    code_shown=false;\n",
    "    $('div.input').hide()\n",
    "  });\n",
    "</script>\n",
    "<form action=\"javascript:code_toggle()\"><input type=\"submit\" id=\"toggleButton\"\n",
    "value=\"Show Code\"></form>"
   ]
  },
  {
   "cell_type": "code",
   "execution_count": 2,
   "metadata": {},
   "outputs": [],
   "source": [
    "import warnings\n",
    "warnings.filterwarnings(\"ignore\")"
   ]
  },
  {
   "cell_type": "code",
   "execution_count": 3,
   "metadata": {},
   "outputs": [],
   "source": [
    "import pandas as pd\n",
    "import numpy as np\n",
    "import matplotlib.pyplot as plt\n",
    "import matplotlib.colors as mpcol\n",
    "import seaborn as sns\n",
    "import scipy\n",
    "%matplotlib inline"
   ]
  },
  {
   "cell_type": "markdown",
   "metadata": {},
   "source": [
    "# 1) Data Overview\n",
    "\n",
    "Let's take a look at a preview of our data to see what we are dealing with."
   ]
  },
  {
   "cell_type": "code",
   "execution_count": 4,
   "metadata": {},
   "outputs": [
    {
     "data": {
      "text/html": [
       "<div>\n",
       "<style scoped>\n",
       "    .dataframe tbody tr th:only-of-type {\n",
       "        vertical-align: middle;\n",
       "    }\n",
       "\n",
       "    .dataframe tbody tr th {\n",
       "        vertical-align: top;\n",
       "    }\n",
       "\n",
       "    .dataframe thead th {\n",
       "        text-align: right;\n",
       "    }\n",
       "</style>\n",
       "<table border=\"1\" class=\"dataframe\">\n",
       "  <thead>\n",
       "    <tr style=\"text-align: right;\">\n",
       "      <th></th>\n",
       "      <th>10k</th>\n",
       "      <th>name</th>\n",
       "      <th>division</th>\n",
       "      <th>25k</th>\n",
       "      <th>gender</th>\n",
       "      <th>age</th>\n",
       "      <th>official</th>\n",
       "      <th>bib</th>\n",
       "      <th>genderdiv</th>\n",
       "      <th>ctz</th>\n",
       "      <th>...</th>\n",
       "      <th>overall</th>\n",
       "      <th>pace</th>\n",
       "      <th>state</th>\n",
       "      <th>30k</th>\n",
       "      <th>5k</th>\n",
       "      <th>half</th>\n",
       "      <th>20k</th>\n",
       "      <th>country</th>\n",
       "      <th>city</th>\n",
       "      <th>40k</th>\n",
       "    </tr>\n",
       "  </thead>\n",
       "  <tbody>\n",
       "    <tr>\n",
       "      <th>0</th>\n",
       "      <td>17.37</td>\n",
       "      <td>Yamamoto, Hiroyuki</td>\n",
       "      <td>8</td>\n",
       "      <td>47.67</td>\n",
       "      <td>M</td>\n",
       "      <td>47</td>\n",
       "      <td>85.25</td>\n",
       "      <td>W1</td>\n",
       "      <td>8</td>\n",
       "      <td>NaN</td>\n",
       "      <td>...</td>\n",
       "      <td>8</td>\n",
       "      <td>3.27</td>\n",
       "      <td>NaN</td>\n",
       "      <td>59.18</td>\n",
       "      <td>8.02</td>\n",
       "      <td>39.72</td>\n",
       "      <td>37.65</td>\n",
       "      <td>JPN</td>\n",
       "      <td>Fukuoka</td>\n",
       "      <td>80.43</td>\n",
       "    </tr>\n",
       "    <tr>\n",
       "      <th>1</th>\n",
       "      <td>32.58</td>\n",
       "      <td>Jeptoo, Rita</td>\n",
       "      <td>1</td>\n",
       "      <td>82.43</td>\n",
       "      <td>F</td>\n",
       "      <td>33</td>\n",
       "      <td>138.95</td>\n",
       "      <td>F1</td>\n",
       "      <td>1</td>\n",
       "      <td>NaN</td>\n",
       "      <td>...</td>\n",
       "      <td>21</td>\n",
       "      <td>5.30</td>\n",
       "      <td>NaN</td>\n",
       "      <td>99.33</td>\n",
       "      <td>16.22</td>\n",
       "      <td>69.47</td>\n",
       "      <td>65.83</td>\n",
       "      <td>KEN</td>\n",
       "      <td>Eldoret</td>\n",
       "      <td>132.10</td>\n",
       "    </tr>\n",
       "    <tr>\n",
       "      <th>2</th>\n",
       "      <td>16.62</td>\n",
       "      <td>Van Dyk, Ernst F.</td>\n",
       "      <td>1</td>\n",
       "      <td>45.80</td>\n",
       "      <td>M</td>\n",
       "      <td>41</td>\n",
       "      <td>80.60</td>\n",
       "      <td>W2</td>\n",
       "      <td>1</td>\n",
       "      <td>NaN</td>\n",
       "      <td>...</td>\n",
       "      <td>1</td>\n",
       "      <td>3.08</td>\n",
       "      <td>NaN</td>\n",
       "      <td>56.45</td>\n",
       "      <td>7.75</td>\n",
       "      <td>38.03</td>\n",
       "      <td>36.10</td>\n",
       "      <td>RSA</td>\n",
       "      <td>Paarl</td>\n",
       "      <td>76.10</td>\n",
       "    </tr>\n",
       "    <tr>\n",
       "      <th>3</th>\n",
       "      <td>32.57</td>\n",
       "      <td>Dibaba, Mare</td>\n",
       "      <td>3</td>\n",
       "      <td>82.43</td>\n",
       "      <td>F</td>\n",
       "      <td>24</td>\n",
       "      <td>140.58</td>\n",
       "      <td>F2</td>\n",
       "      <td>3</td>\n",
       "      <td>NaN</td>\n",
       "      <td>...</td>\n",
       "      <td>27</td>\n",
       "      <td>5.37</td>\n",
       "      <td>NaN</td>\n",
       "      <td>99.33</td>\n",
       "      <td>16.20</td>\n",
       "      <td>69.47</td>\n",
       "      <td>65.83</td>\n",
       "      <td>ETH</td>\n",
       "      <td>Shoa</td>\n",
       "      <td>132.95</td>\n",
       "    </tr>\n",
       "    <tr>\n",
       "      <th>4</th>\n",
       "      <td>17.12</td>\n",
       "      <td>Hokinoue, Kota</td>\n",
       "      <td>2</td>\n",
       "      <td>46.37</td>\n",
       "      <td>M</td>\n",
       "      <td>40</td>\n",
       "      <td>81.23</td>\n",
       "      <td>W3</td>\n",
       "      <td>2</td>\n",
       "      <td>NaN</td>\n",
       "      <td>...</td>\n",
       "      <td>2</td>\n",
       "      <td>3.10</td>\n",
       "      <td>NaN</td>\n",
       "      <td>57.03</td>\n",
       "      <td>8.02</td>\n",
       "      <td>38.60</td>\n",
       "      <td>36.58</td>\n",
       "      <td>JPN</td>\n",
       "      <td>Nogata Fukuoka</td>\n",
       "      <td>76.72</td>\n",
       "    </tr>\n",
       "  </tbody>\n",
       "</table>\n",
       "<p>5 rows × 21 columns</p>\n",
       "</div>"
      ],
      "text/plain": [
       "     10k                name  division    25k gender  age  official bib  \\\n",
       "0  17.37  Yamamoto, Hiroyuki         8  47.67      M   47     85.25  W1   \n",
       "1  32.58        Jeptoo, Rita         1  82.43      F   33    138.95  F1   \n",
       "2  16.62   Van Dyk, Ernst F.         1  45.80      M   41     80.60  W2   \n",
       "3  32.57        Dibaba, Mare         3  82.43      F   24    140.58  F2   \n",
       "4  17.12      Hokinoue, Kota         2  46.37      M   40     81.23  W3   \n",
       "\n",
       "   genderdiv  ctz   ...   overall  pace  state    30k     5k   half    20k  \\\n",
       "0          8  NaN   ...         8  3.27    NaN  59.18   8.02  39.72  37.65   \n",
       "1          1  NaN   ...        21  5.30    NaN  99.33  16.22  69.47  65.83   \n",
       "2          1  NaN   ...         1  3.08    NaN  56.45   7.75  38.03  36.10   \n",
       "3          3  NaN   ...        27  5.37    NaN  99.33  16.20  69.47  65.83   \n",
       "4          2  NaN   ...         2  3.10    NaN  57.03   8.02  38.60  36.58   \n",
       "\n",
       "  country            city     40k  \n",
       "0     JPN         Fukuoka   80.43  \n",
       "1     KEN         Eldoret  132.10  \n",
       "2     RSA           Paarl   76.10  \n",
       "3     ETH            Shoa  132.95  \n",
       "4     JPN  Nogata Fukuoka   76.72  \n",
       "\n",
       "[5 rows x 21 columns]"
      ]
     },
     "execution_count": 4,
     "metadata": {},
     "output_type": "execute_result"
    }
   ],
   "source": [
    "df = pd.read_csv(\"https://raw.githubusercontent.com/llimllib/bostonmarathon/master/results/2014/results.csv\")\n",
    "df.head()"
   ]
  },
  {
   "cell_type": "code",
   "execution_count": 5,
   "metadata": {},
   "outputs": [
    {
     "name": "stdout",
     "output_type": "stream",
     "text": [
      "<class 'pandas.core.frame.DataFrame'>\n",
      "RangeIndex: 31984 entries, 0 to 31983\n",
      "Data columns (total 21 columns):\n",
      "10k          31984 non-null object\n",
      "name         31984 non-null object\n",
      "division     31984 non-null int64\n",
      "25k          31984 non-null object\n",
      "gender       31984 non-null object\n",
      "age          31984 non-null int64\n",
      "official     31984 non-null float64\n",
      "bib          31984 non-null object\n",
      "genderdiv    31984 non-null int64\n",
      "ctz          1244 non-null object\n",
      "35k          31984 non-null object\n",
      "overall      31984 non-null int64\n",
      "pace         31984 non-null float64\n",
      "state        29408 non-null object\n",
      "30k          31984 non-null object\n",
      "5k           31984 non-null object\n",
      "half         31984 non-null object\n",
      "20k          31984 non-null object\n",
      "country      31984 non-null object\n",
      "city         31983 non-null object\n",
      "40k          31984 non-null object\n",
      "dtypes: float64(2), int64(4), object(15)\n",
      "memory usage: 5.1+ MB\n"
     ]
    }
   ],
   "source": [
    "df.info()"
   ]
  },
  {
   "cell_type": "markdown",
   "metadata": {},
   "source": [
    "# 2) Data Cleaning\n",
    "\n",
    "Let's clean up the data by converting some data types and restructuring some columns. This will help us run our models and create some nice visualizations.<br><br>\n",
    "\n",
    "First let's start by creating a heatmap to see which columns are missing significant data."
   ]
  },
  {
   "cell_type": "code",
   "execution_count": 6,
   "metadata": {},
   "outputs": [
    {
     "data": {
      "image/png": "[encoded data removed]",
      "text/plain": [
       "<Figure size 1080x288 with 1 Axes>"
      ]
     },
     "metadata": {},
     "output_type": "display_data"
    }
   ],
   "source": [
    "# Plot if any columns have missing data\n",
    "plt.figure(figsize=(15,4))\n",
    "sns.heatmap(df.isnull(), cbar = False)\n",
    "plt.show()"
   ]
  },
  {
   "cell_type": "markdown",
   "metadata": {},
   "source": [
    "Based on this, it seems we can delete the CTZ column as nearly every single row is missing data in that column. As for the STATE column, it makes sense that runners from countries outside the US would have empty values in the STATE column so we will let that slide here."
   ]
  },
  {
   "cell_type": "code",
   "execution_count": 7,
   "metadata": {},
   "outputs": [],
   "source": [
    "# Drop the CTZ column as most of the values in that column are NaN.\n",
    "df.drop(['ctz'], 1, inplace=True)"
   ]
  },
  {
   "cell_type": "markdown",
   "metadata": {},
   "source": [
    "Let's continue by making sure all checkpoint data is in a numerical type. The checkpoint data is currently split into eight seperate columns and spread out all over the dataset."
   ]
  },
  {
   "cell_type": "code",
   "execution_count": 8,
   "metadata": {},
   "outputs": [],
   "source": [
    "# Create a variable for all checkpoint data and convert them to FLOAT dtypes. \n",
    "# The 'OFFICIAL' column is already an INT so we will add it in later.\n",
    "checkpoints = ['5k', '10k', '20k', 'half', '25k', '30k', '35k', '40k']\n",
    "for i in checkpoints:\n",
    "    df[i] = df[i].str.replace('-','0.0').astype(float)\n",
    "    df[i] = df[i].astype(float)\n",
    "\n",
    "# Add the 'OFFICIAL' column into the CHECKPOINTS variable\n",
    "checkpoints.append('official')"
   ]
  },
  {
   "cell_type": "code",
   "execution_count": 9,
   "metadata": {},
   "outputs": [
    {
     "data": {
      "text/html": [
       "<div>\n",
       "<style scoped>\n",
       "    .dataframe tbody tr th:only-of-type {\n",
       "        vertical-align: middle;\n",
       "    }\n",
       "\n",
       "    .dataframe tbody tr th {\n",
       "        vertical-align: top;\n",
       "    }\n",
       "\n",
       "    .dataframe thead th {\n",
       "        text-align: right;\n",
       "    }\n",
       "</style>\n",
       "<table border=\"1\" class=\"dataframe\">\n",
       "  <thead>\n",
       "    <tr style=\"text-align: right;\">\n",
       "      <th></th>\n",
       "      <th>5k</th>\n",
       "      <th>10k</th>\n",
       "      <th>20k</th>\n",
       "      <th>half</th>\n",
       "      <th>25k</th>\n",
       "      <th>30k</th>\n",
       "      <th>35k</th>\n",
       "      <th>40k</th>\n",
       "      <th>official</th>\n",
       "    </tr>\n",
       "  </thead>\n",
       "  <tbody>\n",
       "    <tr>\n",
       "      <th>0</th>\n",
       "      <td>8.02</td>\n",
       "      <td>17.37</td>\n",
       "      <td>37.65</td>\n",
       "      <td>39.72</td>\n",
       "      <td>47.67</td>\n",
       "      <td>59.18</td>\n",
       "      <td>71.40</td>\n",
       "      <td>80.43</td>\n",
       "      <td>85.25</td>\n",
       "    </tr>\n",
       "    <tr>\n",
       "      <th>1</th>\n",
       "      <td>16.22</td>\n",
       "      <td>32.58</td>\n",
       "      <td>65.83</td>\n",
       "      <td>69.47</td>\n",
       "      <td>82.43</td>\n",
       "      <td>99.33</td>\n",
       "      <td>116.37</td>\n",
       "      <td>132.10</td>\n",
       "      <td>138.95</td>\n",
       "    </tr>\n",
       "    <tr>\n",
       "      <th>2</th>\n",
       "      <td>7.75</td>\n",
       "      <td>16.62</td>\n",
       "      <td>36.10</td>\n",
       "      <td>38.03</td>\n",
       "      <td>45.80</td>\n",
       "      <td>56.45</td>\n",
       "      <td>67.42</td>\n",
       "      <td>76.10</td>\n",
       "      <td>80.60</td>\n",
       "    </tr>\n",
       "    <tr>\n",
       "      <th>3</th>\n",
       "      <td>16.20</td>\n",
       "      <td>32.57</td>\n",
       "      <td>65.83</td>\n",
       "      <td>69.47</td>\n",
       "      <td>82.43</td>\n",
       "      <td>99.33</td>\n",
       "      <td>116.37</td>\n",
       "      <td>132.95</td>\n",
       "      <td>140.58</td>\n",
       "    </tr>\n",
       "    <tr>\n",
       "      <th>4</th>\n",
       "      <td>8.02</td>\n",
       "      <td>17.12</td>\n",
       "      <td>36.58</td>\n",
       "      <td>38.60</td>\n",
       "      <td>46.37</td>\n",
       "      <td>57.03</td>\n",
       "      <td>67.83</td>\n",
       "      <td>76.72</td>\n",
       "      <td>81.23</td>\n",
       "    </tr>\n",
       "  </tbody>\n",
       "</table>\n",
       "</div>"
      ],
      "text/plain": [
       "      5k    10k    20k   half    25k    30k     35k     40k  official\n",
       "0   8.02  17.37  37.65  39.72  47.67  59.18   71.40   80.43     85.25\n",
       "1  16.22  32.58  65.83  69.47  82.43  99.33  116.37  132.10    138.95\n",
       "2   7.75  16.62  36.10  38.03  45.80  56.45   67.42   76.10     80.60\n",
       "3  16.20  32.57  65.83  69.47  82.43  99.33  116.37  132.95    140.58\n",
       "4   8.02  17.12  36.58  38.60  46.37  57.03   67.83   76.72     81.23"
      ]
     },
     "execution_count": 9,
     "metadata": {},
     "output_type": "execute_result"
    }
   ],
   "source": [
    "df[checkpoints].head()"
   ]
  },
  {
   "cell_type": "markdown",
   "metadata": {},
   "source": [
    "Next let's convert the values in the AGE column into age brackets. This will allow us to minimize the unique values in the column and will provide better visualization capabilities. To do so, let's use the age brackets created by the Boston Athletic Association as seen [here](https://www.baa.org/races/boston-marathon/enter/qualify/history-qualifying-times)."
   ]
  },
  {
   "cell_type": "code",
   "execution_count": 10,
   "metadata": {},
   "outputs": [],
   "source": [
    "# Create a dictionary of the age brackets and the ages assigned to them\n",
    "age_brackets = {'18-34':(18,34),\n",
    "                '35-39':(35,39),\n",
    "                '40-44':(40,44),\n",
    "                '45-49':(45,49),\n",
    "                '50-54':(50,54),\n",
    "                '55-59':(55,59),\n",
    "                '60-64':(60,64),\n",
    "                '65-69':(65,69),\n",
    "                '70-74':(70,74),\n",
    "                '75-79':(75,79),\n",
    "                '80+':(80,84)}\n",
    "\n",
    "# Create a function that will assign each age value into an age bracket\n",
    "def age_to_bracket(x):    \n",
    "    for bracket in age_brackets: \n",
    "        if age_brackets[bracket][0] <= x <= age_brackets[bracket][1]:\n",
    "            return bracket               \n",
    "    else: \n",
    "        print('Age value -{}- could not be assigned into a bucket'.format(x))\n",
    "        return np.nan\n",
    "\n",
    "# Create a new column using the values created by applying the age bracket function\n",
    "df['Age Bracket'] = df['age'].apply(lambda x: age_to_bracket(x))"
   ]
  },
  {
   "cell_type": "code",
   "execution_count": 11,
   "metadata": {},
   "outputs": [
    {
     "data": {
      "text/plain": [
       "0    45-49\n",
       "1    18-34\n",
       "2    40-44\n",
       "3    18-34\n",
       "4    40-44\n",
       "Name: Age Bracket, dtype: object"
      ]
     },
     "execution_count": 11,
     "metadata": {},
     "output_type": "execute_result"
    }
   ],
   "source": [
    "df['Age Bracket'].head()"
   ]
  },
  {
   "cell_type": "markdown",
   "metadata": {},
   "source": [
    "Now let's convert the values in the BIB column into wave brackets. This will also allow us to minimize the unique values in the column and will provide better visualization capabilities. To do so, let's use the wave brackets created by the Boston Athletic Association as seen [here](http://registration.baa.org/2014/cf/Public/iframe_EntryLists.cfm)."
   ]
  },
  {
   "cell_type": "code",
   "execution_count": 12,
   "metadata": {},
   "outputs": [],
   "source": [
    "wave_brackets = {'Elite':(0,100), \n",
    "                 'Wave1':(101,8999), \n",
    "                 'Wave2':(9000,17999), \n",
    "                 'Wave3':(18000,26999), \n",
    "                 'Wave4':(27000,50000)}\n",
    "\n",
    "# Create a function that will assign each bib value into a wave bracket\n",
    "def bib_to_wave(x):   \n",
    "    try:\n",
    "        for wave in wave_brackets:\n",
    "            if wave_brackets[wave][0] <= float(x) <= wave_brackets[wave][1]: return wave\n",
    "    except ValueError:\n",
    "        if 'W' or 'F' in str(x): return 'Elite'\n",
    "    else: \n",
    "        print(float(x))\n",
    "        return np.nan\n",
    "\n",
    "# Create a new column using the values created by applying the wave bracket function\n",
    "df['Wave'] = df['bib'].apply(lambda x: bib_to_wave(x))"
   ]
  },
  {
   "cell_type": "code",
   "execution_count": 13,
   "metadata": {},
   "outputs": [
    {
     "data": {
      "text/plain": [
       "0    Elite\n",
       "1    Elite\n",
       "2    Elite\n",
       "3    Elite\n",
       "4    Elite\n",
       "Name: Wave, dtype: object"
      ]
     },
     "execution_count": 13,
     "metadata": {},
     "output_type": "execute_result"
    }
   ],
   "source": [
    "df['Wave'].head()"
   ]
  },
  {
   "cell_type": "markdown",
   "metadata": {},
   "source": [
    "Here we will convert the values in the COUNTRY column. According to the Boston Athletic Association, only five countries had over 200 participants in the 2014 Boston Marathon - __USA, Canada, United Kingdom, Italy, and Mexico__. Therefore, let's convert all other COUNTRY values to now say \"OTHER\". This will also allow us to minimize the unique values in the column and will provide better visualization capabilities.<br><br>\n",
    "\n",
    "After that we will convert the __Gender__ column into binary 1 / 0 for use in our clustering models. "
   ]
  },
  {
   "cell_type": "code",
   "execution_count": 14,
   "metadata": {},
   "outputs": [],
   "source": [
    "# Make a variable of the country tags we will be using\n",
    "countries = ['USA', 'CAN', 'GBR', 'ITA', 'MEX']\n",
    "\n",
    "# Assign all other countries with the value \"OTHER\"\n",
    "df['Country'] = df['country'].apply(lambda x: np.where(x not in countries, 'OTHER', x))"
   ]
  },
  {
   "cell_type": "code",
   "execution_count": 15,
   "metadata": {},
   "outputs": [
    {
     "data": {
      "text/plain": [
       "0    OTHER\n",
       "1    OTHER\n",
       "2    OTHER\n",
       "3    OTHER\n",
       "4    OTHER\n",
       "Name: Country, dtype: object"
      ]
     },
     "execution_count": 15,
     "metadata": {},
     "output_type": "execute_result"
    }
   ],
   "source": [
    "df['Country'].head()"
   ]
  },
  {
   "cell_type": "code",
   "execution_count": 16,
   "metadata": {},
   "outputs": [
    {
     "data": {
      "text/plain": [
       "0    1\n",
       "1    0\n",
       "2    1\n",
       "3    0\n",
       "4    1\n",
       "Name: male, dtype: int64"
      ]
     },
     "execution_count": 16,
     "metadata": {},
     "output_type": "execute_result"
    }
   ],
   "source": [
    "# Binarize the gender variable for use in our cluster modeling\n",
    "df['male'] = df['gender'].apply(lambda x: np.where(x == 'M', 1, 0))\n",
    "df['male'].head()"
   ]
  },
  {
   "cell_type": "markdown",
   "metadata": {},
   "source": [
    "# 3) Data Analysis\n",
    "\n",
    "It looks like our data is now relatively clean. Let's make some visualization to have a better understanding of the dataset we are dealing with.<br><br>\n",
    "\n",
    "First let's see how the participant counts compare by __gender__."
   ]
  },
  {
   "cell_type": "code",
   "execution_count": 17,
   "metadata": {},
   "outputs": [
    {
     "data": {
      "image/png": "[encoded data removed]",
      "text/plain": [
       "<Figure size 1080x288 with 1 Axes>"
      ]
     },
     "metadata": {},
     "output_type": "display_data"
    }
   ],
   "source": [
    "# Create a countplot for Male and Female participants\n",
    "plt.figure(figsize=(15,4))\n",
    "sns.countplot(y=df['gender'], palette = sns.cubehelix_palette(2, rot = -0.5))\n",
    "plt.title('Participant Count by Gender', fontsize=16)\n",
    "plt.xlabel('Number of Participants')\n",
    "plt.ylabel('Gender')\n",
    "plt.show()"
   ]
  },
  {
   "cell_type": "markdown",
   "metadata": {},
   "source": [
    "Next let's see the __age count by gender__."
   ]
  },
  {
   "cell_type": "code",
   "execution_count": 18,
   "metadata": {},
   "outputs": [
    {
     "data": {
      "image/png": "[encoded data removed]",
      "text/plain": [
       "<Figure size 1080x432 with 2 Axes>"
      ]
     },
     "metadata": {},
     "output_type": "display_data"
    }
   ],
   "source": [
    "# Create a countplot for participant ages by gender\n",
    "plt.style.use('seaborn-whitegrid')\n",
    "fig, (ax0, ax1) = plt.subplots(1, 2, figsize=(15, 6))\n",
    "fig.suptitle('Participant Count by Age Bracket and Gender', fontsize=16)\n",
    "\n",
    "male   = df[df['gender'] == 'M']['Age Bracket']\n",
    "female = df[df['gender'] == 'F']['Age Bracket']\n",
    "frames = [male, female]\n",
    "labels = ['Male', 'Female']\n",
    "\n",
    "palettes = {}\n",
    "palettes['Male']   = sns.cubehelix_palette(len(age_brackets), start=1, rot=-0.75, \n",
    "                                           light=0.8, dark=0.2)\n",
    "palettes['Female'] = sns.cubehelix_palette(len(age_brackets))\n",
    "\n",
    "for idx, ax in enumerate([ax0, ax1]):\n",
    "    sns.countplot(frames[idx], ax = ax, \n",
    "                  order = age_brackets,\n",
    "                  palette = palettes[labels[idx]],\n",
    "                  label = labels[idx])\n",
    "    ax.set(ylim = (0, 5000), ylabel = 'Number of Participants', xlabel = 'Age')\n",
    "    ax.set_title(labels[idx])"
   ]
  },
  {
   "cell_type": "markdown",
   "metadata": {},
   "source": [
    "Here let's make a barplot of the participants' nationalities."
   ]
  },
  {
   "cell_type": "code",
   "execution_count": 19,
   "metadata": {},
   "outputs": [],
   "source": [
    "# Create a value-count table to see the counts of runners from each country\n",
    "country_sort = df['Country'].value_counts(ascending=True)\n",
    "country_sort = country_sort.to_frame()"
   ]
  },
  {
   "cell_type": "code",
   "execution_count": 20,
   "metadata": {},
   "outputs": [
    {
     "data": {
      "image/png": "[encoded data removed]",
      "text/plain": [
       "<Figure size 1080x360 with 1 Axes>"
      ]
     },
     "metadata": {},
     "output_type": "display_data"
    }
   ],
   "source": [
    "# Create a countplot for Male and Female participants\n",
    "plt.figure(figsize=(15,5))\n",
    "sns.barplot(x = 'Country', y = country_sort.index, data = country_sort)\n",
    "plt.title('Participant Count by Country', fontsize=16)\n",
    "plt.xlabel('Number of Participants')\n",
    "plt.ylabel('Country')\n",
    "plt.show()"
   ]
  },
  {
   "cell_type": "markdown",
   "metadata": {},
   "source": [
    "Now let's see how many runners participated in each wave."
   ]
  },
  {
   "cell_type": "code",
   "execution_count": 21,
   "metadata": {},
   "outputs": [
    {
     "data": {
      "image/png": "[encoded data removed]",
      "text/plain": [
       "<Figure size 432x288 with 1 Axes>"
      ]
     },
     "metadata": {},
     "output_type": "display_data"
    }
   ],
   "source": [
    "# Create a dataframe of the wave information\n",
    "wave_df = df['Wave'].value_counts().to_frame()\n",
    "\n",
    "# Create a pie chart for waves\n",
    "plt.pie(wave_df['Wave'], explode = (0.15, 0.15, 0.15, 0.15, 0.15), labels = wave_df.index,\n",
    "autopct = '%1.1f%%', shadow = True, startangle = 45)\n",
    "plt.title('Participants by Wave', fontsize=16) \n",
    "plt.axis('equal')\n",
    "plt.show()"
   ]
  },
  {
   "cell_type": "markdown",
   "metadata": {},
   "source": [
    "Here let's see how each gender faired at each checkpoint."
   ]
  },
  {
   "cell_type": "code",
   "execution_count": 22,
   "metadata": {},
   "outputs": [
    {
     "data": {
      "image/png": "[encoded data removed]",
      "text/plain": [
       "<Figure size 1080x360 with 1 Axes>"
      ]
     },
     "metadata": {},
     "output_type": "display_data"
    }
   ],
   "source": [
    "# Create a new dataframe that melts the checkpoint data by gender\n",
    "stacked_checkpoints = pd.melt(df, value_vars = checkpoints, var_name='checkpoint',\n",
    "                              value_name='time', id_vars=['gender'])\n",
    "\n",
    "plt.figure(figsize=(15,5))\n",
    "sns.pointplot(data=stacked_checkpoints, x='checkpoint', y='time', hue='gender',\n",
    "                   markers=['.','.'], linestyles=['--', ':'], ci=95, orient=\"v\", \n",
    "                   dodge=0.25)\n",
    "\n",
    "plt.title('Checkpoint Times by Gender', fontsize=16)\n",
    "plt.ylabel('Time in Minutes')\n",
    "plt.xlabel('Checkpoint')\n",
    "plt.show()"
   ]
  },
  {
   "cell_type": "markdown",
   "metadata": {},
   "source": [
    "# 4) Modeling"
   ]
  },
  {
   "cell_type": "code",
   "execution_count": 23,
   "metadata": {},
   "outputs": [],
   "source": [
    "from sklearn.cluster import MeanShift, estimate_bandwidth\n",
    "from sklearn import preprocessing\n",
    "from sklearn.model_selection import train_test_split\n",
    "from sklearn.decomposition import PCA"
   ]
  },
  {
   "cell_type": "markdown",
   "metadata": {},
   "source": [
    "First let's create a dataframe of all the features we will be using."
   ]
  },
  {
   "cell_type": "code",
   "execution_count": 24,
   "metadata": {},
   "outputs": [
    {
     "data": {
      "text/html": [
       "<div>\n",
       "<style scoped>\n",
       "    .dataframe tbody tr th:only-of-type {\n",
       "        vertical-align: middle;\n",
       "    }\n",
       "\n",
       "    .dataframe tbody tr th {\n",
       "        vertical-align: top;\n",
       "    }\n",
       "\n",
       "    .dataframe thead th {\n",
       "        text-align: right;\n",
       "    }\n",
       "</style>\n",
       "<table border=\"1\" class=\"dataframe\">\n",
       "  <thead>\n",
       "    <tr style=\"text-align: right;\">\n",
       "      <th></th>\n",
       "      <th>10k</th>\n",
       "      <th>name</th>\n",
       "      <th>division</th>\n",
       "      <th>25k</th>\n",
       "      <th>gender</th>\n",
       "      <th>age</th>\n",
       "      <th>official</th>\n",
       "      <th>bib</th>\n",
       "      <th>genderdiv</th>\n",
       "      <th>35k</th>\n",
       "      <th>...</th>\n",
       "      <th>5k</th>\n",
       "      <th>half</th>\n",
       "      <th>20k</th>\n",
       "      <th>country</th>\n",
       "      <th>city</th>\n",
       "      <th>40k</th>\n",
       "      <th>Age Bracket</th>\n",
       "      <th>Wave</th>\n",
       "      <th>Country</th>\n",
       "      <th>male</th>\n",
       "    </tr>\n",
       "  </thead>\n",
       "  <tbody>\n",
       "    <tr>\n",
       "      <th>0</th>\n",
       "      <td>17.37</td>\n",
       "      <td>Yamamoto, Hiroyuki</td>\n",
       "      <td>8</td>\n",
       "      <td>47.67</td>\n",
       "      <td>M</td>\n",
       "      <td>47</td>\n",
       "      <td>85.25</td>\n",
       "      <td>W1</td>\n",
       "      <td>8</td>\n",
       "      <td>71.40</td>\n",
       "      <td>...</td>\n",
       "      <td>8.02</td>\n",
       "      <td>39.72</td>\n",
       "      <td>37.65</td>\n",
       "      <td>JPN</td>\n",
       "      <td>Fukuoka</td>\n",
       "      <td>80.43</td>\n",
       "      <td>45-49</td>\n",
       "      <td>Elite</td>\n",
       "      <td>OTHER</td>\n",
       "      <td>1</td>\n",
       "    </tr>\n",
       "    <tr>\n",
       "      <th>1</th>\n",
       "      <td>32.58</td>\n",
       "      <td>Jeptoo, Rita</td>\n",
       "      <td>1</td>\n",
       "      <td>82.43</td>\n",
       "      <td>F</td>\n",
       "      <td>33</td>\n",
       "      <td>138.95</td>\n",
       "      <td>F1</td>\n",
       "      <td>1</td>\n",
       "      <td>116.37</td>\n",
       "      <td>...</td>\n",
       "      <td>16.22</td>\n",
       "      <td>69.47</td>\n",
       "      <td>65.83</td>\n",
       "      <td>KEN</td>\n",
       "      <td>Eldoret</td>\n",
       "      <td>132.10</td>\n",
       "      <td>18-34</td>\n",
       "      <td>Elite</td>\n",
       "      <td>OTHER</td>\n",
       "      <td>0</td>\n",
       "    </tr>\n",
       "  </tbody>\n",
       "</table>\n",
       "<p>2 rows × 24 columns</p>\n",
       "</div>"
      ],
      "text/plain": [
       "     10k                name  division    25k gender  age  official bib  \\\n",
       "0  17.37  Yamamoto, Hiroyuki         8  47.67      M   47     85.25  W1   \n",
       "1  32.58        Jeptoo, Rita         1  82.43      F   33    138.95  F1   \n",
       "\n",
       "   genderdiv     35k  ...      5k   half    20k  country     city     40k  \\\n",
       "0          8   71.40  ...    8.02  39.72  37.65      JPN  Fukuoka   80.43   \n",
       "1          1  116.37  ...   16.22  69.47  65.83      KEN  Eldoret  132.10   \n",
       "\n",
       "   Age Bracket   Wave Country  male  \n",
       "0        45-49  Elite   OTHER     1  \n",
       "1        18-34  Elite   OTHER     0  \n",
       "\n",
       "[2 rows x 24 columns]"
      ]
     },
     "execution_count": 24,
     "metadata": {},
     "output_type": "execute_result"
    }
   ],
   "source": [
    "df.head(2)"
   ]
  },
  {
   "cell_type": "code",
   "execution_count": 25,
   "metadata": {},
   "outputs": [
    {
     "data": {
      "text/html": [
       "<div>\n",
       "<style scoped>\n",
       "    .dataframe tbody tr th:only-of-type {\n",
       "        vertical-align: middle;\n",
       "    }\n",
       "\n",
       "    .dataframe tbody tr th {\n",
       "        vertical-align: top;\n",
       "    }\n",
       "\n",
       "    .dataframe thead th {\n",
       "        text-align: right;\n",
       "    }\n",
       "</style>\n",
       "<table border=\"1\" class=\"dataframe\">\n",
       "  <thead>\n",
       "    <tr style=\"text-align: right;\">\n",
       "      <th></th>\n",
       "      <th>age</th>\n",
       "      <th>male</th>\n",
       "      <th>division</th>\n",
       "      <th>genderdiv</th>\n",
       "      <th>overall</th>\n",
       "      <th>5k</th>\n",
       "      <th>10k</th>\n",
       "      <th>20k</th>\n",
       "      <th>half</th>\n",
       "      <th>25k</th>\n",
       "      <th>30k</th>\n",
       "      <th>35k</th>\n",
       "      <th>40k</th>\n",
       "      <th>official</th>\n",
       "      <th>USA</th>\n",
       "      <th>CAN</th>\n",
       "      <th>GBR</th>\n",
       "      <th>ITA</th>\n",
       "      <th>MEX</th>\n",
       "      <th>OTHER</th>\n",
       "    </tr>\n",
       "  </thead>\n",
       "  <tbody>\n",
       "    <tr>\n",
       "      <th>0</th>\n",
       "      <td>47</td>\n",
       "      <td>1</td>\n",
       "      <td>8</td>\n",
       "      <td>8</td>\n",
       "      <td>8</td>\n",
       "      <td>8.02</td>\n",
       "      <td>17.37</td>\n",
       "      <td>37.65</td>\n",
       "      <td>39.72</td>\n",
       "      <td>47.67</td>\n",
       "      <td>59.18</td>\n",
       "      <td>71.40</td>\n",
       "      <td>80.43</td>\n",
       "      <td>85.25</td>\n",
       "      <td>0</td>\n",
       "      <td>0</td>\n",
       "      <td>0</td>\n",
       "      <td>0</td>\n",
       "      <td>0</td>\n",
       "      <td>1</td>\n",
       "    </tr>\n",
       "    <tr>\n",
       "      <th>1</th>\n",
       "      <td>33</td>\n",
       "      <td>0</td>\n",
       "      <td>1</td>\n",
       "      <td>1</td>\n",
       "      <td>21</td>\n",
       "      <td>16.22</td>\n",
       "      <td>32.58</td>\n",
       "      <td>65.83</td>\n",
       "      <td>69.47</td>\n",
       "      <td>82.43</td>\n",
       "      <td>99.33</td>\n",
       "      <td>116.37</td>\n",
       "      <td>132.10</td>\n",
       "      <td>138.95</td>\n",
       "      <td>0</td>\n",
       "      <td>0</td>\n",
       "      <td>0</td>\n",
       "      <td>0</td>\n",
       "      <td>0</td>\n",
       "      <td>1</td>\n",
       "    </tr>\n",
       "    <tr>\n",
       "      <th>2</th>\n",
       "      <td>41</td>\n",
       "      <td>1</td>\n",
       "      <td>1</td>\n",
       "      <td>1</td>\n",
       "      <td>1</td>\n",
       "      <td>7.75</td>\n",
       "      <td>16.62</td>\n",
       "      <td>36.10</td>\n",
       "      <td>38.03</td>\n",
       "      <td>45.80</td>\n",
       "      <td>56.45</td>\n",
       "      <td>67.42</td>\n",
       "      <td>76.10</td>\n",
       "      <td>80.60</td>\n",
       "      <td>0</td>\n",
       "      <td>0</td>\n",
       "      <td>0</td>\n",
       "      <td>0</td>\n",
       "      <td>0</td>\n",
       "      <td>1</td>\n",
       "    </tr>\n",
       "    <tr>\n",
       "      <th>3</th>\n",
       "      <td>24</td>\n",
       "      <td>0</td>\n",
       "      <td>3</td>\n",
       "      <td>3</td>\n",
       "      <td>27</td>\n",
       "      <td>16.20</td>\n",
       "      <td>32.57</td>\n",
       "      <td>65.83</td>\n",
       "      <td>69.47</td>\n",
       "      <td>82.43</td>\n",
       "      <td>99.33</td>\n",
       "      <td>116.37</td>\n",
       "      <td>132.95</td>\n",
       "      <td>140.58</td>\n",
       "      <td>0</td>\n",
       "      <td>0</td>\n",
       "      <td>0</td>\n",
       "      <td>0</td>\n",
       "      <td>0</td>\n",
       "      <td>1</td>\n",
       "    </tr>\n",
       "    <tr>\n",
       "      <th>4</th>\n",
       "      <td>40</td>\n",
       "      <td>1</td>\n",
       "      <td>2</td>\n",
       "      <td>2</td>\n",
       "      <td>2</td>\n",
       "      <td>8.02</td>\n",
       "      <td>17.12</td>\n",
       "      <td>36.58</td>\n",
       "      <td>38.60</td>\n",
       "      <td>46.37</td>\n",
       "      <td>57.03</td>\n",
       "      <td>67.83</td>\n",
       "      <td>76.72</td>\n",
       "      <td>81.23</td>\n",
       "      <td>0</td>\n",
       "      <td>0</td>\n",
       "      <td>0</td>\n",
       "      <td>0</td>\n",
       "      <td>0</td>\n",
       "      <td>1</td>\n",
       "    </tr>\n",
       "  </tbody>\n",
       "</table>\n",
       "</div>"
      ],
      "text/plain": [
       "   age  male  division  genderdiv  overall     5k    10k    20k   half    25k  \\\n",
       "0   47     1         8          8        8   8.02  17.37  37.65  39.72  47.67   \n",
       "1   33     0         1          1       21  16.22  32.58  65.83  69.47  82.43   \n",
       "2   41     1         1          1        1   7.75  16.62  36.10  38.03  45.80   \n",
       "3   24     0         3          3       27  16.20  32.57  65.83  69.47  82.43   \n",
       "4   40     1         2          2        2   8.02  17.12  36.58  38.60  46.37   \n",
       "\n",
       "     30k     35k     40k  official  USA  CAN  GBR  ITA  MEX  OTHER  \n",
       "0  59.18   71.40   80.43     85.25    0    0    0    0    0      1  \n",
       "1  99.33  116.37  132.10    138.95    0    0    0    0    0      1  \n",
       "2  56.45   67.42   76.10     80.60    0    0    0    0    0      1  \n",
       "3  99.33  116.37  132.95    140.58    0    0    0    0    0      1  \n",
       "4  57.03   67.83   76.72     81.23    0    0    0    0    0      1  "
      ]
     },
     "execution_count": 25,
     "metadata": {},
     "output_type": "execute_result"
    }
   ],
   "source": [
    "# Create a blank dataframe called 'modeling_df'\n",
    "modeling_df = pd.DataFrame()\n",
    "\n",
    "# Add the columns that are already in the correct format\n",
    "modeling_df['age'] = df['age']\n",
    "modeling_df['male'] = df['male']\n",
    "modeling_df['division'] = df['division']\n",
    "modeling_df['genderdiv'] = df['genderdiv']\n",
    "modeling_df['overall'] = df['overall']\n",
    "\n",
    "# Add checkpoint values as seperate columns\n",
    "for checkpoint in checkpoints:\n",
    "    modeling_df[checkpoint] = df[checkpoint]\n",
    "\n",
    "# Add countries with significant levels of participation as binary columns\n",
    "# First add the 'OTHER' country value into the variable called 'countries'\n",
    "countries.append('OTHER')\n",
    "for country in countries:\n",
    "    modeling_df[country] = np.where(df['Country'] == country, 1, 0)\n",
    "\n",
    "modeling_df.head()"
   ]
  },
  {
   "cell_type": "markdown",
   "metadata": {},
   "source": [
    "Many of our features span different scales so let's normalize the data so we can compare the features against each other."
   ]
  },
  {
   "cell_type": "code",
   "execution_count": 26,
   "metadata": {},
   "outputs": [
    {
     "name": "stderr",
     "output_type": "stream",
     "text": [
      "/usr/local/lib/python3.7/site-packages/sklearn/preprocessing/data.py:323: DataConversionWarning: Data with input dtype int64, float64 were all converted to float64 by MinMaxScaler.\n",
      "  return self.partial_fit(X, y)\n"
     ]
    },
    {
     "data": {
      "text/html": [
       "<div>\n",
       "<style scoped>\n",
       "    .dataframe tbody tr th:only-of-type {\n",
       "        vertical-align: middle;\n",
       "    }\n",
       "\n",
       "    .dataframe tbody tr th {\n",
       "        vertical-align: top;\n",
       "    }\n",
       "\n",
       "    .dataframe thead th {\n",
       "        text-align: right;\n",
       "    }\n",
       "</style>\n",
       "<table border=\"1\" class=\"dataframe\">\n",
       "  <thead>\n",
       "    <tr style=\"text-align: right;\">\n",
       "      <th></th>\n",
       "      <th>age</th>\n",
       "      <th>male</th>\n",
       "      <th>division</th>\n",
       "      <th>genderdiv</th>\n",
       "      <th>overall</th>\n",
       "      <th>5k</th>\n",
       "      <th>10k</th>\n",
       "      <th>20k</th>\n",
       "      <th>half</th>\n",
       "      <th>25k</th>\n",
       "      <th>30k</th>\n",
       "      <th>35k</th>\n",
       "      <th>40k</th>\n",
       "      <th>official</th>\n",
       "      <th>USA</th>\n",
       "      <th>CAN</th>\n",
       "      <th>GBR</th>\n",
       "      <th>ITA</th>\n",
       "      <th>MEX</th>\n",
       "      <th>OTHER</th>\n",
       "    </tr>\n",
       "  </thead>\n",
       "  <tbody>\n",
       "    <tr>\n",
       "      <th>0</th>\n",
       "      <td>0.460317</td>\n",
       "      <td>1.0</td>\n",
       "      <td>0.001003</td>\n",
       "      <td>0.000398</td>\n",
       "      <td>0.000219</td>\n",
       "      <td>0.092237</td>\n",
       "      <td>0.154565</td>\n",
       "      <td>0.167818</td>\n",
       "      <td>0.167829</td>\n",
       "      <td>0.164937</td>\n",
       "      <td>0.157235</td>\n",
       "      <td>0.158903</td>\n",
       "      <td>0.158218</td>\n",
       "      <td>0.010147</td>\n",
       "      <td>0.0</td>\n",
       "      <td>0.0</td>\n",
       "      <td>0.0</td>\n",
       "      <td>0.0</td>\n",
       "      <td>0.0</td>\n",
       "      <td>1.0</td>\n",
       "    </tr>\n",
       "    <tr>\n",
       "      <th>1</th>\n",
       "      <td>0.238095</td>\n",
       "      <td>0.0</td>\n",
       "      <td>0.000000</td>\n",
       "      <td>0.000000</td>\n",
       "      <td>0.000626</td>\n",
       "      <td>0.186544</td>\n",
       "      <td>0.289909</td>\n",
       "      <td>0.293425</td>\n",
       "      <td>0.293531</td>\n",
       "      <td>0.285205</td>\n",
       "      <td>0.263909</td>\n",
       "      <td>0.258986</td>\n",
       "      <td>0.259860</td>\n",
       "      <td>0.127324</td>\n",
       "      <td>0.0</td>\n",
       "      <td>0.0</td>\n",
       "      <td>0.0</td>\n",
       "      <td>0.0</td>\n",
       "      <td>0.0</td>\n",
       "      <td>1.0</td>\n",
       "    </tr>\n",
       "    <tr>\n",
       "      <th>2</th>\n",
       "      <td>0.365079</td>\n",
       "      <td>1.0</td>\n",
       "      <td>0.000000</td>\n",
       "      <td>0.000000</td>\n",
       "      <td>0.000000</td>\n",
       "      <td>0.089132</td>\n",
       "      <td>0.147891</td>\n",
       "      <td>0.160909</td>\n",
       "      <td>0.160688</td>\n",
       "      <td>0.158467</td>\n",
       "      <td>0.149981</td>\n",
       "      <td>0.150046</td>\n",
       "      <td>0.149700</td>\n",
       "      <td>0.000000</td>\n",
       "      <td>0.0</td>\n",
       "      <td>0.0</td>\n",
       "      <td>0.0</td>\n",
       "      <td>0.0</td>\n",
       "      <td>0.0</td>\n",
       "      <td>1.0</td>\n",
       "    </tr>\n",
       "    <tr>\n",
       "      <th>3</th>\n",
       "      <td>0.095238</td>\n",
       "      <td>0.0</td>\n",
       "      <td>0.000287</td>\n",
       "      <td>0.000114</td>\n",
       "      <td>0.000814</td>\n",
       "      <td>0.186314</td>\n",
       "      <td>0.289820</td>\n",
       "      <td>0.293425</td>\n",
       "      <td>0.293531</td>\n",
       "      <td>0.285205</td>\n",
       "      <td>0.263909</td>\n",
       "      <td>0.258986</td>\n",
       "      <td>0.261532</td>\n",
       "      <td>0.130881</td>\n",
       "      <td>0.0</td>\n",
       "      <td>0.0</td>\n",
       "      <td>0.0</td>\n",
       "      <td>0.0</td>\n",
       "      <td>0.0</td>\n",
       "      <td>1.0</td>\n",
       "    </tr>\n",
       "    <tr>\n",
       "      <th>4</th>\n",
       "      <td>0.349206</td>\n",
       "      <td>1.0</td>\n",
       "      <td>0.000143</td>\n",
       "      <td>0.000057</td>\n",
       "      <td>0.000031</td>\n",
       "      <td>0.092237</td>\n",
       "      <td>0.152340</td>\n",
       "      <td>0.163049</td>\n",
       "      <td>0.163096</td>\n",
       "      <td>0.160439</td>\n",
       "      <td>0.151522</td>\n",
       "      <td>0.150958</td>\n",
       "      <td>0.150920</td>\n",
       "      <td>0.001375</td>\n",
       "      <td>0.0</td>\n",
       "      <td>0.0</td>\n",
       "      <td>0.0</td>\n",
       "      <td>0.0</td>\n",
       "      <td>0.0</td>\n",
       "      <td>1.0</td>\n",
       "    </tr>\n",
       "  </tbody>\n",
       "</table>\n",
       "</div>"
      ],
      "text/plain": [
       "        age  male  division  genderdiv   overall        5k       10k  \\\n",
       "0  0.460317   1.0  0.001003   0.000398  0.000219  0.092237  0.154565   \n",
       "1  0.238095   0.0  0.000000   0.000000  0.000626  0.186544  0.289909   \n",
       "2  0.365079   1.0  0.000000   0.000000  0.000000  0.089132  0.147891   \n",
       "3  0.095238   0.0  0.000287   0.000114  0.000814  0.186314  0.289820   \n",
       "4  0.349206   1.0  0.000143   0.000057  0.000031  0.092237  0.152340   \n",
       "\n",
       "        20k      half       25k       30k       35k       40k  official  USA  \\\n",
       "0  0.167818  0.167829  0.164937  0.157235  0.158903  0.158218  0.010147  0.0   \n",
       "1  0.293425  0.293531  0.285205  0.263909  0.258986  0.259860  0.127324  0.0   \n",
       "2  0.160909  0.160688  0.158467  0.149981  0.150046  0.149700  0.000000  0.0   \n",
       "3  0.293425  0.293531  0.285205  0.263909  0.258986  0.261532  0.130881  0.0   \n",
       "4  0.163049  0.163096  0.160439  0.151522  0.150958  0.150920  0.001375  0.0   \n",
       "\n",
       "   CAN  GBR  ITA  MEX  OTHER  \n",
       "0  0.0  0.0  0.0  0.0    1.0  \n",
       "1  0.0  0.0  0.0  0.0    1.0  \n",
       "2  0.0  0.0  0.0  0.0    1.0  \n",
       "3  0.0  0.0  0.0  0.0    1.0  \n",
       "4  0.0  0.0  0.0  0.0    1.0  "
      ]
     },
     "execution_count": 26,
     "metadata": {},
     "output_type": "execute_result"
    }
   ],
   "source": [
    "# Normalize the data\n",
    "X = modeling_df\n",
    "min_max_scaler = preprocessing.MinMaxScaler()\n",
    "np_scaled = min_max_scaler.fit_transform(X)\n",
    "X_normed = pd.DataFrame(np_scaled, columns=list(modeling_df))\n",
    "X_normed.head()"
   ]
  },
  {
   "cell_type": "markdown",
   "metadata": {},
   "source": [
    "Conduct a Principal Component Analysis so we can plot the data on a two dimensional graph."
   ]
  },
  {
   "cell_type": "code",
   "execution_count": 27,
   "metadata": {},
   "outputs": [],
   "source": [
    "# Coduct PCA on the normalized dataframe\n",
    "pca = PCA(n_components = 2)\n",
    "X_pca = pca.fit_transform(X_normed)\n",
    "pca_1 = [x[0] for x in X_pca]\n",
    "pca_2 = [x[1] for x in X_pca]"
   ]
  },
  {
   "cell_type": "markdown",
   "metadata": {},
   "source": [
    "# 5) Clustering\n",
    "## Mean Shift Clustering"
   ]
  },
  {
   "cell_type": "code",
   "execution_count": 31,
   "metadata": {},
   "outputs": [
    {
     "name": "stdout",
     "output_type": "stream",
     "text": [
      "Number of estimated clusters: 19\n"
     ]
    }
   ],
   "source": [
    "# Mean Shift Clustering\n",
    "bandwidth = estimate_bandwidth(X_normed, quantile = 0.2, n_samples = 500, n_jobs = 1)\n",
    "\n",
    "# Fit the model\n",
    "ms = MeanShift(bandwidth = bandwidth, bin_seeding = True)\n",
    "ms.fit(X_normed)\n",
    "\n",
    "# Extract cluster assignments for each datapoint\n",
    "labels = ms.labels_\n",
    "\n",
    "# Coordinates of the cluser centers\n",
    "cluster_centers = ms.cluster_centers_\n",
    "\n",
    "# Count our clusters\n",
    "n_clusters_ = len(np.unique(labels))\n",
    "print('Number of estimated clusters: {}'.format(n_clusters_))\n",
    "\n",
    "ms_labels = ms.predict(X_normed)"
   ]
  },
  {
   "cell_type": "markdown",
   "metadata": {},
   "source": [
    "Let's see what the clusters look like."
   ]
  },
  {
   "cell_type": "code",
   "execution_count": 32,
   "metadata": {},
   "outputs": [
    {
     "data": {
      "image/png": "[encoded data removed]",
      "text/plain": [
       "<Figure size 1080x432 with 2 Axes>"
      ]
     },
     "metadata": {},
     "output_type": "display_data"
    }
   ],
   "source": [
    "# Add the clusters to the dataframes\n",
    "modeling_df['cluster'] = ms_labels + 1\n",
    "df['cluster'] = ms_labels + 1\n",
    "\n",
    "# Generate color palettes for the plots\n",
    "palettes['clust_rgb'] = sns.color_palette('Set2', 5).as_hex()\n",
    "palettes['clust_cmap'] = mpcol.ListedColormap(palettes['clust_rgb'], name='my_name')\n",
    "\n",
    "plt.figure(figsize=(15,6))\n",
    "\n",
    "# Create a countplot of the clusters\n",
    "ax1 = plt.subplot(1, 2, 1)    \n",
    "sns.countplot(x = modeling_df['cluster'], palette=sns.color_palette(palettes['clust_rgb']))\n",
    "\n",
    "plt.title('Participants per Cluster')\n",
    "plt.xlabel('Cluster')\n",
    "plt.ylabel('Number of Participants')\n",
    "\n",
    "# Visualize the clusters\n",
    "ax2 = plt.subplot(1, 2, 2)    \n",
    "plt.scatter(x = pca_1, y = pca_2, c= modeling_df['cluster'], \n",
    "            cmap = palettes['clust_cmap'], alpha=0.1)\n",
    "plt.title('Cluster Shapes')\n",
    "plt.xlabel('PCA Dimension 1')\n",
    "plt.ylabel('PCA Dimension 2')\n",
    "ax2.yaxis.tick_right()\n",
    "ax2.yaxis.set_label_position(\"right\")\n",
    "plt.suptitle('Mean Shift Cluster Analysis', fontsize=16)\n",
    "plt.show()"
   ]
  },
  {
   "cell_type": "markdown",
   "metadata": {},
   "source": [
    "# 6) Outcome Summary "
   ]
  },
  {
   "cell_type": "code",
   "execution_count": null,
   "metadata": {},
   "outputs": [],
   "source": []
  }
 ],
 "metadata": {
  "kernelspec": {
   "display_name": "Python 3",
   "language": "python",
   "name": "python3"
  },
  "language_info": {
   "codemirror_mode": {
    "name": "ipython",
    "version": 3
   },
   "file_extension": ".py",
   "mimetype": "text/x-python",
   "name": "python",
   "nbconvert_exporter": "python",
   "pygments_lexer": "ipython3",
   "version": "3.7.0"
  }
 },
 "nbformat": 4,
 "nbformat_minor": 2
}
