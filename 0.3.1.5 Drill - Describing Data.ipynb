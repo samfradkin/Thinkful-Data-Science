{
 "cells": [
  {
   "cell_type": "code",
   "execution_count": 31,
   "metadata": {},
   "outputs": [
    {
     "data": {
      "text/html": [
       "<script>\n",
       "code_show=true; \n",
       "function code_toggle() {\n",
       " if (code_show){\n",
       " $('div.input').hide();\n",
       " } else {\n",
       " $('div.input').show();\n",
       " }\n",
       " code_show = !code_show\n",
       "} \n",
       "$( document ).ready(code_toggle);\n",
       "</script>\n",
       "<i>The raw code for this IPython notebook is by default hidden for easier reading.\n",
       "To toggle on/off the raw code, click <a href=\"javascript:code_toggle()\">here</a></i>."
      ],
      "text/plain": [
       "<IPython.core.display.HTML object>"
      ]
     },
     "execution_count": 31,
     "metadata": {},
     "output_type": "execute_result"
    }
   ],
   "source": [
    "# Make code toggle-able for easier review.\n",
    "from IPython.display import HTML\n",
    "\n",
    "HTML('''<script>\n",
    "code_show=true; \n",
    "function code_toggle() {\n",
    " if (code_show){\n",
    " $('div.input').hide();\n",
    " } else {\n",
    " $('div.input').show();\n",
    " }\n",
    " code_show = !code_show\n",
    "} \n",
    "$( document ).ready(code_toggle);\n",
    "</script>\n",
    "<i>The raw code for this IPython notebook is by default hidden for easier reading.\n",
    "To toggle on/off the raw code, click <a href=\"javascript:code_toggle()\">here</a></i>.''')"
   ]
  },
  {
   "cell_type": "code",
   "execution_count": 14,
   "metadata": {},
   "outputs": [],
   "source": [
    "import pandas as pd\n",
    "import numpy as np\n",
    "%matplotlib inline"
   ]
  },
  {
   "cell_type": "code",
   "execution_count": 23,
   "metadata": {},
   "outputs": [],
   "source": [
    "def estimates(age, mode):\n",
    "    print('Mean: ',np.mean(age))\n",
    "    print('Median: ',np.median(age))\n",
    "    print('Mode: ', mode)\n",
    "    print('Variance: ',np.var(age))\n",
    "    print('Standard Deviation: ',np.std(age))\n",
    "    print('Standard Error: ',np.std(age)/(np.sqrt(len(age)-1)))"
   ]
  },
  {
   "cell_type": "code",
   "execution_count": 24,
   "metadata": {},
   "outputs": [
    {
     "name": "stdout",
     "output_type": "stream",
     "text": [
      "Question 1\n",
      "\n",
      "Mean:  9.857142857142858\n",
      "Median:  10.0\n",
      "Mode:  8\n",
      "Variance:  6.408163265306122\n",
      "Standard Deviation:  2.531435020952764\n",
      "Standard Error:  1.0334540197243194\n"
     ]
    }
   ],
   "source": [
    "age = [14, 12, 11, 10, 8, 6, 8]\n",
    "print('Question 1')\n",
    "print()\n",
    "estimates(age, 8)"
   ]
  },
  {
   "cell_type": "code",
   "execution_count": 25,
   "metadata": {},
   "outputs": [
    {
     "name": "stdout",
     "output_type": "stream",
     "text": [
      "Question 2\n",
      "\n",
      "Central Tendecy: Mean because it shows the age value that is closest to everyone\n",
      "Variance: Standard Deviation because it provides insight on the range of the data\n"
     ]
    }
   ],
   "source": [
    "print('Question 2')\n",
    "print()\n",
    "print(\"\"\"Central Tendecy: Mean because it shows the age value that is closest to everyone\n",
    "Variance: Standard Deviation because it provides insight on the range of the data\"\"\")"
   ]
  },
  {
   "cell_type": "code",
   "execution_count": 26,
   "metadata": {},
   "outputs": [
    {
     "name": "stdout",
     "output_type": "stream",
     "text": [
      "Question 3\n",
      "\n",
      "Mean:  10.0\n",
      "Median:  10.0\n",
      "Mode:  8\n",
      "Variance:  5.428571428571429\n",
      "Standard Deviation:  2.32992949004287\n",
      "Standard Error:  0.951189731211342\n",
      "\n",
      "My estimate choices have not changed for their original reasonings still apply\n"
     ]
    }
   ],
   "source": [
    "age2 = [14, 12, 11, 10, 8, 7, 8]\n",
    "print('Question 3')\n",
    "print()\n",
    "estimates(age2, 8)\n",
    "print()\n",
    "print('My estimate choices have not changed for their original reasonings still apply')"
   ]
  },
  {
   "cell_type": "code",
   "execution_count": 27,
   "metadata": {},
   "outputs": [
    {
     "name": "stdout",
     "output_type": "stream",
     "text": [
      "Question 4\n",
      "\n",
      "Mean:  9.0\n",
      "Median:  10.0\n",
      "Mode:  NA\n",
      "Variance:  15.428571428571429\n",
      "Standard Deviation:  3.927922024247863\n",
      "Standard Error:  1.6035674514745466\n",
      "\n",
      "Median would be a better choice now\n"
     ]
    }
   ],
   "source": [
    "age3 = [14, 12, 11, 10, 8, 7, 1]\n",
    "print('Question 4')\n",
    "print()\n",
    "estimates(age3, 'NA')\n",
    "print()\n",
    "print('Median would be a better choice now')"
   ]
  },
  {
   "cell_type": "code",
   "execution_count": 30,
   "metadata": {},
   "outputs": [
    {
     "name": "stdout",
     "output_type": "stream",
     "text": [
      "Question 5\n",
      "\n",
      "I would estimate approximately 20% of Americans we fans of\n",
      "The Brady Bunch on the 50th anniversary of the show because the \n",
      "last magazine is skewed due to their niche demographic.\n"
     ]
    }
   ],
   "source": [
    "print('Question 5')\n",
    "print()\n",
    "print(\"\"\"I would estimate approximately 20% of Americans we fans of\n",
    "The Brady Bunch on the 50th anniversary of the show because the \n",
    "last magazine is skewed due to their niche demographic.\"\"\")"
   ]
  }
 ],
 "metadata": {
  "kernelspec": {
   "display_name": "Python 3",
   "language": "python",
   "name": "python3"
  },
  "language_info": {
   "codemirror_mode": {
    "name": "ipython",
    "version": 3
   },
   "file_extension": ".py",
   "mimetype": "text/x-python",
   "name": "python",
   "nbconvert_exporter": "python",
   "pygments_lexer": "ipython3",
   "version": "3.7.0"
  }
 },
 "nbformat": 4,
 "nbformat_minor": 2
}
